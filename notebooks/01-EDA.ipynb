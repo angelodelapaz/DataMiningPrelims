{
 "cells": [
  {
   "cell_type": "markdown",
   "metadata": {},
   "source": [
    "# 1. Data Import & Exploration\n"
   ]
  },
  {
   "cell_type": "markdown",
   "metadata": {},
   "source": [
    "## Load the large dataset\n"
   ]
  },
  {
   "cell_type": "code",
   "execution_count": 1,
   "metadata": {},
   "outputs": [
    {
     "name": "stderr",
     "output_type": "stream",
     "text": [
      "/var/folders/mp/c7pgmq8j0472f05vnx5h16000000gn/T/ipykernel_84028/1772706027.py:3: DtypeWarning: Columns (77) have mixed types. Specify dtype option on import or set low_memory=False.\n",
      "  fies_df = pd.read_csv('../datasets/fies_2023_volume1_494887610821.csv')\n"
     ]
    },
    {
     "data": {
      "text/html": [
       "<div>\n",
       "<style scoped>\n",
       "    .dataframe tbody tr th:only-of-type {\n",
       "        vertical-align: middle;\n",
       "    }\n",
       "\n",
       "    .dataframe tbody tr th {\n",
       "        vertical-align: top;\n",
       "    }\n",
       "\n",
       "    .dataframe thead th {\n",
       "        text-align: right;\n",
       "    }\n",
       "</style>\n",
       "<table border=\"1\" class=\"dataframe\">\n",
       "  <thead>\n",
       "    <tr style=\"text-align: right;\">\n",
       "      <th></th>\n",
       "      <th>RDMD_ID</th>\n",
       "      <th>Region</th>\n",
       "      <th>Province</th>\n",
       "      <th>Household ID</th>\n",
       "      <th>RECODED PROVINCE</th>\n",
       "      <th>Family Size</th>\n",
       "      <th>Salaries/Wages from Regular Employment</th>\n",
       "      <th>Salaries/Wages from Seasonal Employment</th>\n",
       "      <th>Income from Salaries and Wages</th>\n",
       "      <th>Net Share of Crops, Fruits, etc. (Tot. Net Value of Share)</th>\n",
       "      <th>...</th>\n",
       "      <th>Raising Factor</th>\n",
       "      <th>Final Population Weights</th>\n",
       "      <th>Urban / Rural</th>\n",
       "      <th>Per Capita Income</th>\n",
       "      <th>NPCINC</th>\n",
       "      <th>RPCINC</th>\n",
       "      <th>Per Capita Income Decile (Province)</th>\n",
       "      <th>pPCINC</th>\n",
       "      <th>Per Capita Income Decile (Region with Negros Island Region (NIR))</th>\n",
       "      <th>Region (with NIR)</th>\n",
       "    </tr>\n",
       "  </thead>\n",
       "  <tbody>\n",
       "    <tr>\n",
       "      <th>0</th>\n",
       "      <td>1</td>\n",
       "      <td>1</td>\n",
       "      <td>28</td>\n",
       "      <td>1</td>\n",
       "      <td>2800</td>\n",
       "      <td>2.5</td>\n",
       "      <td>119000</td>\n",
       "      <td>0</td>\n",
       "      <td>119000</td>\n",
       "      <td>0</td>\n",
       "      <td>...</td>\n",
       "      <td>88.543663</td>\n",
       "      <td>229.392223</td>\n",
       "      <td>2</td>\n",
       "      <td>242828.000000</td>\n",
       "      <td>10</td>\n",
       "      <td>10</td>\n",
       "      <td>10</td>\n",
       "      <td>10</td>\n",
       "      <td>10</td>\n",
       "      <td>1</td>\n",
       "    </tr>\n",
       "    <tr>\n",
       "      <th>1</th>\n",
       "      <td>2</td>\n",
       "      <td>1</td>\n",
       "      <td>28</td>\n",
       "      <td>2</td>\n",
       "      <td>2800</td>\n",
       "      <td>6.0</td>\n",
       "      <td>154400</td>\n",
       "      <td>0</td>\n",
       "      <td>154400</td>\n",
       "      <td>0</td>\n",
       "      <td>...</td>\n",
       "      <td>88.543663</td>\n",
       "      <td>550.541336</td>\n",
       "      <td>2</td>\n",
       "      <td>68663.335938</td>\n",
       "      <td>5</td>\n",
       "      <td>5</td>\n",
       "      <td>2</td>\n",
       "      <td>2</td>\n",
       "      <td>5</td>\n",
       "      <td>1</td>\n",
       "    </tr>\n",
       "    <tr>\n",
       "      <th>2</th>\n",
       "      <td>3</td>\n",
       "      <td>1</td>\n",
       "      <td>28</td>\n",
       "      <td>3</td>\n",
       "      <td>2800</td>\n",
       "      <td>3.5</td>\n",
       "      <td>683452</td>\n",
       "      <td>0</td>\n",
       "      <td>683452</td>\n",
       "      <td>0</td>\n",
       "      <td>...</td>\n",
       "      <td>88.543663</td>\n",
       "      <td>321.149113</td>\n",
       "      <td>2</td>\n",
       "      <td>233774.859375</td>\n",
       "      <td>10</td>\n",
       "      <td>10</td>\n",
       "      <td>10</td>\n",
       "      <td>10</td>\n",
       "      <td>10</td>\n",
       "      <td>1</td>\n",
       "    </tr>\n",
       "    <tr>\n",
       "      <th>3</th>\n",
       "      <td>4</td>\n",
       "      <td>1</td>\n",
       "      <td>28</td>\n",
       "      <td>4</td>\n",
       "      <td>2800</td>\n",
       "      <td>2.5</td>\n",
       "      <td>48200</td>\n",
       "      <td>0</td>\n",
       "      <td>48200</td>\n",
       "      <td>10000</td>\n",
       "      <td>...</td>\n",
       "      <td>88.543663</td>\n",
       "      <td>229.392223</td>\n",
       "      <td>2</td>\n",
       "      <td>103415.203125</td>\n",
       "      <td>7</td>\n",
       "      <td>8</td>\n",
       "      <td>5</td>\n",
       "      <td>5</td>\n",
       "      <td>8</td>\n",
       "      <td>1</td>\n",
       "    </tr>\n",
       "    <tr>\n",
       "      <th>4</th>\n",
       "      <td>5</td>\n",
       "      <td>1</td>\n",
       "      <td>28</td>\n",
       "      <td>5</td>\n",
       "      <td>2800</td>\n",
       "      <td>3.0</td>\n",
       "      <td>400994</td>\n",
       "      <td>0</td>\n",
       "      <td>400994</td>\n",
       "      <td>0</td>\n",
       "      <td>...</td>\n",
       "      <td>88.543663</td>\n",
       "      <td>275.270668</td>\n",
       "      <td>2</td>\n",
       "      <td>183574.671875</td>\n",
       "      <td>9</td>\n",
       "      <td>10</td>\n",
       "      <td>9</td>\n",
       "      <td>9</td>\n",
       "      <td>10</td>\n",
       "      <td>1</td>\n",
       "    </tr>\n",
       "  </tbody>\n",
       "</table>\n",
       "<p>5 rows × 91 columns</p>\n",
       "</div>"
      ],
      "text/plain": [
       "   RDMD_ID  Region  Province  Household ID  RECODED PROVINCE  Family Size  \\\n",
       "0        1       1        28             1              2800          2.5   \n",
       "1        2       1        28             2              2800          6.0   \n",
       "2        3       1        28             3              2800          3.5   \n",
       "3        4       1        28             4              2800          2.5   \n",
       "4        5       1        28             5              2800          3.0   \n",
       "\n",
       "   Salaries/Wages from Regular Employment  \\\n",
       "0                                  119000   \n",
       "1                                  154400   \n",
       "2                                  683452   \n",
       "3                                   48200   \n",
       "4                                  400994   \n",
       "\n",
       "   Salaries/Wages from Seasonal Employment  Income from Salaries and Wages  \\\n",
       "0                                        0                          119000   \n",
       "1                                        0                          154400   \n",
       "2                                        0                          683452   \n",
       "3                                        0                           48200   \n",
       "4                                        0                          400994   \n",
       "\n",
       "   Net Share of Crops, Fruits, etc. (Tot. Net Value of Share)  ...  \\\n",
       "0                                                  0           ...   \n",
       "1                                                  0           ...   \n",
       "2                                                  0           ...   \n",
       "3                                              10000           ...   \n",
       "4                                                  0           ...   \n",
       "\n",
       "   Raising Factor  Final Population Weights  Urban / Rural  Per Capita Income  \\\n",
       "0       88.543663                229.392223              2      242828.000000   \n",
       "1       88.543663                550.541336              2       68663.335938   \n",
       "2       88.543663                321.149113              2      233774.859375   \n",
       "3       88.543663                229.392223              2      103415.203125   \n",
       "4       88.543663                275.270668              2      183574.671875   \n",
       "\n",
       "   NPCINC  RPCINC  Per Capita Income Decile (Province)  pPCINC  \\\n",
       "0      10      10                                   10      10   \n",
       "1       5       5                                    2       2   \n",
       "2      10      10                                   10      10   \n",
       "3       7       8                                    5       5   \n",
       "4       9      10                                    9       9   \n",
       "\n",
       "   Per Capita Income Decile (Region with Negros Island Region (NIR))  \\\n",
       "0                                                 10                   \n",
       "1                                                  5                   \n",
       "2                                                 10                   \n",
       "3                                                  8                   \n",
       "4                                                 10                   \n",
       "\n",
       "   Region (with NIR)  \n",
       "0                  1  \n",
       "1                  1  \n",
       "2                  1  \n",
       "3                  1  \n",
       "4                  1  \n",
       "\n",
       "[5 rows x 91 columns]"
      ]
     },
     "execution_count": 1,
     "metadata": {},
     "output_type": "execute_result"
    }
   ],
   "source": [
    "import pandas as pd\n",
    "import numpy as np\n",
    "fies_df = pd.read_csv('../datasets/fies_2023_volume1_494887610821.csv')\n",
    "fies_df.head()"
   ]
  },
  {
   "cell_type": "markdown",
   "metadata": {},
   "source": [
    "# 2. Identifying Data and Attributes\n"
   ]
  },
  {
   "cell_type": "markdown",
   "metadata": {},
   "source": [
    "## List all column types and data types\n"
   ]
  },
  {
   "cell_type": "code",
   "execution_count": 2,
   "metadata": {},
   "outputs": [
    {
     "name": "stdout",
     "output_type": "stream",
     "text": [
      "RDMD_ID: int64\n",
      "Region: int64\n",
      "Province: int64\n",
      "Household ID: int64\n",
      "RECODED PROVINCE: int64\n",
      "Family Size: float64\n",
      "Salaries/Wages from Regular Employment: int64\n",
      "Salaries/Wages from Seasonal Employment: int64\n",
      "Income from Salaries and Wages: int64\n",
      "Net Share of Crops, Fruits, etc. (Tot. Net Value of Share): int64\n",
      "Cash Receipts, Support, etc. from Abroad: int64\n",
      "Cash Receipts, Support, etc. from Domestic Source: int64\n",
      "Rentals Received from Non-Agri Lands, etc.: int64\n",
      "Unnamed: 13: int64\n",
      "Pension and Retirement Benefits: int64\n",
      "Dividends from Investment: int64\n",
      "Other Sources of Income NEC: int64\n",
      "Family Sustenance Activities: int64\n",
      "Total Received as Gifts: float64\n",
      "Crop Farming and Gardening: int64\n",
      "Livestock and Poultry Raising: int64\n",
      "Fishing: int64\n",
      "Forestry and Hunting: int64\n",
      "Wholesale and Retail: int64\n",
      "Manufacturing: int64\n",
      "Transportation, Storage Services: int64\n",
      "Entrep. Activities NEC: int64\n",
      "Entrep. Activities NEC.1: int64\n",
      "Entrep. Activities NEC.2: int64\n",
      "Hhld, Income from Entrepreneurial Activities, Total: int64\n",
      "Losses from EA: int64\n",
      "Cereal and Cereal Preparations (Total): float64\n",
      "Meat and Meat Preparations: float64\n",
      "Fish and Marine Products (Total): float64\n",
      "Dairy Products and Eggs (Total): float64\n",
      "Oils and Fats (Total): float64\n",
      "Fruits and Vegetables: float64\n",
      "Vegetables (Total): float64\n",
      "Sugar, Jam and Honey (Total): float64\n",
      "Food Not Elsewhere Classified (Total): float64\n",
      "Fruit and vegetable juices: float64\n",
      "Coffee, Cocoa and Tea (Total): float64\n",
      "Tea (total)  expenditure: float64\n",
      "Cocoa (total)  expenditure: float64\n",
      "Main Source of Water Supply (2nd visit only): float64\n",
      "Softdrinks: float64\n",
      "Other Non Alcoholic Beverages: float64\n",
      "Alcoholic Beverages (Total): float64\n",
      "Tobacco (Total): float64\n",
      "Other Vegetables (Total): float64\n",
      "Services_Primary_Goods: int64\n",
      "Alcohol Procduction Services: int64\n",
      "Total Food Consumed at Home (Total): float64\n",
      "Food Regularly Consumed Outside The Home (Total): float64\n",
      "Hhld, Food: float64\n",
      "Clothing, Footwear and Other Wear: int64\n",
      "Housing and water (Total): int64\n",
      "Actual House Rent: int64\n",
      "Imputed House Rental Value: int64\n",
      "Imputed Housing Benefit Rental Value: int64\n",
      "House Rent/Rental Value: int64\n",
      "Furnishings, Household Equipment & Routine Household Mainte: int64\n",
      "Health (Total): int64\n",
      "Transportation (Total): int64\n",
      "Communication (Total): int64\n",
      "Recreation and Culture (Total): int64\n",
      "Education (Total): int64\n",
      "Insurance: int64\n",
      "Miscellaneous Goods and Services (Total): int64\n",
      "Durable Furniture: int64\n",
      "Special Family Occasion: int64\n",
      "Other Expenditure (inc. Value Consumed, Losses): int64\n",
      "Other Disbursements: int64\n",
      "Accomodation Services: int64\n",
      "Total Non-Food Expenditure: float64\n",
      "Hhld, Income, Total: float64\n",
      "Hhld, Expenditures, Total: float64\n",
      "Total Household Disbursements: object\n",
      "Other Receipts: int64\n",
      "Total Receipts: float64\n",
      "Psu (Recode): int64\n",
      "Raising Factor: float64\n",
      "Final Population Weights: float64\n",
      "Urban / Rural: int64\n",
      "Per Capita Income: float64\n",
      "NPCINC: int64\n",
      "RPCINC: int64\n",
      "Per Capita Income Decile (Province): int64\n",
      "pPCINC: int64\n",
      "Per Capita Income Decile (Region with Negros Island Region (NIR)): int64\n",
      "Region (with NIR): int64\n"
     ]
    }
   ],
   "source": [
    "columns_and_datatypes = pd.DataFrame({\n",
    "    'Data Type': fies_df.dtypes\n",
    "}, index=fies_df.columns)\n",
    "# Display all rows of the DataFrame\n",
    "for index, row in columns_and_datatypes.iterrows():\n",
    "    print(f\"{index}: {row['Data Type']}\")"
   ]
  },
  {
   "cell_type": "markdown",
   "metadata": {},
   "source": [
    "All columns seem to be either an integer or a float value.\n"
   ]
  },
  {
   "cell_type": "code",
   "execution_count": 3,
   "metadata": {},
   "outputs": [],
   "source": [
    "# Code to remove \"\" from column names\n",
    "fies_df.columns = fies_df.columns.str.strip('\"')"
   ]
  },
  {
   "cell_type": "markdown",
   "metadata": {},
   "source": [
    "# 3. Determining the Type of Dataset\n"
   ]
  },
  {
   "cell_type": "markdown",
   "metadata": {},
   "source": [
    "## Check if columns are numerical, categorical, or mixed.\n"
   ]
  },
  {
   "cell_type": "code",
   "execution_count": 4,
   "metadata": {},
   "outputs": [
    {
     "name": "stdout",
     "output_type": "stream",
     "text": [
      "RDMD_ID: integer\n",
      "Region: integer\n",
      "Province: integer\n",
      "Household ID: integer\n",
      "RECODED PROVINCE: integer\n",
      "Family Size: integer\n",
      "Salaries/Wages from Regular Employment: integer\n",
      "Salaries/Wages from Seasonal Employment: integer\n",
      "Income from Salaries and Wages: integer\n",
      "Net Share of Crops, Fruits, etc. (Tot. Net Value of Share): integer\n",
      "Cash Receipts, Support, etc. from Abroad: integer\n",
      "Cash Receipts, Support, etc. from Domestic Source: integer\n",
      "Rentals Received from Non-Agri Lands, etc.: integer\n",
      "Unnamed: 13: integer\n",
      "Pension and Retirement Benefits: integer\n",
      "Dividends from Investment: integer\n",
      "Other Sources of Income NEC: integer\n",
      "Family Sustenance Activities: integer\n",
      "Total Received as Gifts: integer\n",
      "Crop Farming and Gardening: integer\n",
      "Livestock and Poultry Raising: integer\n",
      "Fishing: integer\n",
      "Forestry and Hunting: integer\n",
      "Wholesale and Retail: integer\n",
      "Manufacturing: integer\n",
      "Transportation, Storage Services: integer\n",
      "Entrep. Activities NEC: integer\n",
      "Entrep. Activities NEC.1: integer\n",
      "Entrep. Activities NEC.2: integer\n",
      "Hhld, Income from Entrepreneurial Activities, Total: integer\n",
      "Losses from EA: integer\n",
      "Cereal and Cereal Preparations (Total): integer\n",
      "Meat and Meat Preparations: integer\n",
      "Fish and Marine Products (Total): integer\n",
      "Dairy Products and Eggs (Total): integer\n",
      "Oils and Fats (Total): integer\n",
      "Fruits and Vegetables: integer\n",
      "Vegetables (Total): integer\n",
      "Sugar, Jam and Honey (Total): integer\n",
      "Food Not Elsewhere Classified (Total): integer\n",
      "Fruit and vegetable juices: integer\n",
      "Coffee, Cocoa and Tea (Total): integer\n",
      "Tea (total)  expenditure: integer\n",
      "Cocoa (total)  expenditure: integer\n",
      "Main Source of Water Supply (2nd visit only): integer\n",
      "Softdrinks: integer\n",
      "Other Non Alcoholic Beverages: integer\n",
      "Alcoholic Beverages (Total): integer\n",
      "Tobacco (Total): integer\n",
      "Other Vegetables (Total): integer\n",
      "Services_Primary_Goods: integer\n",
      "Alcohol Procduction Services: integer\n",
      "Total Food Consumed at Home (Total): integer\n",
      "Food Regularly Consumed Outside The Home (Total): integer\n",
      "Hhld, Food: integer\n",
      "Clothing, Footwear and Other Wear: integer\n",
      "Housing and water (Total): integer\n",
      "Actual House Rent: integer\n",
      "Imputed House Rental Value: integer\n",
      "Imputed Housing Benefit Rental Value: integer\n",
      "House Rent/Rental Value: integer\n",
      "Furnishings, Household Equipment & Routine Household Mainte: integer\n",
      "Health (Total): integer\n",
      "Transportation (Total): integer\n",
      "Communication (Total): integer\n",
      "Recreation and Culture (Total): integer\n",
      "Education (Total): integer\n",
      "Insurance: integer\n",
      "Miscellaneous Goods and Services (Total): integer\n",
      "Durable Furniture: integer\n",
      "Special Family Occasion: integer\n",
      "Other Expenditure (inc. Value Consumed, Losses): integer\n",
      "Other Disbursements: integer\n",
      "Accomodation Services: integer\n",
      "Total Non-Food Expenditure: integer\n",
      "Hhld, Income, Total: integer\n",
      "Hhld, Expenditures, Total: integer\n",
      "Total Household Disbursements: integer\n",
      "Other Receipts: integer\n",
      "Total Receipts: integer\n",
      "Psu (Recode): integer\n",
      "Raising Factor: integer\n",
      "Final Population Weights: integer\n",
      "Urban / Rural: integer\n",
      "Per Capita Income: integer\n",
      "NPCINC: integer\n",
      "RPCINC: integer\n",
      "Per Capita Income Decile (Province): integer\n",
      "pPCINC: integer\n",
      "Per Capita Income Decile (Region with Negros Island Region (NIR)): integer\n",
      "Region (with NIR): integer\n"
     ]
    }
   ],
   "source": [
    "column_check = pd.DataFrame({\n",
    "    'Column Type': None\n",
    "}, index=fies_df.columns)\n",
    "\n",
    "for column in fies_df.columns:\n",
    "    column_check['Column Type'] = pd.api.types.infer_dtype(fies_df[column])\n",
    "\n",
    "for index, row in column_check.iterrows():\n",
    "    print(f\"{index}: {row['Column Type']}\")"
   ]
  },
  {
   "cell_type": "markdown",
   "metadata": {},
   "source": [
    "All the columns seem to be numerical. However, an excel file that contains all metadata on what certain numbers in certain columns mean is provided by the PSA, (ex. Region Number Equivalents).\n"
   ]
  },
  {
   "cell_type": "markdown",
   "metadata": {},
   "source": [
    "## Making a Data Dictionary\n"
   ]
  },
  {
   "cell_type": "code",
   "execution_count": 5,
   "metadata": {},
   "outputs": [],
   "source": [
    "fies_column_descriptions = {\n",
    "    'RDMD_ID': 'Unique identifier for the record',\n",
    "    'Region': 'Region code',\n",
    "    'Province': 'Province code',\n",
    "    'Household ID': 'Unique household identifier',\n",
    "    'RECODED PROVINCE': 'Recoded province information',\n",
    "    'Family Size': 'Number of people in the household',\n",
    "    'Salaries/Wages from Regular Employment': 'Income from regular employment',\n",
    "    'Salaries/Wages from Seasonal Employment': 'Income from seasonal employment',\n",
    "    'Income from Salaries and Wages': 'Total income from salaries and wages',\n",
    "    'Net Share of Crops, Fruits, etc. (Tot. Net Value of Share)': 'Net value from crop and fruit share',\n",
    "    'Cash Receipts, Support, etc. from Abroad': 'Cash support received from abroad',\n",
    "    'Cash Receipts, Support, etc. from Domestic Source': 'Cash support received domestically',\n",
    "    'Rentals Received from Non-Agri Lands, etc.': 'Income from land rentals (non-agricultural)',\n",
    "    'Unnamed: 13': 'Unknown or unnamed column',\n",
    "    'Pension and Retirement Benefits': 'Income from pensions and retirement',\n",
    "    'Dividends from Investment': 'Income from dividends',\n",
    "    'Other Sources of Income NEC': 'Other sources of income not elsewhere classified',\n",
    "    'Family Sustenance Activities': 'Income from family sustenance activities',\n",
    "    'Total Received as Gifts': 'Total gifts received by the household',\n",
    "    'Crop Farming and Gardening': 'Income from crop farming and gardening',\n",
    "    'Livestock and Poultry Raising': 'Income from livestock and poultry raising',\n",
    "    'Fishing': 'Income from fishing activities',\n",
    "    'Forestry and Hunting': 'Income from forestry and hunting',\n",
    "    'Wholesale and Retail': 'Income from wholesale and retail business',\n",
    "    'Manufacturing': 'Income from manufacturing activities',\n",
    "    'Transportation, Storage Services': 'Income from transportation and storage services',\n",
    "    'Entrep. Activities NEC': 'Income from entrepreneurial activities (not elsewhere classified)',\n",
    "    'Entrep. Activities NEC.1': 'Income from entrepreneurial activities (additional category 1)',\n",
    "    'Entrep. Activities NEC.2': 'Income from entrepreneurial activities (additional category 2)',\n",
    "    'Hhld, Income from Entrepreneurial Activities, Total': 'Total household income from entrepreneurial activities',\n",
    "    'Losses from EA': 'Losses from entrepreneurial activities',\n",
    "    'Cereal and Cereal Preparations (Total)': 'Expenditure on cereals and cereal preparations',\n",
    "    'Meat and Meat Preparations': 'Expenditure on meat and meat preparations',\n",
    "    'Fish and Marine Products (Total)': 'Expenditure on fish and marine products',\n",
    "    'Dairy Products and Eggs (Total)': 'Expenditure on dairy products and eggs',\n",
    "    'Oils and Fats (Total)': 'Expenditure on oils and fats',\n",
    "    'Fruits and Vegetables': 'Expenditure on fruits and vegetables',\n",
    "    'Vegetables (Total)': 'Expenditure on vegetables',\n",
    "    'Sugar, Jam and Honey (Total)': 'Expenditure on sugar, jam, and honey',\n",
    "    'Food Not Elsewhere Classified (Total)': 'Expenditure on other food items',\n",
    "    'Fruit and vegetable juices': 'Expenditure on fruit and vegetable juices',\n",
    "    'Coffee, Cocoa and Tea (Total)': 'Expenditure on coffee, cocoa, and tea',\n",
    "    'Tea (total)  expenditure': 'Expenditure on tea',\n",
    "    'Cocoa (total)  expenditure': 'Expenditure on cocoa',\n",
    "    'Main Source of Water Supply (2nd visit only)': 'Main source of water supply (second visit)',\n",
    "    'Softdrinks': 'Expenditure on soft drinks',\n",
    "    'Other Non Alcoholic Beverages': 'Expenditure on other non-alcoholic beverages',\n",
    "    'Alcoholic Beverages (Total)': 'Expenditure on alcoholic beverages',\n",
    "    'Tobacco (Total)': 'Expenditure on tobacco products',\n",
    "    'Other Vegetables (Total)': 'Expenditure on other types of vegetables',\n",
    "    'Services_Primary_Goods': 'Expenditure on services and primary goods',\n",
    "    'Alcohol Procduction Services': 'Expenditure on alcohol production services',\n",
    "    'Total Food Consumed at Home (Total)': 'Total food consumed at home',\n",
    "    'Food Regularly Consumed Outside The Home (Total)': 'Food consumed outside the home',\n",
    "    'Hhld, Food': 'Household expenditure on food',\n",
    "    'Clothing, Footwear and Other Wear': 'Expenditure on clothing, footwear, and other wear',\n",
    "    'Housing and water (Total)': 'Expenditure on housing and water',\n",
    "    'Actual House Rent': 'Expenditure on actual house rent',\n",
    "    'Imputed House Rental Value': 'Imputed value of house rental',\n",
    "    'Imputed Housing Benefit Rental Value': 'Imputed value of housing benefit rental',\n",
    "    'House Rent/Rental Value': 'Expenditure on house rent/rental value',\n",
    "    'Furnishings, Household Equipment & Routine Household Mainte': 'Expenditure on furnishings and household equipment',\n",
    "    'Health (Total)': 'Expenditure on health services and products',\n",
    "    'Transportation (Total)': 'Expenditure on transportation',\n",
    "    'Communication (Total)': 'Expenditure on communication services',\n",
    "    'Recreation and Culture (Total)': 'Expenditure on recreation and culture',\n",
    "    'Education (Total)': 'Expenditure on education',\n",
    "    'Insurance': 'Expenditure on insurance',\n",
    "    'Miscellaneous Goods and Services (Total)': 'Expenditure on miscellaneous goods and services',\n",
    "    'Durable Furniture': 'Expenditure on durable furniture',\n",
    "    'Special Family Occasion': 'Expenditure on special family occasions',\n",
    "    'Other Expenditure (inc. Value Consumed, Losses)': 'Other expenditures including losses',\n",
    "    'Other Disbursements': 'Other household disbursements',\n",
    "    'Accomodation Services': 'Expenditure on accommodation services',\n",
    "    'Total Non-Food Expenditure': 'Total non-food expenditure',\n",
    "    'Hhld, Income, Total': 'Total household income',\n",
    "    'Hhld, Expenditures, Total': 'Total household expenditures',\n",
    "    'Total Household Disbursements': 'Total household disbursements',\n",
    "    'Other Receipts': 'Other household receipts',\n",
    "    'Total Receipts': 'Total receipts',\n",
    "    'Psu (Recode)': 'Primary Sampling Unit (recoded)',\n",
    "    'Raising Factor': 'Raising factor for survey results',\n",
    "    'Final Population Weights': 'Final weights for population data',\n",
    "    'Urban / Rural': 'Urban or rural classification',\n",
    "    'Per Capita Income': 'Household per capita income',\n",
    "    'NPCINC': 'National per capita income',\n",
    "    'RPCINC': 'Regional per capita income',\n",
    "    'Per Capita Income Decile (Province)': 'Per capita income decile in the province',\n",
    "    'pPCINC': 'Provincial per capita income decile',\n",
    "    'Per Capita Income Decile (Region with Negros Island Region (NIR))': 'Per capita income decile (region with NIR)',\n",
    "    'Region (with NIR)': 'Region code including NIR'\n",
    "}\n"
   ]
  },
  {
   "cell_type": "code",
   "execution_count": 6,
   "metadata": {},
   "outputs": [],
   "source": [
    "fies_derivations = {\n",
    "    'Total Receipts': 'Total Household Income + Other Receipts',\n",
    "    'Hhld, Income, Total': 'Net Share of Crops, Fruits, etc. + Cash Receipts, Support, etc. from Abroad + Cash Receipts, Support, etc. from Domestic Source + Unnamed + Pension and Retirement Benefits + Dividends from Investment + Other Sources of Income NEC + Family Sustenance Activities + Total Received as Gifts + Household, Income from Entrep Activities, Total + Imputed House Rental Value',\n",
    "    'Hhld, Income from Entrepreneurial Activities, Total': 'Crop Farming and Gardening + Livestock and Poultry Raising + Fishing + Forestry and Hunting + Wholesale and Retail + Manufacturing + Transportation, Storage Services + Entrep. Activities NEC + Entrep. Activities NEC 1 + Entrep. Activities NEC 2',\n",
    "    'Total Household Disbursements': 'Total Household Expenditure + Other Disbursements',\n",
    "    'Hhld, Expenditures, Total': 'Household Food + Total Non-Food Expenditure',\n",
    "    'Hhld, Food': 'Total Food Consumed at Home + Food Regularly Consumed Outside The Home',\n",
    "    'Total Food Consumed at Home (Total)': 'Cereal and Cereal Preparations + Meat and Meat Preparations + Fish and Marine Products + Dairy and Eggs + Oils and Fats + Fruits and Vegetables + Vegetables + Sugar, jam and Honey + Food Not Elsewhere Classified + Fruit and Vegetable Juices + Coffee, Cocoa and Tea + Tea + Cocoa + Main Source of Water Supply + Softdrinks + Other Non Alcoholic Beverages',\n",
    "    'Total Non-Food Expenditure': 'Alcoholic Beverages + Tobacco + Other Vegetables + Services_Primary_Goods + Alcoholic Production Services + Housing and water (Total) + Furnishings, Household Equipment & Routine Household Maintenance + Health + Transportation + Communication + Recreation and Culture + Education + Insurance + Miscellaneous Goods and Services + Durable Furniture + Special Family Occasion + Other Expenditure + Accommodation Services + Clothing, Footwear and Other Wear',\n",
    "}\n"
   ]
  },
  {
   "cell_type": "code",
   "execution_count": 7,
   "metadata": {},
   "outputs": [],
   "source": [
    "fies_volume1_data_dict = pd.DataFrame({\n",
    "    'Column Name': fies_df.columns,\n",
    "    'Data Type': fies_df.dtypes,\n",
    "    'Non-Null Count': fies_df.notnull().sum(),\n",
    "    'Unique Values': fies_df.nunique(),\n",
    "    'Description': [fies_column_descriptions.get(col, 'No desciption available') for col in fies_df.columns],\n",
    "    'Derivations from other columns': [fies_derivations.get(col, '') for col in fies_df.columns]\n",
    "})\n",
    "fies_volume1_data_dict.to_csv('../fies_volume1_data_dict.csv', index=False)"
   ]
  },
  {
   "cell_type": "markdown",
   "metadata": {},
   "source": [
    "# 4. Data Quality and Assessment\n"
   ]
  },
  {
   "cell_type": "markdown",
   "metadata": {},
   "source": [
    "## Check for missing values, duplicates, outliers, and wrong data.<b>\n"
   ]
  },
  {
   "cell_type": "markdown",
   "metadata": {},
   "source": [
    "Check for duplicates\n"
   ]
  },
  {
   "cell_type": "code",
   "execution_count": 8,
   "metadata": {},
   "outputs": [
    {
     "name": "stdout",
     "output_type": "stream",
     "text": [
      "Number of rows: 163268\n",
      "Number of rows after dropping duplicates: 163268\n"
     ]
    }
   ],
   "source": [
    "number_of_rows = fies_df.shape[0]\n",
    "\n",
    "print(f\"Number of rows: {number_of_rows}\")\n",
    "\n",
    "removed_duplicates = fies_df.copy()\n",
    "removed_duplicates.drop_duplicates(inplace=True)\n",
    "\n",
    "print(f\"Number of rows after dropping duplicates: {removed_duplicates.shape[0]}\")"
   ]
  },
  {
   "cell_type": "markdown",
   "metadata": {},
   "source": [
    "No duplicates are found.\n"
   ]
  },
  {
   "cell_type": "markdown",
   "metadata": {},
   "source": [
    "From the data dictionary, the Total Household Disbursements column is the only one with an object datatype, suggesting mixed values of numbers, strings, etc.\n"
   ]
  },
  {
   "cell_type": "code",
   "execution_count": 9,
   "metadata": {},
   "outputs": [],
   "source": [
    "for column in removed_duplicates.columns:\n",
    "    if removed_duplicates[column].isnull().any():\n",
    "        print(f\"Column {column} has missing values\")"
   ]
  },
  {
   "cell_type": "markdown",
   "metadata": {},
   "source": [
    "The code block above does not show any null values initially, therefore there is the possibility of data with only whitespace values. The code below will strip all whitespaces\n",
    "to know the true number of missing values.\n"
   ]
  },
  {
   "cell_type": "code",
   "execution_count": 10,
   "metadata": {},
   "outputs": [
    {
     "name": "stdout",
     "output_type": "stream",
     "text": [
      "Number of rows with whitespace: 7732\n"
     ]
    }
   ],
   "source": [
    "# Function to check if a value is whitespace or empty\n",
    "def has_whitespace(val):\n",
    "    return isinstance(val, str) and val.strip() == ''\n",
    "\n",
    "whitespace_rows = removed_duplicates.map(has_whitespace).any(axis=1)\n",
    "\n",
    "whitespace_count = whitespace_rows.sum()\n",
    "\n",
    "print(f\"Number of rows with whitespace: {whitespace_count}\")"
   ]
  },
  {
   "cell_type": "markdown",
   "metadata": {},
   "source": [
    "There are whitespaces. Whitespaces could mean that the value for that data is zero. Therefore, a check must be made to ensure that there are zeroes in the dataset as well to know that whitespaces and zeroes are equivalent.\n"
   ]
  },
  {
   "cell_type": "code",
   "execution_count": 11,
   "metadata": {},
   "outputs": [
    {
     "name": "stdout",
     "output_type": "stream",
     "text": [
      "144056\n"
     ]
    }
   ],
   "source": [
    "print(removed_duplicates['Total Household Disbursements'].value_counts().where(removed_duplicates['Total Household Disbursements'] == 0, 1).sum())"
   ]
  },
  {
   "cell_type": "markdown",
   "metadata": {},
   "source": [
    "Now we detect potential outliers using statistical methods.\n",
    "The main columns to look at are the Total Household Income and Total Household Expenditure columns..\n"
   ]
  },
  {
   "cell_type": "code",
   "execution_count": 12,
   "metadata": {},
   "outputs": [
    {
     "name": "stdout",
     "output_type": "stream",
     "text": [
      "Income Mean: 332147.2798196217\n",
      "Income Median: 241080.0\n",
      "Income Standard Deviation: 406065.14044660714\n"
     ]
    }
   ],
   "source": [
    "income_mean = removed_duplicates['Hhld, Income, Total'].mean()\n",
    "income_median = removed_duplicates['Hhld, Income, Total'].median()\n",
    "income_std = removed_duplicates['Hhld, Income, Total'].std()\n",
    "\n",
    "print(f\"Income Mean: {income_mean}\")\n",
    "print(f\"Income Median: {income_median}\")\n",
    "print(f\"Income Standard Deviation: {income_std}\")"
   ]
  },
  {
   "cell_type": "code",
   "execution_count": 13,
   "metadata": {},
   "outputs": [
    {
     "name": "stdout",
     "output_type": "stream",
     "text": [
      "Expenditure Mean: 243155.34994505966\n",
      "Expenditure Median: 191325.25\n",
      "Expenditure Standard Deviation: 195625.7027338354\n"
     ]
    }
   ],
   "source": [
    "expenditure_mean = removed_duplicates['Hhld, Expenditures, Total'].mean()\n",
    "expenditure_median = removed_duplicates['Hhld, Expenditures, Total'].median()\n",
    "expenditure_std = removed_duplicates['Hhld, Expenditures, Total'].std()\n",
    "\n",
    "print(f\"Expenditure Mean: {expenditure_mean}\")\n",
    "print(f\"Expenditure Median: {expenditure_median}\")\n",
    "print(f\"Expenditure Standard Deviation: {expenditure_std}\")"
   ]
  },
  {
   "cell_type": "markdown",
   "metadata": {},
   "source": [
    "From the results, the mean for the income and expenditure columns are quite large. To see more, a boxplot can be used to visualize the distribution\n"
   ]
  },
  {
   "cell_type": "code",
   "execution_count": 14,
   "metadata": {},
   "outputs": [
    {
     "data": {
      "text/plain": [
       "Text(0, 0.5, 'Value')"
      ]
     },
     "execution_count": 14,
     "metadata": {},
     "output_type": "execute_result"
    },
    {
     "data": {
      "image/png": "[encoded data removed]",
      "text/plain": [
       "<Figure size 640x480 with 1 Axes>"
      ]
     },
     "metadata": {},
     "output_type": "display_data"
    }
   ],
   "source": [
    "import matplotlib.pyplot as plt\n",
    "import seaborn as sns\n",
    "sns.boxplot(removed_duplicates['Hhld, Income, Total'])\n",
    "plt.title('Boxplot of Income')\n",
    "plt.xlabel('Income')\n",
    "plt.ylabel('Value')"
   ]
  },
  {
   "cell_type": "code",
   "execution_count": 15,
   "metadata": {},
   "outputs": [
    {
     "data": {
      "text/plain": [
       "Text(0, 0.5, 'Value')"
      ]
     },
     "execution_count": 15,
     "metadata": {},
     "output_type": "execute_result"
    },
    {
     "data": {
      "image/png": "[encoded data removed]",
      "text/plain": [
       "<Figure size 640x480 with 1 Axes>"
      ]
     },
     "metadata": {},
     "output_type": "display_data"
    }
   ],
   "source": [
    "sns.boxplot(removed_duplicates['Hhld, Expenditures, Total'])\n",
    "plt.title('Boxplot of Expenditures')\n",
    "plt.xlabel('Expenditures')\n",
    "plt.ylabel('Value')"
   ]
  },
  {
   "cell_type": "code",
   "execution_count": 16,
   "metadata": {},
   "outputs": [
    {
     "data": {
      "image/png": "[encoded data removed]",
      "text/plain": [
       "<Figure size 600x400 with 1 Axes>"
      ]
     },
     "metadata": {},
     "output_type": "display_data"
    }
   ],
   "source": [
    "fig, ax = plt.subplots(figsize=(6, 4))\n",
    "ax.scatter(removed_duplicates['Hhld, Income, Total'], removed_duplicates['Hhld, Expenditures, Total'])\n",
    "ax.set_xlabel('Income')\n",
    "ax.set_ylabel('Expenditure')\n",
    "plt.show()"
   ]
  },
  {
   "cell_type": "markdown",
   "metadata": {},
   "source": [
    "From the boxplots and scatter plots, there defenitely are high-value outliers for both Income and Expenditure, and from the column derivations, this also means that by addressing only these two columns, the rest of the outlier columns can be addressed.\n"
   ]
  },
  {
   "cell_type": "markdown",
   "metadata": {},
   "source": [
    "## Impute, discretize and data wrangling\n"
   ]
  },
  {
   "cell_type": "markdown",
   "metadata": {},
   "source": [
    "Since there are zeroes present, the Total Household Disbursements column must be addressed. Upon inspection, Total Household Disbursements can be imputed from the sum of Hhld, Expenditures, Total and Other Disbursements.\n"
   ]
  },
  {
   "cell_type": "code",
   "execution_count": 17,
   "metadata": {},
   "outputs": [],
   "source": [
    "removed_null = removed_duplicates.copy()\n",
    "removed_null.loc[whitespace_rows, 'Total Household Disbursements'] = removed_null.loc[whitespace_rows, \n",
    "                                                                            'Hhld, Expenditures, Total'] + removed_null.loc[whitespace_rows, 'Other Disbursements']"
   ]
  },
  {
   "cell_type": "markdown",
   "metadata": {},
   "source": [
    "Double-check for missing values\n"
   ]
  },
  {
   "cell_type": "code",
   "execution_count": 18,
   "metadata": {},
   "outputs": [
    {
     "name": "stdout",
     "output_type": "stream",
     "text": [
      "Number of rows with whitespace: 0\n"
     ]
    }
   ],
   "source": [
    "whitespace_rows = removed_null.map(has_whitespace).any(axis=1)\n",
    "whitespace_count = whitespace_rows.sum()\n",
    "print(f\"Number of rows with whitespace: {whitespace_count}\")"
   ]
  },
  {
   "cell_type": "markdown",
   "metadata": {},
   "source": [
    "We now address the outliers using the IQR method\n"
   ]
  },
  {
   "cell_type": "code",
   "execution_count": 19,
   "metadata": {},
   "outputs": [
    {
     "name": "stdout",
     "output_type": "stream",
     "text": [
      "Income Q1: 162539.0\n",
      "Income Q3: 389478.0\n",
      "Income IQR: 226939.0\n",
      "Expenditure Q1: 131751.75\n",
      "Expenditure Q3: 293141.125\n",
      "Expenditure IQR: 161389.375\n"
     ]
    }
   ],
   "source": [
    "income_Q1 = removed_null['Hhld, Income, Total'].quantile(0.25)\n",
    "income_Q3 = removed_null['Hhld, Income, Total'].quantile(0.75)\n",
    "income_IQR = income_Q3 - income_Q1\n",
    "print(f\"Income Q1: {income_Q1}\")\n",
    "print(f\"Income Q3: {income_Q3}\")\n",
    "print(f\"Income IQR: {income_IQR}\")\n",
    "\n",
    "expenditure_Q1 = removed_null['Hhld, Expenditures, Total'].quantile(0.25)\n",
    "expenditure_Q3 = removed_null['Hhld, Expenditures, Total'].quantile(0.75)\n",
    "expenditure_IQR = expenditure_Q3 - expenditure_Q1\n",
    "print(f\"Expenditure Q1: {expenditure_Q1}\")\n",
    "print(f\"Expenditure Q3: {expenditure_Q3}\")\n",
    "print(f\"Expenditure IQR: {expenditure_IQR}\")"
   ]
  },
  {
   "cell_type": "code",
   "execution_count": 20,
   "metadata": {},
   "outputs": [
    {
     "name": "stdout",
     "output_type": "stream",
     "text": [
      "Shape before removing outliers: (163268, 91)\n",
      "Shape after removing outliers for Income: (151704, 91)\n",
      "Shape after removing outliers for Expenditure: (149622, 91)\n"
     ]
    }
   ],
   "source": [
    "# Income\n",
    "removed_outliers = removed_null.copy()\n",
    "print('Shape before removing outliers:', removed_outliers.shape)\n",
    "lower_bound_income = income_Q1 - 1.5 * income_IQR\n",
    "upper_bound_income = income_Q3 + 1.5 * income_IQR\n",
    "upper_income = np.where(removed_outliers['Hhld, Income, Total'] >= upper_bound_income)[0]\n",
    "lower_income = np.where(removed_outliers['Hhld, Income, Total'] <= lower_bound_income)[0]\n",
    "\n",
    "removed_outliers.drop(index=upper_income, inplace=True)\n",
    "removed_outliers.drop(index=lower_income, inplace=True)\n",
    "print('Shape after removing outliers for Income:', removed_outliers.shape)\n",
    "\n",
    "# Expenditure\n",
    "lower_bound_expenditure = expenditure_Q1 - 1.5 * expenditure_IQR\n",
    "upper_bound_expenditure = expenditure_Q3 + 1.5 * expenditure_IQR\n",
    "removed_outliers.reset_index(drop=True, inplace=True)\n",
    "upper_expenditure = np.where(removed_outliers['Hhld, Expenditures, Total'] >= upper_bound_expenditure)[0]\n",
    "lower_expenditure = np.where(removed_outliers['Hhld, Expenditures, Total'] <= lower_bound_expenditure)[0]\n",
    "\n",
    "removed_outliers.drop(index=upper_expenditure, inplace=True)\n",
    "removed_outliers.drop(index=lower_expenditure, inplace=True)\n",
    "print('Shape after removing outliers for Expenditure:', removed_outliers.shape)"
   ]
  },
  {
   "cell_type": "markdown",
   "metadata": {},
   "source": [
    "Time to check using the same methods.\n"
   ]
  },
  {
   "cell_type": "code",
   "execution_count": 21,
   "metadata": {},
   "outputs": [
    {
     "name": "stdout",
     "output_type": "stream",
     "text": [
      "Income Mean: 262455.5624159549\n",
      "Income Median: 225647.25\n",
      "Income Standard Deviation: 142442.89244017968\n",
      "Expenditure Mean: 202702.7845026133\n",
      "Expenditure Median: 179935.75\n",
      "Expenditure Standard Deviation: 101436.79255052749\n"
     ]
    }
   ],
   "source": [
    "income_mean = removed_outliers['Hhld, Income, Total'].mean()\n",
    "income_median = removed_outliers['Hhld, Income, Total'].median()\n",
    "income_std = removed_outliers['Hhld, Income, Total'].std()\n",
    "\n",
    "print(f\"Income Mean: {income_mean}\")\n",
    "print(f\"Income Median: {income_median}\")\n",
    "print(f\"Income Standard Deviation: {income_std}\")\n",
    "\n",
    "expenditure_mean = removed_outliers['Hhld, Expenditures, Total'].mean()\n",
    "expenditure_median = removed_outliers['Hhld, Expenditures, Total'].median()\n",
    "expenditure_std = removed_outliers['Hhld, Expenditures, Total'].std()\n",
    "\n",
    "print(f\"Expenditure Mean: {expenditure_mean}\")\n",
    "print(f\"Expenditure Median: {expenditure_median}\")\n",
    "print(f\"Expenditure Standard Deviation: {expenditure_std}\")"
   ]
  },
  {
   "cell_type": "code",
   "execution_count": 22,
   "metadata": {},
   "outputs": [
    {
     "data": {
      "text/plain": [
       "Text(0, 0.5, 'Value')"
      ]
     },
     "execution_count": 22,
     "metadata": {},
     "output_type": "execute_result"
    },
    {
     "data": {
      "image/png": "[encoded data removed]",
      "text/plain": [
       "<Figure size 640x480 with 1 Axes>"
      ]
     },
     "metadata": {},
     "output_type": "display_data"
    }
   ],
   "source": [
    "sns.boxplot(removed_outliers['Hhld, Income, Total'])\n",
    "plt.title('Boxplot of Income')\n",
    "plt.xlabel('Income')\n",
    "plt.ylabel('Value')"
   ]
  },
  {
   "cell_type": "code",
   "execution_count": 23,
   "metadata": {},
   "outputs": [
    {
     "data": {
      "text/plain": [
       "Text(0, 0.5, 'Value')"
      ]
     },
     "execution_count": 23,
     "metadata": {},
     "output_type": "execute_result"
    },
    {
     "data": {
      "image/png": "[encoded data removed]",
      "text/plain": [
       "<Figure size 640x480 with 1 Axes>"
      ]
     },
     "metadata": {},
     "output_type": "display_data"
    }
   ],
   "source": [
    "sns.boxplot(removed_outliers['Hhld, Expenditures, Total'])\n",
    "plt.title('Boxplot of Expenditures')\n",
    "plt.xlabel('Expenditures')\n",
    "plt.ylabel('Value')"
   ]
  },
  {
   "cell_type": "code",
   "execution_count": 24,
   "metadata": {},
   "outputs": [
    {
     "data": {
      "image/png": "[encoded data removed]",
      "text/plain": [
       "<Figure size 600x400 with 1 Axes>"
      ]
     },
     "metadata": {},
     "output_type": "display_data"
    }
   ],
   "source": [
    "fig, ax = plt.subplots(figsize=(6, 4))\n",
    "ax.scatter(removed_outliers['Hhld, Income, Total'], removed_outliers['Hhld, Expenditures, Total'])\n",
    "ax.set_xlabel('Income')\n",
    "ax.set_ylabel('Expenditure')\n",
    "plt.show()"
   ]
  },
  {
   "cell_type": "markdown",
   "metadata": {},
   "source": [
    "The outliers are now removed.\n"
   ]
  },
  {
   "cell_type": "markdown",
   "metadata": {},
   "source": [
    "There is a column named Unnamed_13 in the dataset. We opted to total the unnamed column and other sources of income NEC because the unnamed column contributes to the total income of the household as some of the total income were inaccurate if the unnamed column wans't included\n"
   ]
  },
  {
   "cell_type": "code",
   "execution_count": 25,
   "metadata": {},
   "outputs": [
    {
     "name": "stdout",
     "output_type": "stream",
     "text": [
      "Number of columns before dropping: 91\n",
      "Number of columns after dropping: 90\n"
     ]
    }
   ],
   "source": [
    "imputted_column_13 = removed_outliers.copy()\n",
    "imputted_column_13['Other Sources of Income NEC'] = imputted_column_13['Other Sources of Income NEC'] + imputted_column_13['Unnamed: 13']\n",
    "print(\"Number of columns before dropping:\", imputted_column_13.shape[1])\n",
    "imputted_column_13.drop(columns=['Unnamed: 13'], inplace=True)\n",
    "print(\"Number of columns after dropping:\", imputted_column_13.shape[1])"
   ]
  },
  {
   "cell_type": "markdown",
   "metadata": {},
   "source": [
    "# 5. Quantitative Statistics\n"
   ]
  },
  {
   "cell_type": "markdown",
   "metadata": {},
   "source": [
    "## Generate statistics and provide EDA. Provide illustration\n"
   ]
  },
  {
   "cell_type": "markdown",
   "metadata": {},
   "source": [
    "# 6. Application of Proximity (Distance Analysis)\n"
   ]
  },
  {
   "cell_type": "markdown",
   "metadata": {},
   "source": [
    "## Check for correlation. Provide illustration.\n"
   ]
  },
  {
   "cell_type": "markdown",
   "metadata": {},
   "source": [
    "To start off the distance analysis, we look at various correlations to see the relationship of income and expenditures to each other, and to each of their sources\n"
   ]
  },
  {
   "cell_type": "code",
   "execution_count": 26,
   "metadata": {},
   "outputs": [],
   "source": [
    "# income_expenditure_dataframe = imputted_column_13[['Hhld, Income, Total', 'Hhld, Expenditures, Total']]\n",
    "# income_expenditure_corr = income_expenditure_dataframe.corr(method='pearson')\n",
    "# plt.figure(figsize=(20,10), dpi = 500)\n",
    "# sns.heatmap(income_expenditure_corr,annot=True,fmt=\".2f\", linewidth=.5, cmap='coolwarm')\n",
    "# plt.show()"
   ]
  },
  {
   "cell_type": "markdown",
   "metadata": {},
   "source": [
    "The heatmap says that when income increases, expenditures slightly decreases. But overall, the two variables are highly correlated to each other, meaning that households are more likely to spend much of what they earn.\n"
   ]
  },
  {
   "cell_type": "markdown",
   "metadata": {},
   "source": [
    "We will now correlate income and expencitures with the various sources found in the dataset.\n",
    "Income will be correlated to monetary sources while expenditures will be correlated to various expenses\n"
   ]
  },
  {
   "cell_type": "code",
   "execution_count": 27,
   "metadata": {},
   "outputs": [],
   "source": [
    "monetary_columns = [\n",
    "    'Salaries/Wages from Regular Employment',\n",
    "    'Salaries/Wages from Seasonal Employment',\n",
    "    'Net Share of Crops, Fruits, etc. (Tot. Net Value of Share)',\n",
    "    'Cash Receipts, Support, etc. from Abroad',\n",
    "    'Cash Receipts, Support, etc. from Domestic Source',\n",
    "    'Rentals Received from Non-Agri Lands, etc.',\n",
    "    'Pension and Retirement Benefits',\n",
    "    'Dividends from Investment',\n",
    "    'Other Sources of Income NEC',\n",
    "    'Family Sustenance Activities',\n",
    "    'Total Received as Gifts',\n",
    "    'Crop Farming and Gardening',\n",
    "    'Livestock and Poultry Raising',\n",
    "    'Fishing',\n",
    "    'Forestry and Hunting',\n",
    "    'Wholesale and Retail',\n",
    "    'Manufacturing',\n",
    "    'Transportation, Storage Services',\n",
    "    'Entrep. Activities NEC',\n",
    "    'Entrep. Activities NEC.1',\n",
    "    'Entrep. Activities NEC.2',\n",
    "]\n",
    "\n",
    "cost_columns = [\n",
    "    'Cereal and Cereal Preparations (Total)',\n",
    "    'Meat and Meat Preparations',\n",
    "    'Fish and Marine Products (Total)',\n",
    "    'Dairy Products and Eggs (Total)',\n",
    "    'Oils and Fats (Total)',\n",
    "    'Fruits and Vegetables',\n",
    "    'Vegetables (Total)',\n",
    "    'Sugar, Jam and Honey (Total)',\n",
    "    'Food Not Elsewhere Classified (Total)',\n",
    "    'Fruit and vegetable juices',\n",
    "    'Coffee, Cocoa and Tea (Total)',\n",
    "    'Tea (total)  expenditure',\n",
    "    'Cocoa (total)  expenditure',\n",
    "    'Main Source of Water Supply (2nd visit only)',\n",
    "    'Softdrinks',\n",
    "    'Other Non Alcoholic Beverages',\n",
    "    'Alcoholic Beverages (Total)',\n",
    "    'Tobacco (Total)',\n",
    "    'Other Vegetables (Total)',\n",
    "    'Services_Primary_Goods',\n",
    "    'Alcohol Procduction Services',\n",
    "    'Food Regularly Consumed Outside The Home (Total)',\n",
    "    'Clothing, Footwear and Other Wear',\n",
    "    'Housing and water (Total)',\n",
    "    'Actual House Rent',\n",
    "    'Furnishings, Household Equipment & Routine Household Mainte',\n",
    "    'Health (Total)',\n",
    "    'Transportation (Total)',\n",
    "    'Communication (Total)',\n",
    "    'Recreation and Culture (Total)',\n",
    "    'Education (Total)',\n",
    "    'Insurance',\n",
    "    'Miscellaneous Goods and Services (Total)',\n",
    "    'Durable Furniture',\n",
    "    'Special Family Occasion',\n",
    "    'Other Expenditure (inc. Value Consumed, Losses)',\n",
    "    'Accomodation Services',\n",
    "]"
   ]
  },
  {
   "cell_type": "markdown",
   "metadata": {},
   "source": [
    "To have a smoother heatmap, all similar columns will be combined to a category.\n"
   ]
  },
  {
   "cell_type": "code",
   "execution_count": 28,
   "metadata": {},
   "outputs": [],
   "source": [
    "# income_dataframe = imputted_column_13[monetary_columns]\n",
    "\n",
    "# # Combine similar columns to reduce dimensionality\n",
    "# income_dataframe['Salaries/Wages'] = income_dataframe['Salaries/Wages from Regular Employment'] + income_dataframe['Salaries/Wages from Seasonal Employment']\n",
    "# income_dataframe['Cash Receipts'] = income_dataframe['Cash Receipts, Support, etc. from Abroad'] + income_dataframe['Cash Receipts, Support, etc. from Domestic Source']\n",
    "# income_dataframe['Farming'] = income_dataframe['Crop Farming and Gardening'] + income_dataframe['Net Share of Crops, Fruits, etc. (Tot. Net Value of Share)']\n",
    "# income_dataframe['Logistics and Manufacturing'] = income_dataframe['Wholesale and Retail'] + income_dataframe['Transportation, Storage Services'] + income_dataframe['Manufacturing']\n",
    "# income_dataframe['Entrep. Activities'] = income_dataframe['Entrep. Activities NEC'] + income_dataframe['Entrep. Activities NEC.1'] + income_dataframe['Entrep. Activities NEC.2']\n",
    "# income_dataframe['Passive Income'] = income_dataframe['Total Received as Gifts'] + income_dataframe['Family Sustenance Activities'] + income_dataframe['Pension and Retirement Benefits'] + income_dataframe['Dividends from Investment'] + income_dataframe['Rentals Received from Non-Agri Lands, etc.']\n",
    "# income_dataframe['Livestocks'] = income_dataframe['Livestock and Poultry Raising'] + income_dataframe['Fishing'] + income_dataframe['Forestry and Hunting']\n",
    "# income_dataframe['Other Income NEC'] = income_dataframe['Other Sources of Income NEC']\n",
    "\n",
    "# # Drop the original columns\n",
    "# income_dataframe.drop(columns=monetary_columns, inplace=True)"
   ]
  },
  {
   "cell_type": "code",
   "execution_count": 29,
   "metadata": {},
   "outputs": [],
   "source": [
    "# income_corr = income_dataframe.corr(method='pearson')\n",
    "# plt.figure(figsize=(20,10), dpi = 500)\n",
    "# sns.heatmap(income_corr,annot=True,fmt=\".2f\", linewidth=.5, cmap='coolwarm')\n",
    "# plt.show()"
   ]
  },
  {
   "cell_type": "markdown",
   "metadata": {},
   "source": [
    "As seen from the heatmap above, all monetary sources are surprisingly not much correlated to each other. Negative correlations can be interpreted as households not having much revenue streams in many categories. Particularly in the Salaries/Wages column not having a positive correlation with other sources.\n"
   ]
  },
  {
   "cell_type": "code",
   "execution_count": 30,
   "metadata": {},
   "outputs": [],
   "source": [
    "# expenditure_dataframe = imputted_column_13[cost_columns]\n",
    "\n",
    "# expenditure_dataframe['Processed Foods'] = expenditure_dataframe['Cereal and Cereal Preparations (Total)'] + expenditure_dataframe['Sugar, Jam and Honey (Total)'] + expenditure_dataframe['Softdrinks'] + expenditure_dataframe['Oils and Fats (Total)']\n",
    "# expenditure_dataframe['Non-Processed Foods'] = expenditure_dataframe['Meat and Meat Preparations'] + expenditure_dataframe['Fish and Marine Products (Total)'] + expenditure_dataframe['Dairy Products and Eggs (Total)']\n",
    "# expenditure_dataframe['Other Foods'] = expenditure_dataframe['Food Not Elsewhere Classified (Total)'] + expenditure_dataframe['Food Regularly Consumed Outside The Home (Total)']\n",
    "# expenditure_dataframe['Fruits and Vegetables and Juices'] = expenditure_dataframe['Fruits and Vegetables'] + expenditure_dataframe['Vegetables (Total)'] + expenditure_dataframe['Fruit and vegetable juices'] + expenditure_dataframe['Other Vegetables (Total)']\n",
    "# expenditure_dataframe['Non-Alcoholic Beverages'] = expenditure_dataframe['Coffee, Cocoa and Tea (Total)'] + expenditure_dataframe['Tea (total)  expenditure'] + expenditure_dataframe['Cocoa (total)  expenditure'] + expenditure_dataframe['Other Non Alcoholic Beverages']\n",
    "# expenditure_dataframe['Non-Essential Expenditures'] = expenditure_dataframe['Alcoholic Beverages (Total)'] + expenditure_dataframe['Tobacco (Total)'] \n",
    "# expenditure_dataframe['Services and Primary Goods'] = expenditure_dataframe['Services_Primary_Goods'] + expenditure_dataframe['Main Source of Water Supply (2nd visit only)'] + expenditure_dataframe['Accomodation Services'] + expenditure_dataframe['Alcohol Procduction Services']\n",
    "# expenditure_dataframe['Miscellaneous Expenditures'] = expenditure_dataframe['Miscellaneous Goods and Services (Total)'] + expenditure_dataframe['Durable Furniture'] + expenditure_dataframe['Special Family Occasion']\n",
    "# expenditure_dataframe['Essential Expenditures'] = expenditure_dataframe['Clothing, Footwear and Other Wear'] + expenditure_dataframe['Housing and water (Total)'] + expenditure_dataframe['Actual House Rent'] + expenditure_dataframe['Furnishings, Household Equipment & Routine Household Mainte'] + expenditure_dataframe['Health (Total)']+ expenditure_dataframe['Transportation (Total)'] + expenditure_dataframe['Communication (Total)'] + expenditure_dataframe['Recreation and Culture (Total)'] + expenditure_dataframe['Education (Total)'] + expenditure_dataframe['Insurance']\n",
    "# expenditure_dataframe['Other Expenditure NEC'] = expenditure_dataframe['Other Expenditure (inc. Value Consumed, Losses)']\n",
    "\n",
    "# expenditure_dataframe.drop(columns=cost_columns, inplace=True)"
   ]
  },
  {
   "cell_type": "code",
   "execution_count": 31,
   "metadata": {},
   "outputs": [],
   "source": [
    "# expenditure_corr = expenditure_dataframe.corr(method='pearson')\n",
    "# plt.figure(figsize=(20,10), dpi = 500)\n",
    "# sns.heatmap(expenditure_corr,annot=True,fmt=\".2f\", linewidth=.5, cmap='coolwarm')\n",
    "# plt.show()"
   ]
  },
  {
   "cell_type": "markdown",
   "metadata": {},
   "source": [
    "In the expenditure heatmap, it is very different from the income heatmap wherein all of the expenditure sources have positive correlations with one another. This indicates that households spend on various things while not having much revenue streams. Both of the Food categories and the Essential Expenditures have the highest correlation with the rest of the columns.\n",
    "\n",
    "The three heatmaps give a picture on the relationship of income-expenditure ratio for households, the relationship of revenue stream categories, and the relationship of spending habit of various households in the FIES dataset.\n"
   ]
  },
  {
   "cell_type": "markdown",
   "metadata": {},
   "source": [
    "## Calculate a distance matrix (e.g., Euclidean distance) for numeric data as required. Provide illustration\n"
   ]
  },
  {
   "cell_type": "markdown",
   "metadata": {},
   "source": [
    "For the computation of the distance matrix, Euclidean distance will be used to cluster households based on their income-expenditure ratio. Household Numbers provided in the dataset will be the main index of the distance matrix\n"
   ]
  },
  {
   "cell_type": "code",
   "execution_count": 32,
   "metadata": {},
   "outputs": [],
   "source": [
    "# distance_dataframe = imputted_column_13.copy()\n",
    "# household_incomes = distance_dataframe['Hhld, Income, Total'].values\n",
    "# household_expenditures = distance_dataframe['Hhld, Expenditures, Total'].values\n",
    "# household_ids = distance_dataframe['Household ID'].values\n",
    "# household_df = pd.DataFrame({'Total Income': household_incomes, 'Total Expenditures': household_expenditures}, index=household_ids)\n",
    "# household_df.index = household_df.index.map(lambda x: f\"Household No. {x}\")\n",
    "# household_df"
   ]
  },
  {
   "cell_type": "markdown",
   "metadata": {},
   "source": [
    "Since the dataset has about 149,622 entries even without the outliers, it is essential to reduce these entries so as to preserve computational power. The challenege now lies in finding a way to reduce rows but still keeping a good representation of the data. One such way researched is the <b>Freedman-Diaconis Rule</b> of getting the optimal number of bins to group the dataset into.\n",
    "\n",
    "The <b>Freedman-Diaconis Rule</b> is a method of determining the number of bins in a histogram. It is based on the interquartile range of the data. It was devised from the Scott's Rule, obtained by asymptotically minimizing the integral mean square error of the density estimate with respect to a Gaussian reference (Markov, 2022).\n",
    "\n",
    "The <b>Freedman-Diaconis Rule</b> will be implemented by finding the optimal number of bins to group the dataset into by income and expenditure. A Strata will be created by the combining the bins of income and expenditure into a string, by which a Stratified Sampling will be implemented to gain equal representation of the data. Stratas that areless than two will be dropped.\n",
    "\n",
    "Sources\n",
    "\n",
    "1. <https://medium.com/@maxmarkovvision/optimal-number-of-bins-for-histograms-3d7c48086fde>\n"
   ]
  },
  {
   "cell_type": "code",
   "execution_count": 33,
   "metadata": {},
   "outputs": [],
   "source": [
    "# num_rows = household_df.shape[0]\n",
    "\n",
    "# income_iqr = household_df['Total Income'].quantile(0.75) - household_df['Total Income'].quantile(0.25)\n",
    "# expenditure_iqr = household_df['Total Expenditures'].quantile(0.75) - household_df['Total Expenditures'].quantile(0.25)\n",
    "\n",
    "# # Implement Freedman-Diaconis Rule\n",
    "# bin_width_income = 2 * income_iqr / (num_rows ** (1/3))\n",
    "# bin_width_expenditure = 2 * expenditure_iqr / (num_rows ** (1/3))\n",
    "\n",
    "# income_bins = int((household_df['Total Income'].max() - household_df['Total Income'].min()) / bin_width_income)\n",
    "# expenditure_bins = int((household_df['Total Expenditures'].max() - household_df['Total Expenditures'].min()) / bin_width_expenditure)\n",
    "\n",
    "# print(f\"Income number of bins: {income_bins}\")\n",
    "# print(f\"Expenditure number of bins: {expenditure_bins}\")"
   ]
  },
  {
   "cell_type": "code",
   "execution_count": 34,
   "metadata": {},
   "outputs": [],
   "source": [
    "# household_df['Income Bin'] = pd.qcut(household_df['Total Income'], q=income_bins, labels=False, duplicates='drop')\n",
    "# household_df['Expenditure Bin'] = pd.qcut(household_df['Total Expenditures'], q=expenditure_bins, labels=False, duplicates='drop')\n",
    "\n",
    "# household_df['Strata'] = household_df['Income Bin'].astype(str) + '-' + household_df['Expenditure Bin'].astype(str)\n",
    "# print(household_df['Strata'].value_counts())"
   ]
  },
  {
   "cell_type": "code",
   "execution_count": 35,
   "metadata": {},
   "outputs": [],
   "source": [
    "# print(\"Shape of the data before removing rare strata:\", household_df.shape)\n",
    "# strata_counts = household_df['Strata'].value_counts()\n",
    "# rare_strata = strata_counts[strata_counts < 2].index\n",
    "# # Drop the rare strata\n",
    "# household_df = household_df[~household_df['Strata'].isin(rare_strata)]\n",
    "\n",
    "# print(\"Shape of the data after removing rare strata:\", household_df.shape)"
   ]
  },
  {
   "cell_type": "markdown",
   "metadata": {},
   "source": [
    "We will now implement <b>Stratified Sampling</b> to get 5% of the data which will account for 7,434 rows for a balance of good representation of the data and a save in computational power\n"
   ]
  },
  {
   "cell_type": "code",
   "execution_count": 36,
   "metadata": {},
   "outputs": [],
   "source": [
    "# from sklearn.model_selection import train_test_split\n",
    "\n",
    "# sampled_df, _ = train_test_split(household_df, test_size=0.95, random_state=42, stratify=household_df['Strata']) # Get 5% of the data\n",
    "\n",
    "# sampled_df.drop(columns=['Income Bin', 'Expenditure Bin', 'Strata'], inplace=True)\n",
    "# print('Shape of sampled data:', sampled_df.shape)"
   ]
  },
  {
   "cell_type": "markdown",
   "metadata": {},
   "source": [
    "Since Euclidean Distance is sensitive to the scale of the data, we will normalize the data using Standard Scaling.\n"
   ]
  },
  {
   "cell_type": "code",
   "execution_count": 37,
   "metadata": {},
   "outputs": [],
   "source": [
    "# from sklearn.preprocessing import StandardScaler\n",
    "# # Scale the data for Euclidean distance\n",
    "# scaled_data = StandardScaler().fit_transform(sampled_df)\n",
    "# scaled_data_df = pd.DataFrame(scaled_data, columns=sampled_df.columns, index=sampled_df.index)\n",
    "# scaled_data_df"
   ]
  },
  {
   "cell_type": "markdown",
   "metadata": {},
   "source": [
    "Scipy will be used to calculate the Euclidean Distance and obtain the distance matrix\n"
   ]
  },
  {
   "cell_type": "code",
   "execution_count": 38,
   "metadata": {},
   "outputs": [],
   "source": [
    "# from scipy.spatial import distance_matrix\n",
    "\n",
    "# euclidean_distances = pd.DataFrame(distance_matrix(scaled_data, scaled_data), index=sampled_df.index, columns=sampled_df.index)\n",
    "# euclidean_distances"
   ]
  },
  {
   "cell_type": "markdown",
   "metadata": {},
   "source": [
    "As a sample visualization, 10 samples will be used to create a heatmap. In this case, cooler colors means that households are closer to each other while warmer colors means that households are further away from each other\n"
   ]
  },
  {
   "cell_type": "code",
   "execution_count": 39,
   "metadata": {},
   "outputs": [],
   "source": [
    "# n_samples = 10\n",
    "# sampled_indices = euclidean_distances.sample(n=n_samples, random_state=42).index\n",
    "# euclidean_distances_sampled = euclidean_distances.loc[sampled_indices, sampled_indices]\n",
    "# plt.figure(figsize=(10, 8))\n",
    "# sns.heatmap(euclidean_distances_sampled, cmap=\"coolwarm\", annot=False)\n",
    "# plt.title(\"Euclidean Distance Heatmap\")\n",
    "# plt.show()"
   ]
  },
  {
   "cell_type": "markdown",
   "metadata": {},
   "source": [
    "Agglomerative Clustering directly works with a distance matrix as an input. We use the distance matrix of euclidean distances and form clusters based on similar household incomes and expenditures, and we add them to the sampled dataframe.\n"
   ]
  },
  {
   "cell_type": "code",
   "execution_count": 40,
   "metadata": {},
   "outputs": [],
   "source": [
    "# from sklearn.cluster import AgglomerativeClustering\n",
    "# from sklearn.metrics import silhouette_score\n",
    "\n",
    "# silhouette_scores = []\n",
    "\n",
    "# for n_clusters in range(2, 11):\n",
    "#     clustering = AgglomerativeClustering(n_clusters=n_clusters)\n",
    "#     labels = clustering.fit_predict(scaled_data)\n",
    "#     score = silhouette_score(scaled_data, labels)\n",
    "#     silhouette_scores.append(score)\n",
    "\n",
    "# plt.figure(figsize=(10, 6))\n",
    "# plt.plot(range(2, 11), silhouette_scores, marker='o')\n",
    "# plt.xlabel('Number of Clusters')\n",
    "# plt.ylabel('Silhouette Score')\n",
    "# plt.title('Finding the Optimal Number of Clusters')\n",
    "# plt.show()"
   ]
  },
  {
   "cell_type": "markdown",
   "metadata": {},
   "source": [
    "As seen from the silhouette score plot, the optimal number of clusters is 2.\n"
   ]
  },
  {
   "cell_type": "code",
   "execution_count": 41,
   "metadata": {},
   "outputs": [],
   "source": [
    "# num_clusters = 2  \n",
    "\n",
    "# clustering = AgglomerativeClustering(n_clusters=num_clusters)\n",
    "# cluster_labels = clustering.fit_predict(euclidean_distances)\n",
    "\n",
    "# sampled_df['Cluster'] = cluster_labels\n",
    "# sampled_df.head()"
   ]
  },
  {
   "cell_type": "code",
   "execution_count": 42,
   "metadata": {},
   "outputs": [],
   "source": [
    "# plt.figure(figsize=(8, 6))\n",
    "# sns.scatterplot(\n",
    "#     x='Total Income', \n",
    "#     y='Total Expenditures', \n",
    "#     hue='Cluster', \n",
    "#     palette='viridis', \n",
    "#     data=sampled_df, \n",
    "#     s=100\n",
    "# )\n",
    "# plt.title('Cluster Visualization')\n",
    "# plt.xlabel('Total Income')\n",
    "# plt.ylabel('Total Expenditures')\n",
    "# plt.legend(title='Cluster')\n",
    "# plt.show()"
   ]
  },
  {
   "cell_type": "markdown",
   "metadata": {},
   "source": [
    "A scatterplot shows the clusters formed by the agglomerative clustering. We can see that the clusters are formed by similar households. In this case, two clusters are formed.\n",
    "\n",
    "1. The 0 Cluster are households with relatively high to upper middle income and high expenditures\n",
    "2. The 1 Cluster are households with relatively low to lower middle income and expenditures.\n"
   ]
  },
  {
   "cell_type": "code",
   "execution_count": 43,
   "metadata": {},
   "outputs": [],
   "source": [
    "# income_dataframe.columns[0]"
   ]
  },
  {
   "cell_type": "code",
   "execution_count": 44,
   "metadata": {},
   "outputs": [],
   "source": [
    "# from sklearn.metrics.pairwise import cosine_similarity\n",
    "\n",
    "# similarity_matrix = cosine_similarity(sampled_df[sampled_df.columns])\n",
    "# print(similarity_matrix[:5, :5])"
   ]
  },
  {
   "cell_type": "markdown",
   "metadata": {},
   "source": [
    "# 7. Data Mining: Association Rule Mining\n"
   ]
  },
  {
   "cell_type": "markdown",
   "metadata": {},
   "source": [
    "## If needed, transform the dataset (one-hot encoding) and apply the Apriori algorithm to extract association rules.\n"
   ]
  },
  {
   "cell_type": "code",
   "execution_count": 45,
   "metadata": {},
   "outputs": [
    {
     "data": {
      "text/plain": [
       "(149622, 19)"
      ]
     },
     "execution_count": 45,
     "metadata": {},
     "output_type": "execute_result"
    }
   ],
   "source": [
    "transaction_making = imputted_column_13.copy()\n",
    "categorical_columns = [\"Urban / Rural\"]\n",
    "monetary_columns = [\n",
    "    'Salaries/Wages from Regular Employment',\n",
    "    'Salaries/Wages from Seasonal Employment',\n",
    "    'Net Share of Crops, Fruits, etc. (Tot. Net Value of Share)',\n",
    "    'Cash Receipts, Support, etc. from Abroad',\n",
    "    'Cash Receipts, Support, etc. from Domestic Source',\n",
    "    'Rentals Received from Non-Agri Lands, etc.',\n",
    "    'Pension and Retirement Benefits',\n",
    "    'Dividends from Investment',\n",
    "    'Other Sources of Income NEC',\n",
    "    'Family Sustenance Activities',\n",
    "    'Total Received as Gifts',\n",
    "    'Crop Farming and Gardening',\n",
    "    'Livestock and Poultry Raising',\n",
    "    'Fishing',\n",
    "    'Forestry and Hunting',\n",
    "    'Wholesale and Retail',\n",
    "    'Manufacturing',\n",
    "    'Transportation, Storage Services',\n",
    "    'Entrep. Activities NEC',\n",
    "    'Entrep. Activities NEC.1',\n",
    "    'Entrep. Activities NEC.2',\n",
    "]\n",
    "\n",
    "cost_columns = [\n",
    "    'Cereal and Cereal Preparations (Total)',\n",
    "    'Meat and Meat Preparations',\n",
    "    'Fish and Marine Products (Total)',\n",
    "    'Dairy Products and Eggs (Total)',\n",
    "    'Oils and Fats (Total)',\n",
    "    'Fruits and Vegetables',\n",
    "    'Vegetables (Total)',\n",
    "    'Sugar, Jam and Honey (Total)',\n",
    "    'Food Not Elsewhere Classified (Total)',\n",
    "    'Fruit and vegetable juices',\n",
    "    'Coffee, Cocoa and Tea (Total)',\n",
    "    'Tea (total)  expenditure',\n",
    "    'Cocoa (total)  expenditure',\n",
    "    'Main Source of Water Supply (2nd visit only)',\n",
    "    'Softdrinks',\n",
    "    'Other Non Alcoholic Beverages',\n",
    "    'Alcoholic Beverages (Total)',\n",
    "    'Tobacco (Total)',\n",
    "    'Other Vegetables (Total)',\n",
    "    'Services_Primary_Goods',\n",
    "    'Alcohol Procduction Services',\n",
    "    'Food Regularly Consumed Outside The Home (Total)',\n",
    "    'Clothing, Footwear and Other Wear',\n",
    "    'Housing and water (Total)',\n",
    "    'Actual House Rent',\n",
    "    'Furnishings, Household Equipment & Routine Household Mainte',\n",
    "    'Health (Total)',\n",
    "    'Transportation (Total)',\n",
    "    'Communication (Total)',\n",
    "    'Recreation and Culture (Total)',\n",
    "    'Education (Total)',\n",
    "    'Insurance',\n",
    "    'Miscellaneous Goods and Services (Total)',\n",
    "    'Durable Furniture',\n",
    "    'Special Family Occasion',\n",
    "    'Other Expenditure (inc. Value Consumed, Losses)',\n",
    "    'Accomodation Services',\n",
    "]\n",
    "\n",
    "transaction_making = transaction_making[monetary_columns + cost_columns + categorical_columns].copy()\n",
    "\n",
    "transaction_making['Processed Foods'] = transaction_making['Cereal and Cereal Preparations (Total)'] + transaction_making['Sugar, Jam and Honey (Total)'] + transaction_making['Softdrinks'] + transaction_making['Oils and Fats (Total)']\n",
    "transaction_making['Non-Processed Foods'] = transaction_making['Meat and Meat Preparations'] + transaction_making['Fish and Marine Products (Total)'] + transaction_making['Dairy Products and Eggs (Total)']\n",
    "transaction_making['Other Foods'] = transaction_making['Food Not Elsewhere Classified (Total)'] + transaction_making['Food Regularly Consumed Outside The Home (Total)']\n",
    "transaction_making['Fruits and Vegetables and Juices'] = transaction_making['Fruits and Vegetables'] + transaction_making['Vegetables (Total)'] + transaction_making['Fruit and vegetable juices'] + transaction_making['Other Vegetables (Total)']\n",
    "transaction_making['Non-Alcoholic Beverages'] = transaction_making['Coffee, Cocoa and Tea (Total)'] + transaction_making['Tea (total)  expenditure'] + transaction_making['Cocoa (total)  expenditure'] + transaction_making['Other Non Alcoholic Beverages']\n",
    "transaction_making['Non-Essential Expenditures'] = transaction_making['Alcoholic Beverages (Total)'] + transaction_making['Tobacco (Total)'] \n",
    "transaction_making['Services and Primary Goods'] = transaction_making['Services_Primary_Goods'] + transaction_making['Main Source of Water Supply (2nd visit only)'] + transaction_making['Accomodation Services'] + transaction_making['Alcohol Procduction Services']\n",
    "transaction_making['Miscellaneous Expenditures'] = transaction_making['Miscellaneous Goods and Services (Total)'] + transaction_making['Durable Furniture'] + transaction_making['Special Family Occasion']\n",
    "transaction_making['Essential Expenditures'] = transaction_making['Clothing, Footwear and Other Wear'] + transaction_making['Housing and water (Total)'] + transaction_making['Actual House Rent'] + transaction_making['Furnishings, Household Equipment & Routine Household Mainte'] + transaction_making['Health (Total)']+ transaction_making['Transportation (Total)'] + transaction_making['Communication (Total)'] + transaction_making['Recreation and Culture (Total)'] + transaction_making['Education (Total)'] + transaction_making['Insurance']\n",
    "transaction_making['Other Expenditure NEC'] = transaction_making['Other Expenditure (inc. Value Consumed, Losses)']\n",
    "\n",
    "transaction_making['Salaries/Wages'] = transaction_making['Salaries/Wages from Regular Employment'] + transaction_making['Salaries/Wages from Seasonal Employment']\n",
    "transaction_making['Cash Receipts'] = transaction_making['Cash Receipts, Support, etc. from Abroad'] + transaction_making['Cash Receipts, Support, etc. from Domestic Source']\n",
    "transaction_making['Farming'] = transaction_making['Crop Farming and Gardening'] + transaction_making['Net Share of Crops, Fruits, etc. (Tot. Net Value of Share)']\n",
    "transaction_making['Logistics and Manufacturing'] = transaction_making['Wholesale and Retail'] + transaction_making['Transportation, Storage Services'] + transaction_making['Manufacturing']\n",
    "transaction_making['Entrep. Activities'] = transaction_making['Entrep. Activities NEC'] + transaction_making['Entrep. Activities NEC.1'] + transaction_making['Entrep. Activities NEC.2']\n",
    "transaction_making['Passive Income'] = transaction_making['Total Received as Gifts'] + transaction_making['Family Sustenance Activities'] + transaction_making['Pension and Retirement Benefits'] + transaction_making['Dividends from Investment'] + transaction_making['Rentals Received from Non-Agri Lands, etc.']\n",
    "transaction_making['Livestocks'] = transaction_making['Livestock and Poultry Raising'] + transaction_making['Fishing'] + transaction_making['Forestry and Hunting']\n",
    "transaction_making['Other Income NEC'] = transaction_making['Other Sources of Income NEC']\n",
    "\n",
    "transaction_making.drop(columns=cost_columns, inplace=True)\n",
    "transaction_making.drop(columns=monetary_columns, inplace=True)\n",
    "\n",
    "# convert monetary and cost to low/med/high using percentiles\n",
    "def categorize_lmh(value, quantiles):\n",
    "    if value <= quantiles[0.33]:\n",
    "        return \"Low\"\n",
    "    elif value <= quantiles[0.66]:\n",
    "        return \"Medium\"\n",
    "    else:\n",
    "        return \"High\"\n",
    "    \n",
    "# Util methods \n",
    "def categorize_family_size(size):\n",
    "    if size <= 3:\n",
    "        return \"Small\"\n",
    "    elif size <= 6:\n",
    "        return \"Medium\"\n",
    "    else:\n",
    "        return \"Large\"\n",
    "\n",
    "def categorize_npcinc(decile):\n",
    "    if decile <= 3:\n",
    "        return \"Low\"\n",
    "    elif decile <= 7:\n",
    "        return \"Medium\"\n",
    "    else:\n",
    "        return \"High\"\n",
    "def categorize_urban_rural(urban_rural):\n",
    "    if urban_rural == 1:\n",
    "        return \"Urban\"\n",
    "    else:\n",
    "        return \"Rural\"\n",
    "    \n",
    "for col in transaction_making.columns:\n",
    "    if col == 'Family Size':\n",
    "        transaction_making[col] = transaction_making[col].apply(categorize_family_size)\n",
    "    elif col == 'NPCINC':\n",
    "        transaction_making[col] = transaction_making[col].apply(categorize_npcinc)\n",
    "    elif col == 'Urban / Rural':\n",
    "        transaction_making[col] = transaction_making[col].apply(categorize_urban_rural)\n",
    "    else:\n",
    "        quantiles = transaction_making[col].quantile([0.33, 0.66]).to_dict()\n",
    "        transaction_making[col] = transaction_making[col].apply(lambda x: categorize_lmh(x, quantiles))\n",
    "\n",
    "transaction_making.shape"
   ]
  },
  {
   "cell_type": "code",
   "execution_count": 46,
   "metadata": {},
   "outputs": [
    {
     "data": {
      "text/plain": [
       "(149622, 51)"
      ]
     },
     "execution_count": 46,
     "metadata": {},
     "output_type": "execute_result"
    }
   ],
   "source": [
    "transformed_transaction_making = pd.get_dummies(transaction_making)\n",
    "transformed_transaction_making.shape"
   ]
  },
  {
   "cell_type": "code",
   "execution_count": 47,
   "metadata": {},
   "outputs": [
    {
     "name": "stdout",
     "output_type": "stream",
     "text": [
      "46 itemset(s) from tree conditioned on items ()\n",
      "0 itemset(s) from tree conditioned on items (Other Income NEC_Low)\n",
      "1 itemset(s) from tree conditioned on items (Entrep. Activities_Low)\n",
      "2 itemset(s) from tree conditioned on items (Livestocks_Low)\n",
      "0 itemset(s) from tree conditioned on items (Livestocks_Low, Other Income NEC_Low)\n",
      "1 itemset(s) from tree conditioned on items (Livestocks_Low, Entrep. Activities_Low)\n",
      "3 itemset(s) from tree conditioned on items (Farming_Low)\n",
      "0 itemset(s) from tree conditioned on items (Farming_Low, Other Income NEC_Low)\n",
      "1 itemset(s) from tree conditioned on items (Farming_Low, Entrep. Activities_Low)\n",
      "2 itemset(s) from tree conditioned on items (Farming_Low, Livestocks_Low)\n",
      "0 itemset(s) from tree conditioned on items (Farming_Low, Livestocks_Low, Other Income NEC_Low)\n",
      "1 itemset(s) from tree conditioned on items (Farming_Low, Livestocks_Low, Entrep. Activities_Low)\n",
      "4 itemset(s) from tree conditioned on items (Logistics and Manufacturing_Low)\n",
      "0 itemset(s) from tree conditioned on items (Logistics and Manufacturing_Low, Entrep. Activities_Low)\n",
      "1 itemset(s) from tree conditioned on items (Logistics and Manufacturing_Low, Other Income NEC_Low)\n",
      "2 itemset(s) from tree conditioned on items (Logistics and Manufacturing_Low, Livestocks_Low)\n",
      "0 itemset(s) from tree conditioned on items (Logistics and Manufacturing_Low, Livestocks_Low, Other Income NEC_Low)\n",
      "1 itemset(s) from tree conditioned on items (Logistics and Manufacturing_Low, Livestocks_Low, Entrep. Activities_Low)\n",
      "3 itemset(s) from tree conditioned on items (Logistics and Manufacturing_Low, Farming_Low)\n",
      "0 itemset(s) from tree conditioned on items (Logistics and Manufacturing_Low, Farming_Low, Other Income NEC_Low)\n",
      "1 itemset(s) from tree conditioned on items (Logistics and Manufacturing_Low, Farming_Low, Entrep. Activities_Low)\n",
      "2 itemset(s) from tree conditioned on items (Logistics and Manufacturing_Low, Farming_Low, Livestocks_Low)\n",
      "0 itemset(s) from tree conditioned on items (Logistics and Manufacturing_Low, Farming_Low, Livestocks_Low, Other Income NEC_Low)\n",
      "1 itemset(s) from tree conditioned on items (Logistics and Manufacturing_Low, Farming_Low, Livestocks_Low, Entrep. Activities_Low)\n",
      "5 itemset(s) from tree conditioned on items (Urban / Rural_Rural)\n",
      "0 itemset(s) from tree conditioned on items (Urban / Rural_Rural, Entrep. Activities_Low)\n",
      "1 itemset(s) from tree conditioned on items (Urban / Rural_Rural, Other Income NEC_Low)\n",
      "2 itemset(s) from tree conditioned on items (Urban / Rural_Rural, Livestocks_Low)\n",
      "0 itemset(s) from tree conditioned on items (Urban / Rural_Rural, Livestocks_Low, Entrep. Activities_Low)\n",
      "1 itemset(s) from tree conditioned on items (Urban / Rural_Rural, Livestocks_Low, Other Income NEC_Low)\n",
      "2 itemset(s) from tree conditioned on items (Urban / Rural_Rural, Logistics and Manufacturing_Low)\n",
      "0 itemset(s) from tree conditioned on items (Urban / Rural_Rural, Logistics and Manufacturing_Low, Entrep. Activities_Low)\n",
      "1 itemset(s) from tree conditioned on items (Urban / Rural_Rural, Logistics and Manufacturing_Low, Other Income NEC_Low)\n",
      "1 itemset(s) from tree conditioned on items (Urban / Rural_Rural, Farming_Low)\n",
      "2 itemset(s) from tree conditioned on items (Non-Processed Foods_High)\n",
      "0 itemset(s) from tree conditioned on items (Non-Processed Foods_High, Other Income NEC_Low)\n",
      "1 itemset(s) from tree conditioned on items (Non-Processed Foods_High, Entrep. Activities_Low)\n",
      "3 itemset(s) from tree conditioned on items (Other Foods_High)\n",
      "0 itemset(s) from tree conditioned on items (Other Foods_High, Other Income NEC_Low)\n",
      "1 itemset(s) from tree conditioned on items (Other Foods_High, Entrep. Activities_Low)\n",
      "1 itemset(s) from tree conditioned on items (Other Foods_High, Livestocks_Low)\n",
      "2 itemset(s) from tree conditioned on items (Cash Receipts_High)\n",
      "0 itemset(s) from tree conditioned on items (Cash Receipts_High, Entrep. Activities_Low)\n",
      "1 itemset(s) from tree conditioned on items (Cash Receipts_High, Other Income NEC_Low)\n",
      "2 itemset(s) from tree conditioned on items (Other Expenditure NEC_High)\n",
      "0 itemset(s) from tree conditioned on items (Other Expenditure NEC_High, Other Income NEC_Low)\n",
      "1 itemset(s) from tree conditioned on items (Other Expenditure NEC_High, Entrep. Activities_Low)\n",
      "2 itemset(s) from tree conditioned on items (Non-Essential Expenditures_Low)\n",
      "0 itemset(s) from tree conditioned on items (Non-Essential Expenditures_Low, Other Income NEC_Low)\n",
      "1 itemset(s) from tree conditioned on items (Non-Essential Expenditures_Low, Entrep. Activities_Low)\n",
      "2 itemset(s) from tree conditioned on items (Essential Expenditures_Medium)\n",
      "0 itemset(s) from tree conditioned on items (Essential Expenditures_Medium, Entrep. Activities_Low)\n",
      "1 itemset(s) from tree conditioned on items (Essential Expenditures_Medium, Other Income NEC_Low)\n",
      "2 itemset(s) from tree conditioned on items (Processed Foods_Medium)\n",
      "0 itemset(s) from tree conditioned on items (Processed Foods_Medium, Entrep. Activities_Low)\n",
      "1 itemset(s) from tree conditioned on items (Processed Foods_Medium, Other Income NEC_Low)\n",
      "2 itemset(s) from tree conditioned on items (Non-Alcoholic Beverages_Medium)\n",
      "0 itemset(s) from tree conditioned on items (Non-Alcoholic Beverages_Medium, Other Income NEC_Low)\n",
      "1 itemset(s) from tree conditioned on items (Non-Alcoholic Beverages_Medium, Entrep. Activities_Low)\n",
      "2 itemset(s) from tree conditioned on items (Fruits and Vegetables and Juices_Medium)\n",
      "0 itemset(s) from tree conditioned on items (Fruits and Vegetables and Juices_Medium, Other Income NEC_Low)\n",
      "1 itemset(s) from tree conditioned on items (Fruits and Vegetables and Juices_Medium, Entrep. Activities_Low)\n",
      "2 itemset(s) from tree conditioned on items (Miscellaneous Expenditures_Medium)\n",
      "0 itemset(s) from tree conditioned on items (Miscellaneous Expenditures_Medium, Other Income NEC_Low)\n",
      "1 itemset(s) from tree conditioned on items (Miscellaneous Expenditures_Medium, Entrep. Activities_Low)\n",
      "2 itemset(s) from tree conditioned on items (Passive Income_Medium)\n",
      "0 itemset(s) from tree conditioned on items (Passive Income_Medium, Entrep. Activities_Low)\n",
      "1 itemset(s) from tree conditioned on items (Passive Income_Medium, Other Income NEC_Low)\n",
      "2 itemset(s) from tree conditioned on items (Salaries/Wages_Medium)\n",
      "0 itemset(s) from tree conditioned on items (Salaries/Wages_Medium, Entrep. Activities_Low)\n",
      "1 itemset(s) from tree conditioned on items (Salaries/Wages_Medium, Other Income NEC_Low)\n",
      "2 itemset(s) from tree conditioned on items (Services and Primary Goods_Medium)\n",
      "0 itemset(s) from tree conditioned on items (Services and Primary Goods_Medium, Other Income NEC_Low)\n",
      "1 itemset(s) from tree conditioned on items (Services and Primary Goods_Medium, Entrep. Activities_Low)\n",
      "2 itemset(s) from tree conditioned on items (Miscellaneous Expenditures_High)\n",
      "0 itemset(s) from tree conditioned on items (Miscellaneous Expenditures_High, Other Income NEC_Low)\n",
      "1 itemset(s) from tree conditioned on items (Miscellaneous Expenditures_High, Entrep. Activities_Low)\n",
      "2 itemset(s) from tree conditioned on items (Fruits and Vegetables and Juices_High)\n",
      "0 itemset(s) from tree conditioned on items (Fruits and Vegetables and Juices_High, Other Income NEC_Low)\n",
      "1 itemset(s) from tree conditioned on items (Fruits and Vegetables and Juices_High, Entrep. Activities_Low)\n",
      "2 itemset(s) from tree conditioned on items (Processed Foods_High)\n",
      "1 itemset(s) from tree conditioned on items (Processed Foods_High, Other Income NEC_Low)\n",
      "0 itemset(s) from tree conditioned on items (Processed Foods_High, Entrep. Activities_Low)\n",
      "3 itemset(s) from tree conditioned on items (Essential Expenditures_High)\n",
      "0 itemset(s) from tree conditioned on items (Essential Expenditures_High, Other Income NEC_Low)\n",
      "1 itemset(s) from tree conditioned on items (Essential Expenditures_High, Livestocks_Low)\n",
      "1 itemset(s) from tree conditioned on items (Essential Expenditures_High, Entrep. Activities_Low)\n",
      "2 itemset(s) from tree conditioned on items (Non-Alcoholic Beverages_High)\n",
      "0 itemset(s) from tree conditioned on items (Non-Alcoholic Beverages_High, Other Income NEC_Low)\n",
      "1 itemset(s) from tree conditioned on items (Non-Alcoholic Beverages_High, Entrep. Activities_Low)\n",
      "2 itemset(s) from tree conditioned on items (Passive Income_High)\n",
      "1 itemset(s) from tree conditioned on items (Passive Income_High, Other Income NEC_Low)\n",
      "0 itemset(s) from tree conditioned on items (Passive Income_High, Entrep. Activities_Low)\n",
      "2 itemset(s) from tree conditioned on items (Services and Primary Goods_High)\n",
      "0 itemset(s) from tree conditioned on items (Services and Primary Goods_High, Other Income NEC_Low)\n",
      "1 itemset(s) from tree conditioned on items (Services and Primary Goods_High, Entrep. Activities_Low)\n",
      "2 itemset(s) from tree conditioned on items (Non-Essential Expenditures_Medium)\n",
      "1 itemset(s) from tree conditioned on items (Non-Essential Expenditures_Medium, Other Income NEC_Low)\n",
      "0 itemset(s) from tree conditioned on items (Non-Essential Expenditures_Medium, Entrep. Activities_Low)\n",
      "2 itemset(s) from tree conditioned on items (Salaries/Wages_Low)\n",
      "0 itemset(s) from tree conditioned on items (Salaries/Wages_Low, Other Income NEC_Low)\n",
      "0 itemset(s) from tree conditioned on items (Salaries/Wages_Low, Entrep. Activities_Low)\n",
      "2 itemset(s) from tree conditioned on items (Miscellaneous Expenditures_Low)\n",
      "0 itemset(s) from tree conditioned on items (Miscellaneous Expenditures_Low, Entrep. Activities_Low)\n",
      "1 itemset(s) from tree conditioned on items (Miscellaneous Expenditures_Low, Other Income NEC_Low)\n",
      "2 itemset(s) from tree conditioned on items (Processed Foods_Low)\n",
      "0 itemset(s) from tree conditioned on items (Processed Foods_Low, Other Income NEC_Low)\n",
      "1 itemset(s) from tree conditioned on items (Processed Foods_Low, Entrep. Activities_Low)\n",
      "2 itemset(s) from tree conditioned on items (Other Foods_Medium)\n",
      "0 itemset(s) from tree conditioned on items (Other Foods_Medium, Other Income NEC_Low)\n",
      "1 itemset(s) from tree conditioned on items (Other Foods_Medium, Entrep. Activities_Low)\n",
      "2 itemset(s) from tree conditioned on items (Logistics and Manufacturing_High)\n",
      "0 itemset(s) from tree conditioned on items (Logistics and Manufacturing_High, Other Income NEC_Low)\n",
      "0 itemset(s) from tree conditioned on items (Logistics and Manufacturing_High, Entrep. Activities_Low)\n",
      "4 itemset(s) from tree conditioned on items (Salaries/Wages_High)\n",
      "0 itemset(s) from tree conditioned on items (Salaries/Wages_High, Other Income NEC_Low)\n",
      "1 itemset(s) from tree conditioned on items (Salaries/Wages_High, Entrep. Activities_Low)\n",
      "2 itemset(s) from tree conditioned on items (Salaries/Wages_High, Livestocks_Low)\n",
      "0 itemset(s) from tree conditioned on items (Salaries/Wages_High, Livestocks_Low, Other Income NEC_Low)\n",
      "0 itemset(s) from tree conditioned on items (Salaries/Wages_High, Livestocks_Low, Entrep. Activities_Low)\n",
      "0 itemset(s) from tree conditioned on items (Salaries/Wages_High, Farming_Low)\n",
      "3 itemset(s) from tree conditioned on items (Passive Income_Low)\n",
      "0 itemset(s) from tree conditioned on items (Passive Income_Low, Other Income NEC_Low)\n",
      "1 itemset(s) from tree conditioned on items (Passive Income_Low, Entrep. Activities_Low)\n",
      "0 itemset(s) from tree conditioned on items (Passive Income_Low, Livestocks_Low)\n",
      "4 itemset(s) from tree conditioned on items (Other Expenditure NEC_Low)\n",
      "0 itemset(s) from tree conditioned on items (Other Expenditure NEC_Low, Other Income NEC_Low)\n",
      "2 itemset(s) from tree conditioned on items (Other Expenditure NEC_Low, Livestocks_Low)\n",
      "0 itemset(s) from tree conditioned on items (Other Expenditure NEC_Low, Livestocks_Low, Other Income NEC_Low)\n",
      "1 itemset(s) from tree conditioned on items (Other Expenditure NEC_Low, Livestocks_Low, Entrep. Activities_Low)\n",
      "2 itemset(s) from tree conditioned on items (Other Expenditure NEC_Low, Farming_Low)\n",
      "0 itemset(s) from tree conditioned on items (Other Expenditure NEC_Low, Farming_Low, Other Income NEC_Low)\n",
      "1 itemset(s) from tree conditioned on items (Other Expenditure NEC_Low, Farming_Low, Entrep. Activities_Low)\n",
      "1 itemset(s) from tree conditioned on items (Other Expenditure NEC_Low, Entrep. Activities_Low)\n",
      "2 itemset(s) from tree conditioned on items (Non-Alcoholic Beverages_Low)\n",
      "0 itemset(s) from tree conditioned on items (Non-Alcoholic Beverages_Low, Entrep. Activities_Low)\n",
      "1 itemset(s) from tree conditioned on items (Non-Alcoholic Beverages_Low, Other Income NEC_Low)\n",
      "2 itemset(s) from tree conditioned on items (Fruits and Vegetables and Juices_Low)\n",
      "0 itemset(s) from tree conditioned on items (Fruits and Vegetables and Juices_Low, Entrep. Activities_Low)\n",
      "1 itemset(s) from tree conditioned on items (Fruits and Vegetables and Juices_Low, Other Income NEC_Low)\n",
      "2 itemset(s) from tree conditioned on items (Non-Essential Expenditures_High)\n",
      "0 itemset(s) from tree conditioned on items (Non-Essential Expenditures_High, Other Income NEC_Low)\n",
      "1 itemset(s) from tree conditioned on items (Non-Essential Expenditures_High, Entrep. Activities_Low)\n",
      "2 itemset(s) from tree conditioned on items (Other Foods_Low)\n",
      "0 itemset(s) from tree conditioned on items (Other Foods_Low, Entrep. Activities_Low)\n",
      "1 itemset(s) from tree conditioned on items (Other Foods_Low, Other Income NEC_Low)\n",
      "2 itemset(s) from tree conditioned on items (Non-Processed Foods_Medium)\n",
      "0 itemset(s) from tree conditioned on items (Non-Processed Foods_Medium, Other Income NEC_Low)\n",
      "1 itemset(s) from tree conditioned on items (Non-Processed Foods_Medium, Entrep. Activities_Low)\n",
      "2 itemset(s) from tree conditioned on items (Essential Expenditures_Low)\n",
      "0 itemset(s) from tree conditioned on items (Essential Expenditures_Low, Entrep. Activities_Low)\n",
      "1 itemset(s) from tree conditioned on items (Essential Expenditures_Low, Other Income NEC_Low)\n",
      "2 itemset(s) from tree conditioned on items (Non-Processed Foods_Low)\n",
      "0 itemset(s) from tree conditioned on items (Non-Processed Foods_Low, Entrep. Activities_Low)\n",
      "1 itemset(s) from tree conditioned on items (Non-Processed Foods_Low, Other Income NEC_Low)\n",
      "2 itemset(s) from tree conditioned on items (Cash Receipts_Medium)\n",
      "0 itemset(s) from tree conditioned on items (Cash Receipts_Medium, Entrep. Activities_Low)\n",
      "0 itemset(s) from tree conditioned on items (Cash Receipts_Medium, Other Income NEC_Low)\n",
      "2 itemset(s) from tree conditioned on items (Services and Primary Goods_Low)\n",
      "0 itemset(s) from tree conditioned on items (Services and Primary Goods_Low, Entrep. Activities_Low)\n",
      "1 itemset(s) from tree conditioned on items (Services and Primary Goods_Low, Other Income NEC_Low)\n",
      "3 itemset(s) from tree conditioned on items (Cash Receipts_Low)\n",
      "0 itemset(s) from tree conditioned on items (Cash Receipts_Low, Other Income NEC_Low)\n",
      "1 itemset(s) from tree conditioned on items (Cash Receipts_Low, Entrep. Activities_Low)\n",
      "0 itemset(s) from tree conditioned on items (Cash Receipts_Low, Livestocks_Low)\n",
      "4 itemset(s) from tree conditioned on items (Urban / Rural_Urban)\n",
      "0 itemset(s) from tree conditioned on items (Urban / Rural_Urban, Other Income NEC_Low)\n",
      "1 itemset(s) from tree conditioned on items (Urban / Rural_Urban, Entrep. Activities_Low)\n",
      "2 itemset(s) from tree conditioned on items (Urban / Rural_Urban, Livestocks_Low)\n",
      "0 itemset(s) from tree conditioned on items (Urban / Rural_Urban, Livestocks_Low, Other Income NEC_Low)\n",
      "1 itemset(s) from tree conditioned on items (Urban / Rural_Urban, Livestocks_Low, Entrep. Activities_Low)\n",
      "3 itemset(s) from tree conditioned on items (Urban / Rural_Urban, Farming_Low)\n",
      "0 itemset(s) from tree conditioned on items (Urban / Rural_Urban, Farming_Low, Other Income NEC_Low)\n",
      "1 itemset(s) from tree conditioned on items (Urban / Rural_Urban, Farming_Low, Livestocks_Low)\n",
      "2 itemset(s) from tree conditioned on items (Urban / Rural_Urban, Farming_Low, Entrep. Activities_Low)\n",
      "0 itemset(s) from tree conditioned on items (Urban / Rural_Urban, Farming_Low, Entrep. Activities_Low, Other Income NEC_Low)\n",
      "1 itemset(s) from tree conditioned on items (Urban / Rural_Urban, Farming_Low, Entrep. Activities_Low, Livestocks_Low)\n"
     ]
    }
   ],
   "source": [
    "from mlxtend.frequent_patterns import fpgrowth\n",
    "frequent_itemsets = fpgrowth(transformed_transaction_making, min_support=0.3, use_colnames=True, verbose=1)"
   ]
  },
  {
   "cell_type": "code",
   "execution_count": 48,
   "metadata": {},
   "outputs": [],
   "source": [
    "from mlxtend.frequent_patterns import association_rules\n",
    "rules = association_rules(frequent_itemsets, metric=\"lift\", min_threshold=1)\n",
    "# save frequent itemsets and association rules to csv\n",
    "frequent_itemsets.to_csv('../itemsets_and_rules/frequent_itemsets_urban-rural.csv', index=False)\n",
    "rules.to_csv('../itemsets_and_rules/association_rules_urban-rural.csv', index=False)"
   ]
  },
  {
   "cell_type": "code",
   "execution_count": 49,
   "metadata": {},
   "outputs": [],
   "source": [
    "import plotly.express as px\n",
    "# Convert frozensets to strings for JSON serialization\n",
    "rules['antecedents'] = rules['antecedents'].apply(lambda x: ', '.join(list(x)))\n",
    "rules['consequents'] = rules['consequents'].apply(lambda x: ', '.join(list(x)))\n",
    "\n",
    "# List of mandatory variables\n",
    "mandatory_variables = [\n",
    "    'Urban / Rural_Urban',\n",
    "    'Urban / Rural_Rural',\n",
    "]\n",
    "\n",
    "# Create a regex pattern for multiple values\n",
    "mandatory_pattern = '|'.join(mandatory_variables)  # Converts list into \"Urban / Rural_Urban|Urban / Rural_Rural\"\n",
    "\n",
    "filtered_rules = rules[\n",
    "    rules['antecedents'].str.contains(mandatory_pattern, case=False, regex=True) |\n",
    "    rules['consequents'].str.contains(mandatory_pattern, case=False, regex=True)\n",
    "]"
   ]
  },
  {
   "cell_type": "code",
   "execution_count": 50,
   "metadata": {},
   "outputs": [
    {
     "data": {
      "application/vnd.plotly.v1+json": {
       "config": {
        "plotlyServerURL": "https://plot.ly"
       },
       "data": [
        {
         "customdata": [
          [
           "Entrep. Activities_Low",
           1.0092627832662797
          ],
          [
           "Urban / Rural_Rural",
           1.0092627832662797
          ],
          [
           "Logistics and Manufacturing_Low",
           1.0357849410763138
          ],
          [
           "Urban / Rural_Rural",
           1.035784941076314
          ],
          [
           "Entrep. Activities_Low",
           1.0102105499638867
          ],
          [
           "Urban / Rural_Rural",
           1.0016839548584593
          ],
          [
           "Entrep. Activities_Low, Other Income NEC_Low",
           1.0016839548584593
          ],
          [
           "Urban / Rural_Rural, Other Income NEC_Low",
           1.0102105499638867
          ],
          [
           "Entrep. Activities_Low",
           1.0067936760544052
          ],
          [
           "Urban / Rural_Rural, Livestocks_Low",
           1.0067936760544052
          ],
          [
           "Entrep. Activities_Low",
           1.0078507584142096
          ],
          [
           "Entrep. Activities_Low, Other Income NEC_Low",
           1.0020054215237963
          ],
          [
           "Urban / Rural_Rural, Livestocks_Low",
           1.0020054215237963
          ],
          [
           "Urban / Rural_Rural, Other Income NEC_Low, Livestocks_Low",
           1.0078507584142096
          ],
          [
           "Logistics and Manufacturing_Low",
           1.042227791825274
          ],
          [
           "Entrep. Activities_Low",
           1.0155406593206544
          ],
          [
           "Urban / Rural_Rural",
           1.0451168116109457
          ],
          [
           "Entrep. Activities_Low, Logistics and Manufacturing_Low",
           1.0451168116109457
          ],
          [
           "Urban / Rural_Rural, Logistics and Manufacturing_Low",
           1.0155406593206542
          ],
          [
           "Urban / Rural_Rural, Entrep. Activities_Low",
           1.0422277918252743
          ],
          [
           "Logistics and Manufacturing_Low",
           1.0404845141410395
          ],
          [
           "Urban / Rural_Rural",
           1.0284561883484917
          ],
          [
           "Other Income NEC_Low, Logistics and Manufacturing_Low",
           1.028456188348492
          ],
          [
           "Urban / Rural_Rural, Other Income NEC_Low",
           1.0404845141410395
          ],
          [
           "Logistics and Manufacturing_Low",
           1.0468201815504687
          ],
          [
           "Entrep. Activities_Low",
           1.016361874631464
          ],
          [
           "Urban / Rural_Rural",
           1.037830041749382
          ],
          [
           "Entrep. Activities_Low, Logistics and Manufacturing_Low",
           1.0507076918847735
          ],
          [
           "Other Income NEC_Low, Logistics and Manufacturing_Low",
           1.0356902849259428
          ],
          [
           "Entrep. Activities_Low, Other Income NEC_Low",
           1.0123558838300075
          ],
          [
           "Urban / Rural_Rural, Logistics and Manufacturing_Low",
           1.0123558838300075
          ],
          [
           "Urban / Rural_Rural, Entrep. Activities_Low",
           1.0356902849259428
          ],
          [
           "Urban / Rural_Rural, Other Income NEC_Low",
           1.0507076918847735
          ],
          [
           "Entrep. Activities_Low, Other Income NEC_Low, Logistics and Manufacturing_Low",
           1.037830041749382
          ],
          [
           "Urban / Rural_Rural, Other Income NEC_Low, Logistics and Manufacturing_Low",
           1.016361874631464
          ],
          [
           "Urban / Rural_Rural, Other Income NEC_Low, Entrep. Activities_Low",
           1.0468201815504687
          ],
          [
           "Entrep. Activities_Low",
           1.0017236442453121
          ],
          [
           "Urban / Rural_Rural, Farming_Low",
           1.0017236442453124
          ],
          [
           "Urban / Rural_Urban",
           1.0092506458322228
          ],
          [
           "Other Income NEC_Low",
           1.0092506458322228
          ],
          [
           "Urban / Rural_Urban",
           1.1087171700179848
          ],
          [
           "Livestocks_Low",
           1.1087171700179848
          ],
          [
           "Urban / Rural_Urban",
           1.2455218724340624
          ],
          [
           "Farming_Low",
           1.2455218724340624
          ],
          [
           "Other Income NEC_Low",
           1.0099862379953395
          ],
          [
           "Entrep. Activities_Low, Urban / Rural_Urban",
           1.0099862379953395
          ],
          [
           "Urban / Rural_Urban",
           1.1169872403743535
          ],
          [
           "Livestocks_Low",
           1.1095486526194922
          ],
          [
           "Other Income NEC_Low",
           1.0100075334995762
          ],
          [
           "Livestocks_Low, Urban / Rural_Urban",
           1.0100075334995762
          ],
          [
           "Other Income NEC_Low, Urban / Rural_Urban",
           1.1095486526194922
          ],
          [
           "Other Income NEC_Low, Livestocks_Low",
           1.1169872403743535
          ],
          [
           "Urban / Rural_Urban",
           1.0981692976192288
          ],
          [
           "Livestocks_Low",
           1.1074173129821587
          ],
          [
           "Entrep. Activities_Low, Urban / Rural_Urban",
           1.1074173129821587
          ],
          [
           "Entrep. Activities_Low, Livestocks_Low",
           1.0981692976192288
          ],
          [
           "Urban / Rural_Urban",
           1.1062356557793829
          ],
          [
           "Livestocks_Low",
           1.108191724264511
          ],
          [
           "Other Income NEC_Low",
           1.0106925162235694
          ],
          [
           "Other Income NEC_Low, Urban / Rural_Urban",
           1.099738202035056
          ],
          [
           "Other Income NEC_Low, Livestocks_Low",
           1.1164343352938877
          ],
          [
           "Entrep. Activities_Low, Urban / Rural_Urban",
           1.1164343352938877
          ],
          [
           "Entrep. Activities_Low, Livestocks_Low",
           1.0997382020350561
          ],
          [
           "Entrep. Activities_Low, Livestocks_Low, Urban / Rural_Urban",
           1.0106925162235694
          ],
          [
           "Entrep. Activities_Low, Other Income NEC_Low, Urban / Rural_Urban",
           1.1081917242645107
          ],
          [
           "Entrep. Activities_Low, Other Income NEC_Low, Livestocks_Low",
           1.1062356557793829
          ],
          [
           "Urban / Rural_Urban",
           1.2546531533020229
          ],
          [
           "Farming_Low",
           1.2471310510050249
          ],
          [
           "Other Income NEC_Low",
           1.010554568748349
          ],
          [
           "Farming_Low, Urban / Rural_Urban",
           1.010554568748349
          ],
          [
           "Other Income NEC_Low, Urban / Rural_Urban",
           1.2471310510050246
          ],
          [
           "Other Income NEC_Low, Farming_Low",
           1.2546531533020229
          ],
          [
           "Urban / Rural_Urban",
           1.3338559138660486
          ],
          [
           "Livestocks_Low",
           1.1272321466879105
          ],
          [
           "Farming_Low",
           1.2663214135917271
          ],
          [
           "Livestocks_Low, Urban / Rural_Urban",
           1.2663214135917273
          ],
          [
           "Farming_Low, Urban / Rural_Urban",
           1.1272321466879105
          ],
          [
           "Livestocks_Low, Farming_Low",
           1.3338559138660486
          ],
          [
           "Urban / Rural_Urban",
           1.237527684748673
          ],
          [
           "Farming_Low",
           1.2432531320280125
          ],
          [
           "Entrep. Activities_Low, Urban / Rural_Urban",
           1.2432531320280122
          ],
          [
           "Entrep. Activities_Low, Farming_Low",
           1.237527684748673
          ],
          [
           "Urban / Rural_Urban",
           1.342042303358959
          ],
          [
           "Livestocks_Low",
           1.127861241454518
          ],
          [
           "Other Income NEC_Low",
           1.0111185471554933
          ],
          [
           "Farming_Low",
           1.2677143738782766
          ],
          [
           "Livestocks_Low, Urban / Rural_Urban",
           1.2763170818894152
          ],
          [
           "Other Income NEC_Low, Urban / Rural_Urban",
           1.3363245882601165
          ],
          [
           "Other Income NEC_Low, Livestocks_Low",
           1.1368895331351647
          ],
          [
           "Farming_Low, Urban / Rural_Urban",
           1.136889533135165
          ],
          [
           "Livestocks_Low, Farming_Low",
           1.3363245882601165
          ],
          [
           "Other Income NEC_Low, Farming_Low",
           1.2763170818894152
          ],
          [
           "Other Income NEC_Low, Livestocks_Low, Urban / Rural_Urban",
           1.2677143738782766
          ],
          [
           "Livestocks_Low, Farming_Low, Urban / Rural_Urban",
           1.0111185471554933
          ],
          [
           "Other Income NEC_Low, Farming_Low, Urban / Rural_Urban",
           1.127861241454518
          ],
          [
           "Livestocks_Low, Other Income NEC_Low, Farming_Low",
           1.342042303358959
          ],
          [
           "Urban / Rural_Urban",
           1.2464394964599381
          ],
          [
           "Farming_Low",
           1.2449016471269319
          ],
          [
           "Other Income NEC_Low",
           1.0113254484265413
          ],
          [
           "Other Income NEC_Low, Urban / Rural_Urban",
           1.240071775913202
          ],
          [
           "Other Income NEC_Low, Farming_Low",
           1.2533231217564302
          ],
          [
           "Entrep. Activities_Low, Urban / Rural_Urban",
           1.2533231217564305
          ],
          [
           "Entrep. Activities_Low, Farming_Low",
           1.2400717759132023
          ],
          [
           "Entrep. Activities_Low, Farming_Low, Urban / Rural_Urban",
           1.0113254484265413
          ],
          [
           "Entrep. Activities_Low, Other Income NEC_Low, Urban / Rural_Urban",
           1.2449016471269319
          ],
          [
           "Entrep. Activities_Low, Other Income NEC_Low, Farming_Low",
           1.2464394964599381
          ],
          [
           "Urban / Rural_Urban",
           1.3272218179700883
          ],
          [
           "Livestocks_Low",
           1.126322904812708
          ],
          [
           "Farming_Low",
           1.2644776839477205
          ],
          [
           "Livestocks_Low, Urban / Rural_Urban",
           1.2571788499042187
          ],
          [
           "Entrep. Activities_Low, Urban / Rural_Urban",
           1.3303523235892254
          ],
          [
           "Entrep. Activities_Low, Livestocks_Low",
           1.1148825249631014
          ],
          [
           "Farming_Low, Urban / Rural_Urban",
           1.1148825249631014
          ],
          [
           "Livestocks_Low, Farming_Low",
           1.3303523235892252
          ],
          [
           "Entrep. Activities_Low, Farming_Low",
           1.2571788499042185
          ],
          [
           "Entrep. Activities_Low, Livestocks_Low, Urban / Rural_Urban",
           1.2644776839477205
          ],
          [
           "Entrep. Activities_Low, Farming_Low, Urban / Rural_Urban",
           1.126322904812708
          ],
          [
           "Entrep. Activities_Low, Farming_Low, Livestocks_Low",
           1.3272218179700885
          ],
          [
           "Livestocks_Low",
           1.1269678443344067
          ],
          [
           "Farming_Low",
           1.2659940468352762
          ],
          [
           "Urban / Rural_Urban",
           1.33510681899656
          ],
          [
           "Other Income NEC_Low",
           1.0119045396873183
          ],
          [
           "Livestocks_Low, Farming_Low",
           1.3328791076356439
          ],
          [
           "Entrep. Activities_Low, Livestocks_Low",
           1.1163718646342178
          ],
          [
           "Entrep. Activities_Low, Farming_Low",
           1.259540095715033
          ],
          [
           "Livestocks_Low, Urban / Rural_Urban",
           1.2669572280511665
          ],
          [
           "Farming_Low, Urban / Rural_Urban",
           1.1244184350425834
          ],
          [
           "Entrep. Activities_Low, Urban / Rural_Urban",
           1.339557705923998
          ],
          [
           "Other Income NEC_Low, Livestocks_Low",
           1.1368555491664063
          ],
          [
           "Other Income NEC_Low, Farming_Low",
           1.2754494987772231
          ],
          [
           "Other Income NEC_Low, Urban / Rural_Urban",
           1.3307118388500403
          ],
          [
           "Entrep. Activities_Low, Farming_Low, Livestocks_Low",
           1.3307118388500403
          ],
          [
           "Entrep. Activities_Low, Livestocks_Low, Urban / Rural_Urban",
           1.2754494987772231
          ],
          [
           "Entrep. Activities_Low, Farming_Low, Urban / Rural_Urban",
           1.136855549166406
          ],
          [
           "Livestocks_Low, Other Income NEC_Low, Farming_Low",
           1.339557705923998
          ],
          [
           "Entrep. Activities_Low, Other Income NEC_Low, Livestocks_Low",
           1.1244184350425834
          ],
          [
           "Entrep. Activities_Low, Other Income NEC_Low, Farming_Low",
           1.2669572280511665
          ],
          [
           "Other Income NEC_Low, Livestocks_Low, Urban / Rural_Urban",
           1.259540095715033
          ],
          [
           "Other Income NEC_Low, Farming_Low, Urban / Rural_Urban",
           1.1163718646342178
          ],
          [
           "Entrep. Activities_Low, Other Income NEC_Low, Urban / Rural_Urban",
           1.3328791076356439
          ],
          [
           "Entrep. Activities_Low, Farming_Low, Urban / Rural_Urban, Livestocks_Low",
           1.0119045396873183
          ],
          [
           "Entrep. Activities_Low, Other Income NEC_Low, Farming_Low, Livestocks_Low",
           1.33510681899656
          ],
          [
           "Entrep. Activities_Low, Other Income NEC_Low, Livestocks_Low, Urban / Rural_Urban",
           1.2659940468352762
          ],
          [
           "Entrep. Activities_Low, Other Income NEC_Low, Farming_Low, Urban / Rural_Urban",
           1.1269678443344067
          ]
         ],
         "hovertemplate": "<b>%{hovertext}</b><br><br>Support=%{x}<br>Confidence=%{y}<br>lift=%{marker.color}<br>consequents=%{customdata[0]}<extra></extra>",
         "hovertext": [
          "Urban / Rural_Rural",
          "Entrep. Activities_Low",
          "Urban / Rural_Rural",
          "Logistics and Manufacturing_Low",
          "Urban / Rural_Rural, Other Income NEC_Low",
          "Entrep. Activities_Low, Other Income NEC_Low",
          "Urban / Rural_Rural",
          "Entrep. Activities_Low",
          "Urban / Rural_Rural, Livestocks_Low",
          "Entrep. Activities_Low",
          "Urban / Rural_Rural, Other Income NEC_Low, Livestocks_Low",
          "Urban / Rural_Rural, Livestocks_Low",
          "Entrep. Activities_Low, Other Income NEC_Low",
          "Entrep. Activities_Low",
          "Urban / Rural_Rural, Entrep. Activities_Low",
          "Urban / Rural_Rural, Logistics and Manufacturing_Low",
          "Entrep. Activities_Low, Logistics and Manufacturing_Low",
          "Urban / Rural_Rural",
          "Entrep. Activities_Low",
          "Logistics and Manufacturing_Low",
          "Urban / Rural_Rural, Other Income NEC_Low",
          "Other Income NEC_Low, Logistics and Manufacturing_Low",
          "Urban / Rural_Rural",
          "Logistics and Manufacturing_Low",
          "Urban / Rural_Rural, Other Income NEC_Low, Entrep. Activities_Low",
          "Urban / Rural_Rural, Other Income NEC_Low, Logistics and Manufacturing_Low",
          "Entrep. Activities_Low, Other Income NEC_Low, Logistics and Manufacturing_Low",
          "Urban / Rural_Rural, Other Income NEC_Low",
          "Urban / Rural_Rural, Entrep. Activities_Low",
          "Urban / Rural_Rural, Logistics and Manufacturing_Low",
          "Entrep. Activities_Low, Other Income NEC_Low",
          "Other Income NEC_Low, Logistics and Manufacturing_Low",
          "Entrep. Activities_Low, Logistics and Manufacturing_Low",
          "Urban / Rural_Rural",
          "Entrep. Activities_Low",
          "Logistics and Manufacturing_Low",
          "Urban / Rural_Rural, Farming_Low",
          "Entrep. Activities_Low",
          "Other Income NEC_Low",
          "Urban / Rural_Urban",
          "Livestocks_Low",
          "Urban / Rural_Urban",
          "Farming_Low",
          "Urban / Rural_Urban",
          "Entrep. Activities_Low, Urban / Rural_Urban",
          "Other Income NEC_Low",
          "Other Income NEC_Low, Livestocks_Low",
          "Other Income NEC_Low, Urban / Rural_Urban",
          "Livestocks_Low, Urban / Rural_Urban",
          "Other Income NEC_Low",
          "Livestocks_Low",
          "Urban / Rural_Urban",
          "Entrep. Activities_Low, Livestocks_Low",
          "Entrep. Activities_Low, Urban / Rural_Urban",
          "Livestocks_Low",
          "Urban / Rural_Urban",
          "Entrep. Activities_Low, Other Income NEC_Low, Livestocks_Low",
          "Entrep. Activities_Low, Other Income NEC_Low, Urban / Rural_Urban",
          "Entrep. Activities_Low, Livestocks_Low, Urban / Rural_Urban",
          "Entrep. Activities_Low, Livestocks_Low",
          "Entrep. Activities_Low, Urban / Rural_Urban",
          "Other Income NEC_Low, Livestocks_Low",
          "Other Income NEC_Low, Urban / Rural_Urban",
          "Other Income NEC_Low",
          "Livestocks_Low",
          "Urban / Rural_Urban",
          "Other Income NEC_Low, Farming_Low",
          "Other Income NEC_Low, Urban / Rural_Urban",
          "Farming_Low, Urban / Rural_Urban",
          "Other Income NEC_Low",
          "Farming_Low",
          "Urban / Rural_Urban",
          "Livestocks_Low, Farming_Low",
          "Farming_Low, Urban / Rural_Urban",
          "Livestocks_Low, Urban / Rural_Urban",
          "Farming_Low",
          "Livestocks_Low",
          "Urban / Rural_Urban",
          "Entrep. Activities_Low, Farming_Low",
          "Entrep. Activities_Low, Urban / Rural_Urban",
          "Farming_Low",
          "Urban / Rural_Urban",
          "Livestocks_Low, Other Income NEC_Low, Farming_Low",
          "Other Income NEC_Low, Farming_Low, Urban / Rural_Urban",
          "Livestocks_Low, Farming_Low, Urban / Rural_Urban",
          "Other Income NEC_Low, Livestocks_Low, Urban / Rural_Urban",
          "Other Income NEC_Low, Farming_Low",
          "Livestocks_Low, Farming_Low",
          "Farming_Low, Urban / Rural_Urban",
          "Other Income NEC_Low, Livestocks_Low",
          "Other Income NEC_Low, Urban / Rural_Urban",
          "Livestocks_Low, Urban / Rural_Urban",
          "Farming_Low",
          "Other Income NEC_Low",
          "Livestocks_Low",
          "Urban / Rural_Urban",
          "Entrep. Activities_Low, Other Income NEC_Low, Farming_Low",
          "Entrep. Activities_Low, Other Income NEC_Low, Urban / Rural_Urban",
          "Entrep. Activities_Low, Farming_Low, Urban / Rural_Urban",
          "Entrep. Activities_Low, Farming_Low",
          "Entrep. Activities_Low, Urban / Rural_Urban",
          "Other Income NEC_Low, Farming_Low",
          "Other Income NEC_Low, Urban / Rural_Urban",
          "Other Income NEC_Low",
          "Farming_Low",
          "Urban / Rural_Urban",
          "Entrep. Activities_Low, Farming_Low, Livestocks_Low",
          "Entrep. Activities_Low, Farming_Low, Urban / Rural_Urban",
          "Entrep. Activities_Low, Livestocks_Low, Urban / Rural_Urban",
          "Entrep. Activities_Low, Farming_Low",
          "Livestocks_Low, Farming_Low",
          "Farming_Low, Urban / Rural_Urban",
          "Entrep. Activities_Low, Livestocks_Low",
          "Entrep. Activities_Low, Urban / Rural_Urban",
          "Livestocks_Low, Urban / Rural_Urban",
          "Farming_Low",
          "Livestocks_Low",
          "Urban / Rural_Urban",
          "Entrep. Activities_Low, Other Income NEC_Low, Farming_Low, Urban / Rural_Urban",
          "Entrep. Activities_Low, Other Income NEC_Low, Livestocks_Low, Urban / Rural_Urban",
          "Entrep. Activities_Low, Other Income NEC_Low, Farming_Low, Livestocks_Low",
          "Entrep. Activities_Low, Farming_Low, Urban / Rural_Urban, Livestocks_Low",
          "Entrep. Activities_Low, Other Income NEC_Low, Urban / Rural_Urban",
          "Other Income NEC_Low, Farming_Low, Urban / Rural_Urban",
          "Other Income NEC_Low, Livestocks_Low, Urban / Rural_Urban",
          "Entrep. Activities_Low, Other Income NEC_Low, Farming_Low",
          "Entrep. Activities_Low, Other Income NEC_Low, Livestocks_Low",
          "Livestocks_Low, Other Income NEC_Low, Farming_Low",
          "Entrep. Activities_Low, Farming_Low, Urban / Rural_Urban",
          "Entrep. Activities_Low, Livestocks_Low, Urban / Rural_Urban",
          "Entrep. Activities_Low, Farming_Low, Livestocks_Low",
          "Other Income NEC_Low, Urban / Rural_Urban",
          "Other Income NEC_Low, Farming_Low",
          "Other Income NEC_Low, Livestocks_Low",
          "Entrep. Activities_Low, Urban / Rural_Urban",
          "Farming_Low, Urban / Rural_Urban",
          "Livestocks_Low, Urban / Rural_Urban",
          "Entrep. Activities_Low, Farming_Low",
          "Entrep. Activities_Low, Livestocks_Low",
          "Livestocks_Low, Farming_Low",
          "Other Income NEC_Low",
          "Urban / Rural_Urban",
          "Farming_Low",
          "Livestocks_Low"
         ],
         "legendgroup": "",
         "marker": {
          "color": [
           1.0092627832662797,
           1.0092627832662797,
           1.0357849410763138,
           1.035784941076314,
           1.0102105499638867,
           1.0016839548584593,
           1.0016839548584593,
           1.0102105499638867,
           1.0067936760544052,
           1.0067936760544052,
           1.0078507584142096,
           1.0020054215237963,
           1.0020054215237963,
           1.0078507584142096,
           1.042227791825274,
           1.0155406593206544,
           1.0451168116109457,
           1.0451168116109457,
           1.0155406593206542,
           1.0422277918252743,
           1.0404845141410395,
           1.0284561883484917,
           1.028456188348492,
           1.0404845141410395,
           1.0468201815504687,
           1.016361874631464,
           1.037830041749382,
           1.0507076918847735,
           1.0356902849259428,
           1.0123558838300075,
           1.0123558838300075,
           1.0356902849259428,
           1.0507076918847735,
           1.037830041749382,
           1.016361874631464,
           1.0468201815504687,
           1.0017236442453121,
           1.0017236442453124,
           1.0092506458322228,
           1.0092506458322228,
           1.1087171700179848,
           1.1087171700179848,
           1.2455218724340624,
           1.2455218724340624,
           1.0099862379953395,
           1.0099862379953395,
           1.1169872403743535,
           1.1095486526194922,
           1.0100075334995762,
           1.0100075334995762,
           1.1095486526194922,
           1.1169872403743535,
           1.0981692976192288,
           1.1074173129821587,
           1.1074173129821587,
           1.0981692976192288,
           1.1062356557793829,
           1.108191724264511,
           1.0106925162235694,
           1.099738202035056,
           1.1164343352938877,
           1.1164343352938877,
           1.0997382020350561,
           1.0106925162235694,
           1.1081917242645107,
           1.1062356557793829,
           1.2546531533020229,
           1.2471310510050249,
           1.010554568748349,
           1.010554568748349,
           1.2471310510050246,
           1.2546531533020229,
           1.3338559138660486,
           1.1272321466879105,
           1.2663214135917271,
           1.2663214135917273,
           1.1272321466879105,
           1.3338559138660486,
           1.237527684748673,
           1.2432531320280125,
           1.2432531320280122,
           1.237527684748673,
           1.342042303358959,
           1.127861241454518,
           1.0111185471554933,
           1.2677143738782766,
           1.2763170818894152,
           1.3363245882601165,
           1.1368895331351647,
           1.136889533135165,
           1.3363245882601165,
           1.2763170818894152,
           1.2677143738782766,
           1.0111185471554933,
           1.127861241454518,
           1.342042303358959,
           1.2464394964599381,
           1.2449016471269319,
           1.0113254484265413,
           1.240071775913202,
           1.2533231217564302,
           1.2533231217564305,
           1.2400717759132023,
           1.0113254484265413,
           1.2449016471269319,
           1.2464394964599381,
           1.3272218179700883,
           1.126322904812708,
           1.2644776839477205,
           1.2571788499042187,
           1.3303523235892254,
           1.1148825249631014,
           1.1148825249631014,
           1.3303523235892252,
           1.2571788499042185,
           1.2644776839477205,
           1.126322904812708,
           1.3272218179700885,
           1.1269678443344067,
           1.2659940468352762,
           1.33510681899656,
           1.0119045396873183,
           1.3328791076356439,
           1.1163718646342178,
           1.259540095715033,
           1.2669572280511665,
           1.1244184350425834,
           1.339557705923998,
           1.1368555491664063,
           1.2754494987772231,
           1.3307118388500403,
           1.3307118388500403,
           1.2754494987772231,
           1.136855549166406,
           1.339557705923998,
           1.1244184350425834,
           1.2669572280511665,
           1.259540095715033,
           1.1163718646342178,
           1.3328791076356439,
           1.0119045396873183,
           1.33510681899656,
           1.2659940468352762,
           1.1269678443344067
          ],
          "coloraxis": "coloraxis",
          "size": [
           1.0092627832662797,
           1.0092627832662797,
           1.0357849410763138,
           1.035784941076314,
           1.0102105499638867,
           1.0016839548584593,
           1.0016839548584593,
           1.0102105499638867,
           1.0067936760544052,
           1.0067936760544052,
           1.0078507584142096,
           1.0020054215237963,
           1.0020054215237963,
           1.0078507584142096,
           1.042227791825274,
           1.0155406593206544,
           1.0451168116109457,
           1.0451168116109457,
           1.0155406593206542,
           1.0422277918252743,
           1.0404845141410395,
           1.0284561883484917,
           1.028456188348492,
           1.0404845141410395,
           1.0468201815504687,
           1.016361874631464,
           1.037830041749382,
           1.0507076918847735,
           1.0356902849259428,
           1.0123558838300075,
           1.0123558838300075,
           1.0356902849259428,
           1.0507076918847735,
           1.037830041749382,
           1.016361874631464,
           1.0468201815504687,
           1.0017236442453121,
           1.0017236442453124,
           1.0092506458322228,
           1.0092506458322228,
           1.1087171700179848,
           1.1087171700179848,
           1.2455218724340624,
           1.2455218724340624,
           1.0099862379953395,
           1.0099862379953395,
           1.1169872403743535,
           1.1095486526194922,
           1.0100075334995762,
           1.0100075334995762,
           1.1095486526194922,
           1.1169872403743535,
           1.0981692976192288,
           1.1074173129821587,
           1.1074173129821587,
           1.0981692976192288,
           1.1062356557793829,
           1.108191724264511,
           1.0106925162235694,
           1.099738202035056,
           1.1164343352938877,
           1.1164343352938877,
           1.0997382020350561,
           1.0106925162235694,
           1.1081917242645107,
           1.1062356557793829,
           1.2546531533020229,
           1.2471310510050249,
           1.010554568748349,
           1.010554568748349,
           1.2471310510050246,
           1.2546531533020229,
           1.3338559138660486,
           1.1272321466879105,
           1.2663214135917271,
           1.2663214135917273,
           1.1272321466879105,
           1.3338559138660486,
           1.237527684748673,
           1.2432531320280125,
           1.2432531320280122,
           1.237527684748673,
           1.342042303358959,
           1.127861241454518,
           1.0111185471554933,
           1.2677143738782766,
           1.2763170818894152,
           1.3363245882601165,
           1.1368895331351647,
           1.136889533135165,
           1.3363245882601165,
           1.2763170818894152,
           1.2677143738782766,
           1.0111185471554933,
           1.127861241454518,
           1.342042303358959,
           1.2464394964599381,
           1.2449016471269319,
           1.0113254484265413,
           1.240071775913202,
           1.2533231217564302,
           1.2533231217564305,
           1.2400717759132023,
           1.0113254484265413,
           1.2449016471269319,
           1.2464394964599381,
           1.3272218179700883,
           1.126322904812708,
           1.2644776839477205,
           1.2571788499042187,
           1.3303523235892254,
           1.1148825249631014,
           1.1148825249631014,
           1.3303523235892252,
           1.2571788499042185,
           1.2644776839477205,
           1.126322904812708,
           1.3272218179700885,
           1.1269678443344067,
           1.2659940468352762,
           1.33510681899656,
           1.0119045396873183,
           1.3328791076356439,
           1.1163718646342178,
           1.259540095715033,
           1.2669572280511665,
           1.1244184350425834,
           1.339557705923998,
           1.1368555491664063,
           1.2754494987772231,
           1.3307118388500403,
           1.3307118388500403,
           1.2754494987772231,
           1.136855549166406,
           1.339557705923998,
           1.1244184350425834,
           1.2669572280511665,
           1.259540095715033,
           1.1163718646342178,
           1.3328791076356439,
           1.0119045396873183,
           1.33510681899656,
           1.2659940468352762,
           1.1269678443344067
          ],
          "sizemode": "area",
          "sizeref": 0.0033551057583973976,
          "symbol": "circle"
         },
         "mode": "markers",
         "name": "",
         "orientation": "v",
         "showlegend": false,
         "type": "scatter",
         "x": [
          0.526727352929382,
          0.526727352929382,
          0.3831455267273529,
          0.3831455267273529,
          0.5009089572389087,
          0.5009089572389087,
          0.5009089572389087,
          0.5009089572389087,
          0.40379088636697813,
          0.40379088636697813,
          0.3850636938418147,
          0.3850636938418147,
          0.3850636938418147,
          0.3850636938418147,
          0.3718503963320902,
          0.3718503963320902,
          0.3718503963320902,
          0.3718503963320902,
          0.3718503963320902,
          0.3718503963320902,
          0.3656748339147986,
          0.3656748339147986,
          0.3656748339147986,
          0.3656748339147986,
          0.35518172461269065,
          0.35518172461269065,
          0.35518172461269065,
          0.35518172461269065,
          0.35518172461269065,
          0.35518172461269065,
          0.35518172461269065,
          0.35518172461269065,
          0.35518172461269065,
          0.35518172461269065,
          0.35518172461269065,
          0.35518172461269065,
          0.300691074841935,
          0.300691074841935,
          0.4386052853190039,
          0.4386052853190039,
          0.42515138148133297,
          0.42515138148133297,
          0.4085294943257008,
          0.4085294943257008,
          0.4147919423614174,
          0.4147919423614174,
          0.4111360628784537,
          0.4111360628784537,
          0.4111360628784537,
          0.4111360628784537,
          0.4111360628784537,
          0.4111360628784537,
          0.4013046209781984,
          0.4013046209781984,
          0.4013046209781984,
          0.4013046209781984,
          0.38833861330552993,
          0.38833861330552993,
          0.38833861330552993,
          0.38833861330552993,
          0.38833861330552993,
          0.38833861330552993,
          0.38833861330552993,
          0.38833861330552993,
          0.38833861330552993,
          0.38833861330552993,
          0.3952760957613185,
          0.3952760957613185,
          0.3952760957613185,
          0.3952760957613185,
          0.3952760957613185,
          0.3952760957613185,
          0.38904706527114996,
          0.38904706527114996,
          0.38904706527114996,
          0.38904706527114996,
          0.38904706527114996,
          0.38904706527114996,
          0.3853644517517477,
          0.3853644517517477,
          0.3853644517517477,
          0.3853644517517477,
          0.3766357888545802,
          0.3766357888545802,
          0.3766357888545802,
          0.3766357888545802,
          0.3766357888545802,
          0.3766357888545802,
          0.3766357888545802,
          0.3766357888545802,
          0.3766357888545802,
          0.3766357888545802,
          0.3766357888545802,
          0.3766357888545802,
          0.3766357888545802,
          0.3766357888545802,
          0.37314699709935706,
          0.37314699709935706,
          0.37314699709935706,
          0.37314699709935706,
          0.37314699709935706,
          0.37314699709935706,
          0.37314699709935706,
          0.37314699709935706,
          0.37314699709935706,
          0.37314699709935706,
          0.3666907272994613,
          0.3666907272994613,
          0.3666907272994613,
          0.3666907272994613,
          0.3666907272994613,
          0.3666907272994613,
          0.3666907272994613,
          0.3666907272994613,
          0.3666907272994613,
          0.3666907272994613,
          0.3666907272994613,
          0.3666907272994613,
          0.3552686102311157,
          0.3552686102311157,
          0.3552686102311157,
          0.3552686102311157,
          0.3552686102311157,
          0.3552686102311157,
          0.3552686102311157,
          0.3552686102311157,
          0.3552686102311157,
          0.3552686102311157,
          0.3552686102311157,
          0.3552686102311157,
          0.3552686102311157,
          0.3552686102311157,
          0.3552686102311157,
          0.3552686102311157,
          0.3552686102311157,
          0.3552686102311157,
          0.3552686102311157,
          0.3552686102311157,
          0.3552686102311157,
          0.3552686102311157,
          0.3552686102311157,
          0.3552686102311157,
          0.3552686102311157,
          0.3552686102311157
         ],
         "xaxis": "x",
         "y": [
          0.9645204322657234,
          0.5511612781402765,
          0.701599578993746,
          0.5656451039981055,
          0.9654261828393298,
          0.5470224583786466,
          0.9172428985791038,
          0.524145213967508,
          0.962160784813352,
          0.4225220121827553,
          0.9631710048982731,
          0.9175372658937444,
          0.42051252107525783,
          0.40292609921042877,
          0.7059637101890623,
          0.9705199993022486,
          0.5707412650540613,
          0.6809164229154683,
          0.3890998608284553,
          0.5489698859375617,
          0.7047828831265861,
          0.5616428512769975,
          0.6696079991188241,
          0.5398527844654063,
          0.7090744125848933,
          0.9713048087291869,
          0.5667619392956935,
          0.6845590034908736,
          0.6743179799517829,
          0.9270151935388212,
          0.38787962834558315,
          0.5455264022337193,
          0.5451570546357277,
          0.650393469507643,
          0.37165795970319393,
          0.5243616055570904,
          0.957315516214146,
          0.3146395876605893,
          0.458095995979226,
          0.9663098375863236,
          0.5032435682415113,
          0.9366689735396757,
          0.5653388333441237,
          0.9000485915804044,
          0.9670141323485875,
          0.4332244373708606,
          0.5069973296409851,
          0.9373714285714286,
          0.9670345217883418,
          0.4294060981738985,
          0.4866539033574887,
          0.9057912329009173,
          0.4984559189772539,
          0.9355708253478552,
          0.4750166133983102,
          0.8841311678176491,
          0.5021172159905979,
          0.9362250652573234,
          0.9676903604023716,
          0.4823509878797941,
          0.9053428691628103,
          0.47888438334487193,
          0.8853942857142857,
          0.4055955771486011,
          0.45966899781652476,
          0.8555652084284304,
          0.5694834957439433,
          0.9012114285714286,
          0.9675582822085889,
          0.41284134695928965,
          0.546998270456248,
          0.8708494691737958,
          0.6054334033657147,
          0.9523108384458077,
          0.9150789159278123,
          0.5383782983879173,
          0.4605075788740862,
          0.8571260288899032,
          0.56171029430389,
          0.8984091369451066,
          0.5332821561028847,
          0.8490127074345117,
          0.609149182259407,
          0.9528423117243245,
          0.9680982649029376,
          0.9160855075997724,
          0.5426279705735084,
          0.5861190273126288,
          0.9219304703476482,
          0.46445290607589096,
          0.858712380952381,
          0.8858863107589763,
          0.5212030965307387,
          0.39337270341207353,
          0.4458165880826556,
          0.8297822213714605,
          0.5657553402780593,
          0.8996003996003996,
          0.9682963631002967,
          0.5439020350904539,
          0.869926299880023,
          0.5376015868736279,
          0.8507580952380953,
          0.3897288769754845,
          0.516375172260708,
          0.8220959168347739,
          0.6024222061181017,
          0.9515426906467334,
          0.9137465858370527,
          0.5344913248058919,
          0.5706425644332578,
          0.8975869120654395,
          0.4554623941557363,
          0.8548746474703562,
          0.8624944978934791,
          0.5074407376920301,
          0.43404480870858514,
          0.8078718360255032,
          0.9520875499274596,
          0.9148423516453256,
          0.6060011856445803,
          0.9688508156383852,
          0.856498340369308,
          0.8987859727435663,
          0.8641144436316345,
          0.5386486157837137,
          0.4593580946784424,
          0.5745911297034947,
          0.9219029119478312,
          0.8852841249750182,
          0.5836572457561983,
          0.8099961904761904,
          0.5118437776836267,
          0.4381037154254442,
          0.8282459994702316,
          0.8696278118609406,
          0.8356284977677167,
          0.5178423559898294,
          0.44127511207039677,
          0.5528675139891415,
          0.37105601161556934,
          0.7827072872645885,
          0.4916343726010673,
          0.42052466694091956
         ],
         "yaxis": "y"
        }
       ],
       "layout": {
        "coloraxis": {
         "colorbar": {
          "title": {
           "text": "lift"
          }
         },
         "colorscale": [
          [
           0,
           "#0d0887"
          ],
          [
           0.1111111111111111,
           "#46039f"
          ],
          [
           0.2222222222222222,
           "#7201a8"
          ],
          [
           0.3333333333333333,
           "#9c179e"
          ],
          [
           0.4444444444444444,
           "#bd3786"
          ],
          [
           0.5555555555555556,
           "#d8576b"
          ],
          [
           0.6666666666666666,
           "#ed7953"
          ],
          [
           0.7777777777777778,
           "#fb9f3a"
          ],
          [
           0.8888888888888888,
           "#fdca26"
          ],
          [
           1,
           "#f0f921"
          ]
         ]
        },
        "legend": {
         "itemsizing": "constant",
         "tracegroupgap": 0
        },
        "template": {
         "data": {
          "bar": [
           {
            "error_x": {
             "color": "#2a3f5f"
            },
            "error_y": {
             "color": "#2a3f5f"
            },
            "marker": {
             "line": {
              "color": "#E5ECF6",
              "width": 0.5
             },
             "pattern": {
              "fillmode": "overlay",
              "size": 10,
              "solidity": 0.2
             }
            },
            "type": "bar"
           }
          ],
          "barpolar": [
           {
            "marker": {
             "line": {
              "color": "#E5ECF6",
              "width": 0.5
             },
             "pattern": {
              "fillmode": "overlay",
              "size": 10,
              "solidity": 0.2
             }
            },
            "type": "barpolar"
           }
          ],
          "carpet": [
           {
            "aaxis": {
             "endlinecolor": "#2a3f5f",
             "gridcolor": "white",
             "linecolor": "white",
             "minorgridcolor": "white",
             "startlinecolor": "#2a3f5f"
            },
            "baxis": {
             "endlinecolor": "#2a3f5f",
             "gridcolor": "white",
             "linecolor": "white",
             "minorgridcolor": "white",
             "startlinecolor": "#2a3f5f"
            },
            "type": "carpet"
           }
          ],
          "choropleth": [
           {
            "colorbar": {
             "outlinewidth": 0,
             "ticks": ""
            },
            "type": "choropleth"
           }
          ],
          "contour": [
           {
            "colorbar": {
             "outlinewidth": 0,
             "ticks": ""
            },
            "colorscale": [
             [
              0,
              "#0d0887"
             ],
             [
              0.1111111111111111,
              "#46039f"
             ],
             [
              0.2222222222222222,
              "#7201a8"
             ],
             [
              0.3333333333333333,
              "#9c179e"
             ],
             [
              0.4444444444444444,
              "#bd3786"
             ],
             [
              0.5555555555555556,
              "#d8576b"
             ],
             [
              0.6666666666666666,
              "#ed7953"
             ],
             [
              0.7777777777777778,
              "#fb9f3a"
             ],
             [
              0.8888888888888888,
              "#fdca26"
             ],
             [
              1,
              "#f0f921"
             ]
            ],
            "type": "contour"
           }
          ],
          "contourcarpet": [
           {
            "colorbar": {
             "outlinewidth": 0,
             "ticks": ""
            },
            "type": "contourcarpet"
           }
          ],
          "heatmap": [
           {
            "colorbar": {
             "outlinewidth": 0,
             "ticks": ""
            },
            "colorscale": [
             [
              0,
              "#0d0887"
             ],
             [
              0.1111111111111111,
              "#46039f"
             ],
             [
              0.2222222222222222,
              "#7201a8"
             ],
             [
              0.3333333333333333,
              "#9c179e"
             ],
             [
              0.4444444444444444,
              "#bd3786"
             ],
             [
              0.5555555555555556,
              "#d8576b"
             ],
             [
              0.6666666666666666,
              "#ed7953"
             ],
             [
              0.7777777777777778,
              "#fb9f3a"
             ],
             [
              0.8888888888888888,
              "#fdca26"
             ],
             [
              1,
              "#f0f921"
             ]
            ],
            "type": "heatmap"
           }
          ],
          "heatmapgl": [
           {
            "colorbar": {
             "outlinewidth": 0,
             "ticks": ""
            },
            "colorscale": [
             [
              0,
              "#0d0887"
             ],
             [
              0.1111111111111111,
              "#46039f"
             ],
             [
              0.2222222222222222,
              "#7201a8"
             ],
             [
              0.3333333333333333,
              "#9c179e"
             ],
             [
              0.4444444444444444,
              "#bd3786"
             ],
             [
              0.5555555555555556,
              "#d8576b"
             ],
             [
              0.6666666666666666,
              "#ed7953"
             ],
             [
              0.7777777777777778,
              "#fb9f3a"
             ],
             [
              0.8888888888888888,
              "#fdca26"
             ],
             [
              1,
              "#f0f921"
             ]
            ],
            "type": "heatmapgl"
           }
          ],
          "histogram": [
           {
            "marker": {
             "pattern": {
              "fillmode": "overlay",
              "size": 10,
              "solidity": 0.2
             }
            },
            "type": "histogram"
           }
          ],
          "histogram2d": [
           {
            "colorbar": {
             "outlinewidth": 0,
             "ticks": ""
            },
            "colorscale": [
             [
              0,
              "#0d0887"
             ],
             [
              0.1111111111111111,
              "#46039f"
             ],
             [
              0.2222222222222222,
              "#7201a8"
             ],
             [
              0.3333333333333333,
              "#9c179e"
             ],
             [
              0.4444444444444444,
              "#bd3786"
             ],
             [
              0.5555555555555556,
              "#d8576b"
             ],
             [
              0.6666666666666666,
              "#ed7953"
             ],
             [
              0.7777777777777778,
              "#fb9f3a"
             ],
             [
              0.8888888888888888,
              "#fdca26"
             ],
             [
              1,
              "#f0f921"
             ]
            ],
            "type": "histogram2d"
           }
          ],
          "histogram2dcontour": [
           {
            "colorbar": {
             "outlinewidth": 0,
             "ticks": ""
            },
            "colorscale": [
             [
              0,
              "#0d0887"
             ],
             [
              0.1111111111111111,
              "#46039f"
             ],
             [
              0.2222222222222222,
              "#7201a8"
             ],
             [
              0.3333333333333333,
              "#9c179e"
             ],
             [
              0.4444444444444444,
              "#bd3786"
             ],
             [
              0.5555555555555556,
              "#d8576b"
             ],
             [
              0.6666666666666666,
              "#ed7953"
             ],
             [
              0.7777777777777778,
              "#fb9f3a"
             ],
             [
              0.8888888888888888,
              "#fdca26"
             ],
             [
              1,
              "#f0f921"
             ]
            ],
            "type": "histogram2dcontour"
           }
          ],
          "mesh3d": [
           {
            "colorbar": {
             "outlinewidth": 0,
             "ticks": ""
            },
            "type": "mesh3d"
           }
          ],
          "parcoords": [
           {
            "line": {
             "colorbar": {
              "outlinewidth": 0,
              "ticks": ""
             }
            },
            "type": "parcoords"
           }
          ],
          "pie": [
           {
            "automargin": true,
            "type": "pie"
           }
          ],
          "scatter": [
           {
            "fillpattern": {
             "fillmode": "overlay",
             "size": 10,
             "solidity": 0.2
            },
            "type": "scatter"
           }
          ],
          "scatter3d": [
           {
            "line": {
             "colorbar": {
              "outlinewidth": 0,
              "ticks": ""
             }
            },
            "marker": {
             "colorbar": {
              "outlinewidth": 0,
              "ticks": ""
             }
            },
            "type": "scatter3d"
           }
          ],
          "scattercarpet": [
           {
            "marker": {
             "colorbar": {
              "outlinewidth": 0,
              "ticks": ""
             }
            },
            "type": "scattercarpet"
           }
          ],
          "scattergeo": [
           {
            "marker": {
             "colorbar": {
              "outlinewidth": 0,
              "ticks": ""
             }
            },
            "type": "scattergeo"
           }
          ],
          "scattergl": [
           {
            "marker": {
             "colorbar": {
              "outlinewidth": 0,
              "ticks": ""
             }
            },
            "type": "scattergl"
           }
          ],
          "scattermapbox": [
           {
            "marker": {
             "colorbar": {
              "outlinewidth": 0,
              "ticks": ""
             }
            },
            "type": "scattermapbox"
           }
          ],
          "scatterpolar": [
           {
            "marker": {
             "colorbar": {
              "outlinewidth": 0,
              "ticks": ""
             }
            },
            "type": "scatterpolar"
           }
          ],
          "scatterpolargl": [
           {
            "marker": {
             "colorbar": {
              "outlinewidth": 0,
              "ticks": ""
             }
            },
            "type": "scatterpolargl"
           }
          ],
          "scatterternary": [
           {
            "marker": {
             "colorbar": {
              "outlinewidth": 0,
              "ticks": ""
             }
            },
            "type": "scatterternary"
           }
          ],
          "surface": [
           {
            "colorbar": {
             "outlinewidth": 0,
             "ticks": ""
            },
            "colorscale": [
             [
              0,
              "#0d0887"
             ],
             [
              0.1111111111111111,
              "#46039f"
             ],
             [
              0.2222222222222222,
              "#7201a8"
             ],
             [
              0.3333333333333333,
              "#9c179e"
             ],
             [
              0.4444444444444444,
              "#bd3786"
             ],
             [
              0.5555555555555556,
              "#d8576b"
             ],
             [
              0.6666666666666666,
              "#ed7953"
             ],
             [
              0.7777777777777778,
              "#fb9f3a"
             ],
             [
              0.8888888888888888,
              "#fdca26"
             ],
             [
              1,
              "#f0f921"
             ]
            ],
            "type": "surface"
           }
          ],
          "table": [
           {
            "cells": {
             "fill": {
              "color": "#EBF0F8"
             },
             "line": {
              "color": "white"
             }
            },
            "header": {
             "fill": {
              "color": "#C8D4E3"
             },
             "line": {
              "color": "white"
             }
            },
            "type": "table"
           }
          ]
         },
         "layout": {
          "annotationdefaults": {
           "arrowcolor": "#2a3f5f",
           "arrowhead": 0,
           "arrowwidth": 1
          },
          "autotypenumbers": "strict",
          "coloraxis": {
           "colorbar": {
            "outlinewidth": 0,
            "ticks": ""
           }
          },
          "colorscale": {
           "diverging": [
            [
             0,
             "#8e0152"
            ],
            [
             0.1,
             "#c51b7d"
            ],
            [
             0.2,
             "#de77ae"
            ],
            [
             0.3,
             "#f1b6da"
            ],
            [
             0.4,
             "#fde0ef"
            ],
            [
             0.5,
             "#f7f7f7"
            ],
            [
             0.6,
             "#e6f5d0"
            ],
            [
             0.7,
             "#b8e186"
            ],
            [
             0.8,
             "#7fbc41"
            ],
            [
             0.9,
             "#4d9221"
            ],
            [
             1,
             "#276419"
            ]
           ],
           "sequential": [
            [
             0,
             "#0d0887"
            ],
            [
             0.1111111111111111,
             "#46039f"
            ],
            [
             0.2222222222222222,
             "#7201a8"
            ],
            [
             0.3333333333333333,
             "#9c179e"
            ],
            [
             0.4444444444444444,
             "#bd3786"
            ],
            [
             0.5555555555555556,
             "#d8576b"
            ],
            [
             0.6666666666666666,
             "#ed7953"
            ],
            [
             0.7777777777777778,
             "#fb9f3a"
            ],
            [
             0.8888888888888888,
             "#fdca26"
            ],
            [
             1,
             "#f0f921"
            ]
           ],
           "sequentialminus": [
            [
             0,
             "#0d0887"
            ],
            [
             0.1111111111111111,
             "#46039f"
            ],
            [
             0.2222222222222222,
             "#7201a8"
            ],
            [
             0.3333333333333333,
             "#9c179e"
            ],
            [
             0.4444444444444444,
             "#bd3786"
            ],
            [
             0.5555555555555556,
             "#d8576b"
            ],
            [
             0.6666666666666666,
             "#ed7953"
            ],
            [
             0.7777777777777778,
             "#fb9f3a"
            ],
            [
             0.8888888888888888,
             "#fdca26"
            ],
            [
             1,
             "#f0f921"
            ]
           ]
          },
          "colorway": [
           "#636efa",
           "#EF553B",
           "#00cc96",
           "#ab63fa",
           "#FFA15A",
           "#19d3f3",
           "#FF6692",
           "#B6E880",
           "#FF97FF",
           "#FECB52"
          ],
          "font": {
           "color": "#2a3f5f"
          },
          "geo": {
           "bgcolor": "white",
           "lakecolor": "white",
           "landcolor": "#E5ECF6",
           "showlakes": true,
           "showland": true,
           "subunitcolor": "white"
          },
          "hoverlabel": {
           "align": "left"
          },
          "hovermode": "closest",
          "mapbox": {
           "style": "light"
          },
          "paper_bgcolor": "white",
          "plot_bgcolor": "#E5ECF6",
          "polar": {
           "angularaxis": {
            "gridcolor": "white",
            "linecolor": "white",
            "ticks": ""
           },
           "bgcolor": "#E5ECF6",
           "radialaxis": {
            "gridcolor": "white",
            "linecolor": "white",
            "ticks": ""
           }
          },
          "scene": {
           "xaxis": {
            "backgroundcolor": "#E5ECF6",
            "gridcolor": "white",
            "gridwidth": 2,
            "linecolor": "white",
            "showbackground": true,
            "ticks": "",
            "zerolinecolor": "white"
           },
           "yaxis": {
            "backgroundcolor": "#E5ECF6",
            "gridcolor": "white",
            "gridwidth": 2,
            "linecolor": "white",
            "showbackground": true,
            "ticks": "",
            "zerolinecolor": "white"
           },
           "zaxis": {
            "backgroundcolor": "#E5ECF6",
            "gridcolor": "white",
            "gridwidth": 2,
            "linecolor": "white",
            "showbackground": true,
            "ticks": "",
            "zerolinecolor": "white"
           }
          },
          "shapedefaults": {
           "line": {
            "color": "#2a3f5f"
           }
          },
          "ternary": {
           "aaxis": {
            "gridcolor": "white",
            "linecolor": "white",
            "ticks": ""
           },
           "baxis": {
            "gridcolor": "white",
            "linecolor": "white",
            "ticks": ""
           },
           "bgcolor": "#E5ECF6",
           "caxis": {
            "gridcolor": "white",
            "linecolor": "white",
            "ticks": ""
           }
          },
          "title": {
           "x": 0.05
          },
          "xaxis": {
           "automargin": true,
           "gridcolor": "white",
           "linecolor": "white",
           "ticks": "",
           "title": {
            "standoff": 15
           },
           "zerolinecolor": "white",
           "zerolinewidth": 2
          },
          "yaxis": {
           "automargin": true,
           "gridcolor": "white",
           "linecolor": "white",
           "ticks": "",
           "title": {
            "standoff": 15
           },
           "zerolinecolor": "white",
           "zerolinewidth": 2
          }
         }
        },
        "title": {
         "text": "Association Rules Visualization"
        },
        "xaxis": {
         "anchor": "y",
         "domain": [
          0,
          1
         ],
         "title": {
          "text": "Support"
         }
        },
        "yaxis": {
         "anchor": "x",
         "domain": [
          0,
          1
         ],
         "title": {
          "text": "Confidence"
         }
        }
       }
      }
     },
     "metadata": {},
     "output_type": "display_data"
    }
   ],
   "source": [
    "# Create an interactive scatter plot using Plotly\n",
    "fig = px.scatter(\n",
    "    filtered_rules,\n",
    "    x='support',\n",
    "    y='confidence',\n",
    "    size='lift',\n",
    "    color='lift',\n",
    "    hover_name='antecedents',\n",
    "    hover_data=['consequents', 'support', 'confidence', 'lift'],\n",
    "    title='Association Rules Visualization',\n",
    "    labels={'support': 'Support', 'confidence': 'Confidence'},\n",
    ")\n",
    "\n",
    "# Show the plot\n",
    "fig.show()"
   ]
  }
 ],
 "metadata": {
  "kernelspec": {
   "display_name": "DataMining",
   "language": "python",
   "name": "python3"
  },
  "language_info": {
   "codemirror_mode": {
    "name": "ipython",
    "version": 3
   },
   "file_extension": ".py",
   "mimetype": "text/x-python",
   "name": "python",
   "nbconvert_exporter": "python",
   "pygments_lexer": "ipython3",
   "version": "3.12.8"
  }
 },
 "nbformat": 4,
 "nbformat_minor": 2
}
