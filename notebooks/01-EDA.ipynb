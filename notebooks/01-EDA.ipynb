{
 "cells": [
  {
   "cell_type": "markdown",
   "metadata": {},
   "source": [
    "# 1. Data Import & Exploration\n"
   ]
  },
  {
   "cell_type": "markdown",
   "metadata": {},
   "source": [
    "## Load the large dataset\n"
   ]
  },
  {
   "cell_type": "code",
   "execution_count": 111,
   "metadata": {},
   "outputs": [
    {
     "name": "stderr",
     "output_type": "stream",
     "text": [
      "/var/folders/mp/c7pgmq8j0472f05vnx5h16000000gn/T/ipykernel_32069/1772706027.py:3: DtypeWarning: Columns (77) have mixed types. Specify dtype option on import or set low_memory=False.\n",
      "  fies_df = pd.read_csv('../datasets/fies_2023_volume1_494887610821.csv')\n"
     ]
    },
    {
     "data": {
      "text/html": [
       "<div>\n",
       "<style scoped>\n",
       "    .dataframe tbody tr th:only-of-type {\n",
       "        vertical-align: middle;\n",
       "    }\n",
       "\n",
       "    .dataframe tbody tr th {\n",
       "        vertical-align: top;\n",
       "    }\n",
       "\n",
       "    .dataframe thead th {\n",
       "        text-align: right;\n",
       "    }\n",
       "</style>\n",
       "<table border=\"1\" class=\"dataframe\">\n",
       "  <thead>\n",
       "    <tr style=\"text-align: right;\">\n",
       "      <th></th>\n",
       "      <th>RDMD_ID</th>\n",
       "      <th>Region</th>\n",
       "      <th>Province</th>\n",
       "      <th>Household ID</th>\n",
       "      <th>RECODED PROVINCE</th>\n",
       "      <th>Family Size</th>\n",
       "      <th>Salaries/Wages from Regular Employment</th>\n",
       "      <th>Salaries/Wages from Seasonal Employment</th>\n",
       "      <th>Income from Salaries and Wages</th>\n",
       "      <th>Net Share of Crops, Fruits, etc. (Tot. Net Value of Share)</th>\n",
       "      <th>...</th>\n",
       "      <th>Raising Factor</th>\n",
       "      <th>Final Population Weights</th>\n",
       "      <th>Urban / Rural</th>\n",
       "      <th>Per Capita Income</th>\n",
       "      <th>NPCINC</th>\n",
       "      <th>RPCINC</th>\n",
       "      <th>Per Capita Income Decile (Province)</th>\n",
       "      <th>pPCINC</th>\n",
       "      <th>Per Capita Income Decile (Region with Negros Island Region (NIR))</th>\n",
       "      <th>Region (with NIR)</th>\n",
       "    </tr>\n",
       "  </thead>\n",
       "  <tbody>\n",
       "    <tr>\n",
       "      <th>0</th>\n",
       "      <td>1</td>\n",
       "      <td>1</td>\n",
       "      <td>28</td>\n",
       "      <td>1</td>\n",
       "      <td>2800</td>\n",
       "      <td>2.5</td>\n",
       "      <td>119000</td>\n",
       "      <td>0</td>\n",
       "      <td>119000</td>\n",
       "      <td>0</td>\n",
       "      <td>...</td>\n",
       "      <td>88.543663</td>\n",
       "      <td>229.392223</td>\n",
       "      <td>2</td>\n",
       "      <td>242828.000000</td>\n",
       "      <td>10</td>\n",
       "      <td>10</td>\n",
       "      <td>10</td>\n",
       "      <td>10</td>\n",
       "      <td>10</td>\n",
       "      <td>1</td>\n",
       "    </tr>\n",
       "    <tr>\n",
       "      <th>1</th>\n",
       "      <td>2</td>\n",
       "      <td>1</td>\n",
       "      <td>28</td>\n",
       "      <td>2</td>\n",
       "      <td>2800</td>\n",
       "      <td>6.0</td>\n",
       "      <td>154400</td>\n",
       "      <td>0</td>\n",
       "      <td>154400</td>\n",
       "      <td>0</td>\n",
       "      <td>...</td>\n",
       "      <td>88.543663</td>\n",
       "      <td>550.541336</td>\n",
       "      <td>2</td>\n",
       "      <td>68663.335938</td>\n",
       "      <td>5</td>\n",
       "      <td>5</td>\n",
       "      <td>2</td>\n",
       "      <td>2</td>\n",
       "      <td>5</td>\n",
       "      <td>1</td>\n",
       "    </tr>\n",
       "    <tr>\n",
       "      <th>2</th>\n",
       "      <td>3</td>\n",
       "      <td>1</td>\n",
       "      <td>28</td>\n",
       "      <td>3</td>\n",
       "      <td>2800</td>\n",
       "      <td>3.5</td>\n",
       "      <td>683452</td>\n",
       "      <td>0</td>\n",
       "      <td>683452</td>\n",
       "      <td>0</td>\n",
       "      <td>...</td>\n",
       "      <td>88.543663</td>\n",
       "      <td>321.149113</td>\n",
       "      <td>2</td>\n",
       "      <td>233774.859375</td>\n",
       "      <td>10</td>\n",
       "      <td>10</td>\n",
       "      <td>10</td>\n",
       "      <td>10</td>\n",
       "      <td>10</td>\n",
       "      <td>1</td>\n",
       "    </tr>\n",
       "    <tr>\n",
       "      <th>3</th>\n",
       "      <td>4</td>\n",
       "      <td>1</td>\n",
       "      <td>28</td>\n",
       "      <td>4</td>\n",
       "      <td>2800</td>\n",
       "      <td>2.5</td>\n",
       "      <td>48200</td>\n",
       "      <td>0</td>\n",
       "      <td>48200</td>\n",
       "      <td>10000</td>\n",
       "      <td>...</td>\n",
       "      <td>88.543663</td>\n",
       "      <td>229.392223</td>\n",
       "      <td>2</td>\n",
       "      <td>103415.203125</td>\n",
       "      <td>7</td>\n",
       "      <td>8</td>\n",
       "      <td>5</td>\n",
       "      <td>5</td>\n",
       "      <td>8</td>\n",
       "      <td>1</td>\n",
       "    </tr>\n",
       "    <tr>\n",
       "      <th>4</th>\n",
       "      <td>5</td>\n",
       "      <td>1</td>\n",
       "      <td>28</td>\n",
       "      <td>5</td>\n",
       "      <td>2800</td>\n",
       "      <td>3.0</td>\n",
       "      <td>400994</td>\n",
       "      <td>0</td>\n",
       "      <td>400994</td>\n",
       "      <td>0</td>\n",
       "      <td>...</td>\n",
       "      <td>88.543663</td>\n",
       "      <td>275.270668</td>\n",
       "      <td>2</td>\n",
       "      <td>183574.671875</td>\n",
       "      <td>9</td>\n",
       "      <td>10</td>\n",
       "      <td>9</td>\n",
       "      <td>9</td>\n",
       "      <td>10</td>\n",
       "      <td>1</td>\n",
       "    </tr>\n",
       "  </tbody>\n",
       "</table>\n",
       "<p>5 rows × 91 columns</p>\n",
       "</div>"
      ],
      "text/plain": [
       "   RDMD_ID  Region  Province  Household ID  RECODED PROVINCE  Family Size  \\\n",
       "0        1       1        28             1              2800          2.5   \n",
       "1        2       1        28             2              2800          6.0   \n",
       "2        3       1        28             3              2800          3.5   \n",
       "3        4       1        28             4              2800          2.5   \n",
       "4        5       1        28             5              2800          3.0   \n",
       "\n",
       "   Salaries/Wages from Regular Employment  \\\n",
       "0                                  119000   \n",
       "1                                  154400   \n",
       "2                                  683452   \n",
       "3                                   48200   \n",
       "4                                  400994   \n",
       "\n",
       "   Salaries/Wages from Seasonal Employment  Income from Salaries and Wages  \\\n",
       "0                                        0                          119000   \n",
       "1                                        0                          154400   \n",
       "2                                        0                          683452   \n",
       "3                                        0                           48200   \n",
       "4                                        0                          400994   \n",
       "\n",
       "   Net Share of Crops, Fruits, etc. (Tot. Net Value of Share)  ...  \\\n",
       "0                                                  0           ...   \n",
       "1                                                  0           ...   \n",
       "2                                                  0           ...   \n",
       "3                                              10000           ...   \n",
       "4                                                  0           ...   \n",
       "\n",
       "   Raising Factor  Final Population Weights  Urban / Rural  Per Capita Income  \\\n",
       "0       88.543663                229.392223              2      242828.000000   \n",
       "1       88.543663                550.541336              2       68663.335938   \n",
       "2       88.543663                321.149113              2      233774.859375   \n",
       "3       88.543663                229.392223              2      103415.203125   \n",
       "4       88.543663                275.270668              2      183574.671875   \n",
       "\n",
       "   NPCINC  RPCINC  Per Capita Income Decile (Province)  pPCINC  \\\n",
       "0      10      10                                   10      10   \n",
       "1       5       5                                    2       2   \n",
       "2      10      10                                   10      10   \n",
       "3       7       8                                    5       5   \n",
       "4       9      10                                    9       9   \n",
       "\n",
       "   Per Capita Income Decile (Region with Negros Island Region (NIR))  \\\n",
       "0                                                 10                   \n",
       "1                                                  5                   \n",
       "2                                                 10                   \n",
       "3                                                  8                   \n",
       "4                                                 10                   \n",
       "\n",
       "   Region (with NIR)  \n",
       "0                  1  \n",
       "1                  1  \n",
       "2                  1  \n",
       "3                  1  \n",
       "4                  1  \n",
       "\n",
       "[5 rows x 91 columns]"
      ]
     },
     "execution_count": 111,
     "metadata": {},
     "output_type": "execute_result"
    }
   ],
   "source": [
    "import pandas as pd\n",
    "import numpy as np\n",
    "fies_df = pd.read_csv('../datasets/fies_2023_volume1_494887610821.csv')\n",
    "fies_df.head()"
   ]
  },
  {
   "cell_type": "markdown",
   "metadata": {},
   "source": [
    "# 2. Identifying Data and Attributes\n"
   ]
  },
  {
   "cell_type": "markdown",
   "metadata": {},
   "source": [
    "## List all column types and data types\n"
   ]
  },
  {
   "cell_type": "code",
   "execution_count": 112,
   "metadata": {},
   "outputs": [
    {
     "data": {
      "text/plain": [
       "RDMD_ID                                                              int64\n",
       "Region                                                               int64\n",
       "Province                                                             int64\n",
       "Household ID                                                         int64\n",
       "RECODED PROVINCE                                                     int64\n",
       "                                                                     ...  \n",
       "RPCINC                                                               int64\n",
       "Per Capita Income Decile (Province)                                  int64\n",
       "pPCINC                                                               int64\n",
       "Per Capita Income Decile (Region with Negros Island Region (NIR))    int64\n",
       "Region (with NIR)                                                    int64\n",
       "Length: 91, dtype: object"
      ]
     },
     "execution_count": 112,
     "metadata": {},
     "output_type": "execute_result"
    }
   ],
   "source": [
    "# List all column types and data types\n",
    "fies_df.dtypes"
   ]
  },
  {
   "cell_type": "markdown",
   "metadata": {},
   "source": [
    "# 3. Determining the Type of Dataset\n"
   ]
  },
  {
   "cell_type": "markdown",
   "metadata": {},
   "source": [
    "## Check if columns are numerical, categorical, or mixed.\n"
   ]
  },
  {
   "cell_type": "code",
   "execution_count": 113,
   "metadata": {},
   "outputs": [
    {
     "name": "stdout",
     "output_type": "stream",
     "text": [
      "RDMD_ID : integer\n",
      "Region : integer\n",
      "Province : integer\n",
      "Household ID : integer\n",
      "RECODED PROVINCE : integer\n",
      "Family Size : floating\n",
      "Salaries/Wages from Regular Employment : integer\n",
      "Salaries/Wages from Seasonal Employment : integer\n",
      "Income from Salaries and Wages : integer\n",
      "Net Share of Crops, Fruits, etc. (Tot. Net Value of Share) : integer\n",
      "Cash Receipts, Support, etc. from Abroad : integer\n",
      "Cash Receipts, Support, etc. from Domestic Source : integer\n",
      "Rentals Received from Non-Agri Lands, etc. : integer\n",
      "Unnamed: 13 : integer\n",
      "Pension and Retirement Benefits : integer\n",
      "Dividends from Investment : integer\n",
      "Other Sources of Income NEC : integer\n",
      "Family Sustenance Activities : integer\n",
      "Total Received as Gifts : floating\n",
      "Crop Farming and Gardening : integer\n",
      "Livestock and Poultry Raising : integer\n",
      "Fishing : integer\n",
      "Forestry and Hunting : integer\n",
      "Wholesale and Retail : integer\n",
      "Manufacturing : integer\n",
      "Transportation, Storage Services : integer\n",
      "Entrep. Activities NEC : integer\n",
      "Entrep. Activities NEC.1 : integer\n",
      "Entrep. Activities NEC.2 : integer\n",
      "Hhld, Income from Entrepreneurial Activities, Total : integer\n",
      "Losses from EA : integer\n",
      "Cereal and Cereal Preparations (Total) : floating\n",
      "Meat and Meat Preparations : floating\n",
      "Fish and Marine Products (Total) : floating\n",
      "Dairy Products and Eggs (Total) : floating\n",
      "Oils and Fats (Total) : floating\n",
      "Fruits and Vegetables : floating\n",
      "Vegetables (Total) : floating\n",
      "Sugar, Jam and Honey (Total) : floating\n",
      "Food Not Elsewhere Classified (Total) : floating\n",
      "Fruit and vegetable juices : floating\n",
      "Coffee, Cocoa and Tea (Total) : floating\n",
      "Tea (total)  expenditure : floating\n",
      "Cocoa (total)  expenditure : floating\n",
      "Main Source of Water Supply (2nd visit only) : floating\n",
      "Softdrinks : floating\n",
      "Other Non Alcoholic Beverages : floating\n",
      "Alcoholic Beverages (Total) : floating\n",
      "Tobacco (Total) : floating\n",
      "Other Vegetables (Total) : floating\n",
      "Services_Primary_Goods : integer\n",
      "Alcohol Procduction Services : integer\n",
      "Total Food Consumed at Home (Total) : floating\n",
      "Food Regularly Consumed Outside The Home (Total) : floating\n",
      "Hhld, Food : floating\n",
      "Clothing, Footwear and Other Wear : integer\n",
      "Housing and water (Total) : integer\n",
      "Actual House Rent : integer\n",
      "Imputed House Rental Value : integer\n",
      "Imputed Housing Benefit Rental Value : integer\n",
      "House Rent/Rental Value : integer\n",
      "Furnishings, Household Equipment & Routine Household Mainte : integer\n",
      "Health (Total) : integer\n",
      "Transportation (Total) : integer\n",
      "Communication (Total) : integer\n",
      "Recreation and Culture (Total) : integer\n",
      "Education (Total) : integer\n",
      "Insurance : integer\n",
      "Miscellaneous Goods and Services (Total) : integer\n",
      "Durable Furniture : integer\n",
      "Special Family Occasion : integer\n",
      "Other Expenditure (inc. Value Consumed, Losses) : integer\n",
      "Other Disbursements : integer\n",
      "Accomodation Services : integer\n",
      "Total Non-Food Expenditure : floating\n",
      "Hhld, Income, Total : floating\n",
      "Hhld, Expenditures, Total : floating\n",
      "Total Household Disbursements : mixed\n",
      "Other Receipts : integer\n",
      "Total Receipts : floating\n",
      "Psu (Recode) : integer\n",
      "Raising Factor : floating\n",
      "Final Population Weights : floating\n",
      "Urban / Rural : integer\n",
      "Per Capita Income : floating\n",
      "NPCINC : integer\n",
      "RPCINC : integer\n",
      "Per Capita Income Decile (Province) : integer\n",
      "pPCINC : integer\n",
      "Per Capita Income Decile (Region with Negros Island Region (NIR)) : integer\n",
      "Region (with NIR) : integer\n"
     ]
    }
   ],
   "source": [
    "for column in fies_df.columns:\n",
    "    print(column, ':', pd.api.types.infer_dtype(fies_df[column]))"
   ]
  },
  {
   "cell_type": "markdown",
   "metadata": {},
   "source": [
    "## Making a Data Dictionary\n"
   ]
  },
  {
   "cell_type": "code",
   "execution_count": 114,
   "metadata": {},
   "outputs": [],
   "source": [
    "fies_column_descriptions = {\n",
    "    'RDMD_ID': 'Unique identifier for the record',\n",
    "    'Region': 'Region code',\n",
    "    'Province': 'Province code',\n",
    "    'Household ID': 'Unique household identifier',\n",
    "    'RECODED PROVINCE': 'Recoded province information',\n",
    "    'Family Size': 'Number of people in the household',\n",
    "    'Salaries/Wages from Regular Employment': 'Income from regular employment',\n",
    "    'Salaries/Wages from Seasonal Employment': 'Income from seasonal employment',\n",
    "    'Income from Salaries and Wages': 'Total income from salaries and wages',\n",
    "    'Net Share of Crops, Fruits, etc. (Tot. Net Value of Share)': 'Net value from crop and fruit share',\n",
    "    'Cash Receipts, Support, etc. from Abroad': 'Cash support received from abroad',\n",
    "    'Cash Receipts, Support, etc. from Domestic Source': 'Cash support received domestically',\n",
    "    'Rentals Received from Non-Agri Lands, etc.': 'Income from land rentals (non-agricultural)',\n",
    "    'Unnamed: 13': 'Unknown or unnamed column',\n",
    "    'Pension and Retirement Benefits': 'Income from pensions and retirement',\n",
    "    'Dividends from Investment': 'Income from dividends',\n",
    "    'Other Sources of Income NEC': 'Other sources of income not elsewhere classified',\n",
    "    'Family Sustenance Activities': 'Income from family sustenance activities',\n",
    "    'Total Received as Gifts': 'Total gifts received by the household',\n",
    "    'Crop Farming and Gardening': 'Income from crop farming and gardening',\n",
    "    'Livestock and Poultry Raising': 'Income from livestock and poultry raising',\n",
    "    'Fishing': 'Income from fishing activities',\n",
    "    'Forestry and Hunting': 'Income from forestry and hunting',\n",
    "    'Wholesale and Retail': 'Income from wholesale and retail business',\n",
    "    'Manufacturing': 'Income from manufacturing activities',\n",
    "    'Transportation, Storage Services': 'Income from transportation and storage services',\n",
    "    'Entrep. Activities NEC': 'Income from entrepreneurial activities (not elsewhere classified)',\n",
    "    'Entrep. Activities NEC.1': 'Income from entrepreneurial activities (additional category 1)',\n",
    "    'Entrep. Activities NEC.2': 'Income from entrepreneurial activities (additional category 2)',\n",
    "    'Hhld, Income from Entrepreneurial Activities, Total': 'Total household income from entrepreneurial activities',\n",
    "    'Losses from EA': 'Losses from entrepreneurial activities',\n",
    "    'Cereal and Cereal Preparations (Total)': 'Expenditure on cereals and cereal preparations',\n",
    "    'Meat and Meat Preparations': 'Expenditure on meat and meat preparations',\n",
    "    'Fish and Marine Products (Total)': 'Expenditure on fish and marine products',\n",
    "    'Dairy Products and Eggs (Total)': 'Expenditure on dairy products and eggs',\n",
    "    'Oils and Fats (Total)': 'Expenditure on oils and fats',\n",
    "    'Fruits and Vegetables': 'Expenditure on fruits and vegetables',\n",
    "    'Vegetables (Total)': 'Expenditure on vegetables',\n",
    "    'Sugar, Jam and Honey (Total)': 'Expenditure on sugar, jam, and honey',\n",
    "    'Food Not Elsewhere Classified (Total)': 'Expenditure on other food items',\n",
    "    'Fruit and vegetable juices': 'Expenditure on fruit and vegetable juices',\n",
    "    'Coffee, Cocoa and Tea (Total)': 'Expenditure on coffee, cocoa, and tea',\n",
    "    'Tea (total)  expenditure': 'Expenditure on tea',\n",
    "    'Cocoa (total)  expenditure': 'Expenditure on cocoa',\n",
    "    'Main Source of Water Supply (2nd visit only)': 'Main source of water supply (second visit)',\n",
    "    'Softdrinks': 'Expenditure on soft drinks',\n",
    "    'Other Non Alcoholic Beverages': 'Expenditure on other non-alcoholic beverages',\n",
    "    'Alcoholic Beverages (Total)': 'Expenditure on alcoholic beverages',\n",
    "    'Tobacco (Total)': 'Expenditure on tobacco products',\n",
    "    'Other Vegetables (Total)': 'Expenditure on other types of vegetables',\n",
    "    'Services_Primary_Goods': 'Expenditure on services and primary goods',\n",
    "    'Alcohol Procduction Services': 'Expenditure on alcohol production services',\n",
    "    'Total Food Consumed at Home (Total)': 'Total food consumed at home',\n",
    "    'Food Regularly Consumed Outside The Home (Total)': 'Food consumed outside the home',\n",
    "    'Hhld, Food': 'Household expenditure on food',\n",
    "    'Clothing, Footwear and Other Wear': 'Expenditure on clothing, footwear, and other wear',\n",
    "    'Housing and water (Total)': 'Expenditure on housing and water',\n",
    "    'Actual House Rent': 'Expenditure on actual house rent',\n",
    "    'Imputed House Rental Value': 'Imputed value of house rental',\n",
    "    'Imputed Housing Benefit Rental Value': 'Imputed value of housing benefit rental',\n",
    "    'House Rent/Rental Value': 'Expenditure on house rent/rental value',\n",
    "    'Furnishings, Household Equipment & Routine Household Mainte': 'Expenditure on furnishings and household equipment',\n",
    "    'Health (Total)': 'Expenditure on health services and products',\n",
    "    'Transportation (Total)': 'Expenditure on transportation',\n",
    "    'Communication (Total)': 'Expenditure on communication services',\n",
    "    'Recreation and Culture (Total)': 'Expenditure on recreation and culture',\n",
    "    'Education (Total)': 'Expenditure on education',\n",
    "    'Insurance': 'Expenditure on insurance',\n",
    "    'Miscellaneous Goods and Services (Total)': 'Expenditure on miscellaneous goods and services',\n",
    "    'Durable Furniture': 'Expenditure on durable furniture',\n",
    "    'Special Family Occasion': 'Expenditure on special family occasions',\n",
    "    'Other Expenditure (inc. Value Consumed, Losses)': 'Other expenditures including losses',\n",
    "    'Other Disbursements': 'Other household disbursements',\n",
    "    'Accomodation Services': 'Expenditure on accommodation services',\n",
    "    'Total Non-Food Expenditure': 'Total non-food expenditure',\n",
    "    'Hhld, Income, Total': 'Total household income',\n",
    "    'Hhld, Expenditures, Total': 'Total household expenditures',\n",
    "    'Total Household Disbursements': 'Total household disbursements',\n",
    "    'Other Receipts': 'Other household receipts',\n",
    "    'Total Receipts': 'Total receipts',\n",
    "    'Psu (Recode)': 'Primary Sampling Unit (recoded)',\n",
    "    'Raising Factor': 'Raising factor for survey results',\n",
    "    'Final Population Weights': 'Final weights for population data',\n",
    "    'Urban / Rural': 'Urban or rural classification',\n",
    "    'Per Capita Income': 'Household per capita income',\n",
    "    'NPCINC': 'National per capita income',\n",
    "    'RPCINC': 'Regional per capita income',\n",
    "    'Per Capita Income Decile (Province)': 'Per capita income decile in the province',\n",
    "    'pPCINC': 'Provincial per capita income decile',\n",
    "    'Per Capita Income Decile (Region with Negros Island Region (NIR))': 'Per capita income decile (region with NIR)',\n",
    "    'Region (with NIR)': 'Region code including NIR'\n",
    "}\n"
   ]
  },
  {
   "cell_type": "code",
   "execution_count": 115,
   "metadata": {},
   "outputs": [],
   "source": [
    "fies_derivations = {\n",
    "    'Total Receipts': 'Total Household Income + Other Receipts',\n",
    "    'Hhld, Income, Total': 'Net Share of Crops, Fruits, etc. + Cash Receipts, Support, etc. from Abroad + Cash Receipts, Support, etc. from Domestic Source + Unnamed + Pension and Retirement Benefits + Dividends from Investment + Other Sources of Income NEC + Family Sustenance Activities + Total Received as Gifts + Household, Income from Entrep Activities, Total + Imputed House Rental Value',\n",
    "    'Hhld, Income from Entrepreneurial Activities, Total': 'Crop Farming and Gardening + Livestock and Poultry Raising + Fishing + Forestry and Hunting + Wholesale and Retail + Manufacturing + Transportation, Storage Services + Entrep. Activities NEC + Entrep. Activities NEC 1 + Entrep. Activities NEC 2',\n",
    "    'Total Household Disbursements': 'Total Household Expenditure + Other Disbursements',\n",
    "    'Hhld, Expenditures, Total': 'Household Food + Total Non-Food Expenditure',\n",
    "    'Hhld, Food': 'Total Food Consumed at Home + Food Regularly Consumed Outside The Home',\n",
    "    'Total Food Consumed at Home (Total)': 'Cereal and Cereal Preparations + Meat and Meat Preparations + Fish and Marine Products + Dairy and Eggs + Oils and Fats + Fruits and Vegetables + Vegetables + Sugar, jam and Honey + Food Not Elsewhere Classified + Fruit and Vegetable Juices + Coffee, Cocoa and Tea + Tea + Cocoa + Main Source of Water Supply + Softdrinks + Other Non Alcoholic Beverages',\n",
    "    'Total Non-Food Expenditure': 'Alcoholic Beverages + Tobacco + Other Vegetables + Services_Primary_Goods + Alcoholic Production Services + Housing and water (Total) + Furnishings, Household Equipment & Routine Household Maintenance + Health + Transportation + Communication + Recreation and Culture + Education + Insurance + Miscellaneous Goods and Services + Durable Furniture + Special Family Occasion + Other Expenditure + Accommodation Services + Clothing, Footwear and Other Wear',\n",
    "}\n"
   ]
  },
  {
   "cell_type": "code",
   "execution_count": 116,
   "metadata": {},
   "outputs": [],
   "source": [
    "fies_volume1_data_dict = pd.DataFrame({\n",
    "    'Column Name': fies_df.columns,\n",
    "    'Data Type': fies_df.dtypes,\n",
    "    'Non-Null Count': fies_df.notnull().sum(),\n",
    "    'Unique Values': fies_df.nunique(),\n",
    "    'Description': [fies_column_descriptions.get(col, 'No desciption available') for col in fies_df.columns],\n",
    "    'Derivations from other columns': [fies_derivations.get(col, '') for col in fies_df.columns]\n",
    "})\n",
    "fies_volume1_data_dict.to_csv('../fies_volume1_data_dict.csv', index=False)"
   ]
  },
  {
   "cell_type": "markdown",
   "metadata": {},
   "source": [
    "# 4. Data Quality and Assessment\n"
   ]
  },
  {
   "cell_type": "markdown",
   "metadata": {},
   "source": [
    "## Check for missing values, duplicates, outliers, and wrong data.<b>\n"
   ]
  },
  {
   "cell_type": "markdown",
   "metadata": {},
   "source": [
    "Check for duplicates\n"
   ]
  },
  {
   "cell_type": "code",
   "execution_count": null,
   "metadata": {},
   "outputs": [
    {
     "name": "stdout",
     "output_type": "stream",
     "text": [
      "Number of rows: 163268\n",
      "Number of rows after dropping duplicates: 163268\n"
     ]
    }
   ],
   "source": [
    "number_of_rows = fies_df.shape[0]\n",
    "\n",
    "print(f\"Number of rows: {number_of_rows}\")\n",
    "\n",
    "fies_df.drop_duplicates(inplace=True)\n",
    "\n",
    "print(f\"Number of rows after dropping duplicates: {fies_df.shape[0]}\")"
   ]
  },
  {
   "cell_type": "markdown",
   "metadata": {},
   "source": [
    "No duplicates are found.\n"
   ]
  },
  {
   "cell_type": "markdown",
   "metadata": {},
   "source": [
    "From the data dictionary, the Total Household Disbursements column is the only one with an object datatype, suggesting mixed values of numbers, strings, etc.\n"
   ]
  },
  {
   "cell_type": "code",
   "execution_count": 118,
   "metadata": {},
   "outputs": [],
   "source": [
    "for column in fies_df.columns:\n",
    "    if fies_df[column].isnull().any():\n",
    "        print(f\"Column {column} has missing values\")"
   ]
  },
  {
   "cell_type": "markdown",
   "metadata": {},
   "source": [
    "The code block above does not show any null values initially, therefore there is the possibility of data with only whitespace values. The code below will strip all whitespaces\n",
    "to know the true number of missing values.\n"
   ]
  },
  {
   "cell_type": "code",
   "execution_count": 119,
   "metadata": {},
   "outputs": [
    {
     "name": "stdout",
     "output_type": "stream",
     "text": [
      "Number of rows with whitespace: 7732\n"
     ]
    }
   ],
   "source": [
    "# Function to check if a value is whitespace or empty\n",
    "def has_whitespace(val):\n",
    "    return isinstance(val, str) and val.strip() == ''\n",
    "\n",
    "whitespace_rows = fies_df.map(has_whitespace).any(axis=1)\n",
    "\n",
    "whitespace_count = whitespace_rows.sum()\n",
    "\n",
    "print(f\"Number of rows with whitespace: {whitespace_count}\")"
   ]
  },
  {
   "cell_type": "markdown",
   "metadata": {},
   "source": [
    "There are whitespaces. Whitespaces could mean that the value for that data is zero. Therefore, a check must be made to ensure that there are zeroes in the dataset as well to know that whitespaces and zeroes are equivalent.\n"
   ]
  },
  {
   "cell_type": "code",
   "execution_count": 120,
   "metadata": {},
   "outputs": [
    {
     "name": "stdout",
     "output_type": "stream",
     "text": [
      "144056\n"
     ]
    }
   ],
   "source": [
    "print(fies_df['Total Household Disbursements'].value_counts().where(fies_df['Total Household Disbursements'] == 0, 1).sum())"
   ]
  },
  {
   "cell_type": "markdown",
   "metadata": {},
   "source": [
    "## Impute, discretize and data wrangling\n"
   ]
  },
  {
   "cell_type": "markdown",
   "metadata": {},
   "source": [
    "Since there are zeroes present, the Total Household Disbursements column must be addressed. Upon inspection, Total Household Disbursements can be imputed from the sum of Hhld, Expenditures, Total and Other Disbursements.\n"
   ]
  },
  {
   "cell_type": "code",
   "execution_count": 121,
   "metadata": {},
   "outputs": [],
   "source": [
    "fies_df.loc[whitespace_rows, 'Total Household Disbursements'] = fies_df.loc[whitespace_rows, \n",
    "                                                                            'Hhld, Expenditures, Total'] + fies_df.loc[whitespace_rows, 'Other Disbursements']"
   ]
  },
  {
   "cell_type": "markdown",
   "metadata": {},
   "source": [
    "Double-check for missing values\n"
   ]
  },
  {
   "cell_type": "code",
   "execution_count": 122,
   "metadata": {},
   "outputs": [
    {
     "name": "stdout",
     "output_type": "stream",
     "text": [
      "Number of rows with whitespace: 0\n"
     ]
    }
   ],
   "source": [
    "whitespace_rows = fies_df.map(has_whitespace).any(axis=1)\n",
    "whitespace_count = whitespace_rows.sum()\n",
    "print(f\"Number of rows with whitespace: {whitespace_count}\")"
   ]
  },
  {
   "cell_type": "markdown",
   "metadata": {},
   "source": [
    "# 5. Quantitative Statistics\n"
   ]
  },
  {
   "cell_type": "markdown",
   "metadata": {},
   "source": [
    "## Generate statistics and provide EDA. Provide illustration\n"
   ]
  },
  {
   "cell_type": "markdown",
   "metadata": {},
   "source": [
    "# 6. Application of Proximity (Distance Analysis)\n"
   ]
  },
  {
   "cell_type": "markdown",
   "metadata": {},
   "source": [
    "## Check for correlation. Provide illustration.\n"
   ]
  },
  {
   "cell_type": "markdown",
   "metadata": {},
   "source": [
    "## Calculate a distance matrix (e.g., Euclidean distance) for numeric data as required. Provide illustration\n"
   ]
  },
  {
   "cell_type": "markdown",
   "metadata": {},
   "source": [
    "# 7. Data Mining: Association Rule Mining\n"
   ]
  },
  {
   "cell_type": "markdown",
   "metadata": {},
   "source": [
    "## If needed, transform the dataset (one-hot encoding) and apply the Apriori algorithm to extract association rules.\n"
   ]
  }
 ],
 "metadata": {
  "kernelspec": {
   "display_name": "DataMining",
   "language": "python",
   "name": "python3"
  },
  "language_info": {
   "codemirror_mode": {
    "name": "ipython",
    "version": 3
   },
   "file_extension": ".py",
   "mimetype": "text/x-python",
   "name": "python",
   "nbconvert_exporter": "python",
   "pygments_lexer": "ipython3",
   "version": "3.12.8"
  }
 },
 "nbformat": 4,
 "nbformat_minor": 2
}
