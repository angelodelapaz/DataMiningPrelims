{
 "cells": [
  {
   "cell_type": "markdown",
   "metadata": {},
   "source": [
    "# 1. Data Import & Exploration\n"
   ]
  },
  {
   "cell_type": "markdown",
   "metadata": {},
   "source": [
    "## Load the large dataset\n"
   ]
  },
  {
   "cell_type": "code",
   "execution_count": 133,
   "metadata": {},
   "outputs": [
    {
     "name": "stderr",
     "output_type": "stream",
     "text": [
      "C:\\Users\\Sara Limeta\\AppData\\Local\\Temp\\ipykernel_25312\\915002061.py:3: DtypeWarning: Columns (77) have mixed types. Specify dtype option on import or set low_memory=False.\n",
      "  fies_df = pd.read_csv('../datasets/fies_2023_volume1_494887610821.csv')\n"
     ]
    },
    {
     "data": {
      "text/html": [
       "<div>\n",
       "<style scoped>\n",
       "    .dataframe tbody tr th:only-of-type {\n",
       "        vertical-align: middle;\n",
       "    }\n",
       "\n",
       "    .dataframe tbody tr th {\n",
       "        vertical-align: top;\n",
       "    }\n",
       "\n",
       "    .dataframe thead th {\n",
       "        text-align: right;\n",
       "    }\n",
       "</style>\n",
       "<table border=\"1\" class=\"dataframe\">\n",
       "  <thead>\n",
       "    <tr style=\"text-align: right;\">\n",
       "      <th></th>\n",
       "      <th>RDMD_ID</th>\n",
       "      <th>Region</th>\n",
       "      <th>Province</th>\n",
       "      <th>Household ID</th>\n",
       "      <th>RECODED PROVINCE</th>\n",
       "      <th>Family Size</th>\n",
       "      <th>Salaries/Wages from Regular Employment</th>\n",
       "      <th>Salaries/Wages from Seasonal Employment</th>\n",
       "      <th>Income from Salaries and Wages</th>\n",
       "      <th>Net Share of Crops, Fruits, etc. (Tot. Net Value of Share)</th>\n",
       "      <th>...</th>\n",
       "      <th>Raising Factor</th>\n",
       "      <th>Final Population Weights</th>\n",
       "      <th>Urban / Rural</th>\n",
       "      <th>Per Capita Income</th>\n",
       "      <th>NPCINC</th>\n",
       "      <th>RPCINC</th>\n",
       "      <th>Per Capita Income Decile (Province)</th>\n",
       "      <th>pPCINC</th>\n",
       "      <th>Per Capita Income Decile (Region with Negros Island Region (NIR))</th>\n",
       "      <th>Region (with NIR)</th>\n",
       "    </tr>\n",
       "  </thead>\n",
       "  <tbody>\n",
       "    <tr>\n",
       "      <th>100295</th>\n",
       "      <td>100296</td>\n",
       "      <td>12</td>\n",
       "      <td>63</td>\n",
       "      <td>100296</td>\n",
       "      <td>6300</td>\n",
       "      <td>2.0</td>\n",
       "      <td>0</td>\n",
       "      <td>18000</td>\n",
       "      <td>18000</td>\n",
       "      <td>0</td>\n",
       "      <td>...</td>\n",
       "      <td>178.967545</td>\n",
       "      <td>362.402344</td>\n",
       "      <td>2</td>\n",
       "      <td>51430.000000</td>\n",
       "      <td>4</td>\n",
       "      <td>5</td>\n",
       "      <td>5</td>\n",
       "      <td>5</td>\n",
       "      <td>5</td>\n",
       "      <td>12</td>\n",
       "    </tr>\n",
       "    <tr>\n",
       "      <th>41190</th>\n",
       "      <td>41191</td>\n",
       "      <td>5</td>\n",
       "      <td>41</td>\n",
       "      <td>41191</td>\n",
       "      <td>4100</td>\n",
       "      <td>2.0</td>\n",
       "      <td>124300</td>\n",
       "      <td>0</td>\n",
       "      <td>124300</td>\n",
       "      <td>0</td>\n",
       "      <td>...</td>\n",
       "      <td>131.732178</td>\n",
       "      <td>284.268311</td>\n",
       "      <td>2</td>\n",
       "      <td>69310.000000</td>\n",
       "      <td>5</td>\n",
       "      <td>7</td>\n",
       "      <td>8</td>\n",
       "      <td>8</td>\n",
       "      <td>7</td>\n",
       "      <td>5</td>\n",
       "    </tr>\n",
       "    <tr>\n",
       "      <th>53622</th>\n",
       "      <td>53623</td>\n",
       "      <td>6</td>\n",
       "      <td>79</td>\n",
       "      <td>53623</td>\n",
       "      <td>7900</td>\n",
       "      <td>6.0</td>\n",
       "      <td>81700</td>\n",
       "      <td>12100</td>\n",
       "      <td>93800</td>\n",
       "      <td>0</td>\n",
       "      <td>...</td>\n",
       "      <td>53.779464</td>\n",
       "      <td>325.387980</td>\n",
       "      <td>2</td>\n",
       "      <td>47816.667969</td>\n",
       "      <td>3</td>\n",
       "      <td>4</td>\n",
       "      <td>3</td>\n",
       "      <td>3</td>\n",
       "      <td>3</td>\n",
       "      <td>6</td>\n",
       "    </tr>\n",
       "    <tr>\n",
       "      <th>27454</th>\n",
       "      <td>27455</td>\n",
       "      <td>4</td>\n",
       "      <td>10</td>\n",
       "      <td>27455</td>\n",
       "      <td>1000</td>\n",
       "      <td>3.5</td>\n",
       "      <td>0</td>\n",
       "      <td>0</td>\n",
       "      <td>0</td>\n",
       "      <td>0</td>\n",
       "      <td>...</td>\n",
       "      <td>488.968353</td>\n",
       "      <td>1732.855896</td>\n",
       "      <td>1</td>\n",
       "      <td>158235.140625</td>\n",
       "      <td>9</td>\n",
       "      <td>8</td>\n",
       "      <td>8</td>\n",
       "      <td>8</td>\n",
       "      <td>8</td>\n",
       "      <td>4</td>\n",
       "    </tr>\n",
       "    <tr>\n",
       "      <th>79806</th>\n",
       "      <td>79807</td>\n",
       "      <td>9</td>\n",
       "      <td>97</td>\n",
       "      <td>79807</td>\n",
       "      <td>9700</td>\n",
       "      <td>4.0</td>\n",
       "      <td>192900</td>\n",
       "      <td>0</td>\n",
       "      <td>192900</td>\n",
       "      <td>0</td>\n",
       "      <td>...</td>\n",
       "      <td>36.068501</td>\n",
       "      <td>146.657425</td>\n",
       "      <td>1</td>\n",
       "      <td>54515.000000</td>\n",
       "      <td>4</td>\n",
       "      <td>6</td>\n",
       "      <td>5</td>\n",
       "      <td>5</td>\n",
       "      <td>6</td>\n",
       "      <td>9</td>\n",
       "    </tr>\n",
       "    <tr>\n",
       "      <th>85182</th>\n",
       "      <td>85183</td>\n",
       "      <td>10</td>\n",
       "      <td>35</td>\n",
       "      <td>85183</td>\n",
       "      <td>3500</td>\n",
       "      <td>4.0</td>\n",
       "      <td>0</td>\n",
       "      <td>0</td>\n",
       "      <td>0</td>\n",
       "      <td>6300</td>\n",
       "      <td>...</td>\n",
       "      <td>131.015625</td>\n",
       "      <td>541.276001</td>\n",
       "      <td>2</td>\n",
       "      <td>24075.500000</td>\n",
       "      <td>1</td>\n",
       "      <td>1</td>\n",
       "      <td>2</td>\n",
       "      <td>2</td>\n",
       "      <td>1</td>\n",
       "      <td>10</td>\n",
       "    </tr>\n",
       "    <tr>\n",
       "      <th>12742</th>\n",
       "      <td>12743</td>\n",
       "      <td>2</td>\n",
       "      <td>57</td>\n",
       "      <td>12743</td>\n",
       "      <td>5700</td>\n",
       "      <td>3.0</td>\n",
       "      <td>0</td>\n",
       "      <td>3600</td>\n",
       "      <td>3600</td>\n",
       "      <td>0</td>\n",
       "      <td>...</td>\n",
       "      <td>30.066050</td>\n",
       "      <td>98.526993</td>\n",
       "      <td>2</td>\n",
       "      <td>92536.335938</td>\n",
       "      <td>7</td>\n",
       "      <td>8</td>\n",
       "      <td>7</td>\n",
       "      <td>7</td>\n",
       "      <td>8</td>\n",
       "      <td>2</td>\n",
       "    </tr>\n",
       "    <tr>\n",
       "      <th>89054</th>\n",
       "      <td>89055</td>\n",
       "      <td>10</td>\n",
       "      <td>43</td>\n",
       "      <td>89055</td>\n",
       "      <td>4300</td>\n",
       "      <td>1.0</td>\n",
       "      <td>0</td>\n",
       "      <td>0</td>\n",
       "      <td>0</td>\n",
       "      <td>15000</td>\n",
       "      <td>...</td>\n",
       "      <td>136.266327</td>\n",
       "      <td>132.373932</td>\n",
       "      <td>2</td>\n",
       "      <td>119092.000000</td>\n",
       "      <td>8</td>\n",
       "      <td>9</td>\n",
       "      <td>8</td>\n",
       "      <td>9</td>\n",
       "      <td>9</td>\n",
       "      <td>10</td>\n",
       "    </tr>\n",
       "    <tr>\n",
       "      <th>71176</th>\n",
       "      <td>71177</td>\n",
       "      <td>8</td>\n",
       "      <td>64</td>\n",
       "      <td>71177</td>\n",
       "      <td>6400</td>\n",
       "      <td>1.5</td>\n",
       "      <td>0</td>\n",
       "      <td>40000</td>\n",
       "      <td>40000</td>\n",
       "      <td>0</td>\n",
       "      <td>...</td>\n",
       "      <td>65.301224</td>\n",
       "      <td>116.541321</td>\n",
       "      <td>2</td>\n",
       "      <td>109803.335938</td>\n",
       "      <td>8</td>\n",
       "      <td>9</td>\n",
       "      <td>8</td>\n",
       "      <td>8</td>\n",
       "      <td>9</td>\n",
       "      <td>8</td>\n",
       "    </tr>\n",
       "    <tr>\n",
       "      <th>152880</th>\n",
       "      <td>152881</td>\n",
       "      <td>16</td>\n",
       "      <td>68</td>\n",
       "      <td>152881</td>\n",
       "      <td>6800</td>\n",
       "      <td>2.0</td>\n",
       "      <td>0</td>\n",
       "      <td>0</td>\n",
       "      <td>0</td>\n",
       "      <td>16000</td>\n",
       "      <td>...</td>\n",
       "      <td>107.117706</td>\n",
       "      <td>210.173294</td>\n",
       "      <td>2</td>\n",
       "      <td>168262.500000</td>\n",
       "      <td>9</td>\n",
       "      <td>10</td>\n",
       "      <td>10</td>\n",
       "      <td>10</td>\n",
       "      <td>10</td>\n",
       "      <td>16</td>\n",
       "    </tr>\n",
       "  </tbody>\n",
       "</table>\n",
       "<p>10 rows × 91 columns</p>\n",
       "</div>"
      ],
      "text/plain": [
       "        RDMD_ID  Region  Province  Household ID  RECODED PROVINCE  \\\n",
       "100295   100296      12        63        100296              6300   \n",
       "41190     41191       5        41         41191              4100   \n",
       "53622     53623       6        79         53623              7900   \n",
       "27454     27455       4        10         27455              1000   \n",
       "79806     79807       9        97         79807              9700   \n",
       "85182     85183      10        35         85183              3500   \n",
       "12742     12743       2        57         12743              5700   \n",
       "89054     89055      10        43         89055              4300   \n",
       "71176     71177       8        64         71177              6400   \n",
       "152880   152881      16        68        152881              6800   \n",
       "\n",
       "        Family Size  Salaries/Wages from Regular Employment  \\\n",
       "100295          2.0                                       0   \n",
       "41190           2.0                                  124300   \n",
       "53622           6.0                                   81700   \n",
       "27454           3.5                                       0   \n",
       "79806           4.0                                  192900   \n",
       "85182           4.0                                       0   \n",
       "12742           3.0                                       0   \n",
       "89054           1.0                                       0   \n",
       "71176           1.5                                       0   \n",
       "152880          2.0                                       0   \n",
       "\n",
       "        Salaries/Wages from Seasonal Employment  \\\n",
       "100295                                    18000   \n",
       "41190                                         0   \n",
       "53622                                     12100   \n",
       "27454                                         0   \n",
       "79806                                         0   \n",
       "85182                                         0   \n",
       "12742                                      3600   \n",
       "89054                                         0   \n",
       "71176                                     40000   \n",
       "152880                                        0   \n",
       "\n",
       "        Income from Salaries and Wages  \\\n",
       "100295                           18000   \n",
       "41190                           124300   \n",
       "53622                            93800   \n",
       "27454                                0   \n",
       "79806                           192900   \n",
       "85182                                0   \n",
       "12742                             3600   \n",
       "89054                                0   \n",
       "71176                            40000   \n",
       "152880                               0   \n",
       "\n",
       "        Net Share of Crops, Fruits, etc. (Tot. Net Value of Share)  ...  \\\n",
       "100295                                                  0           ...   \n",
       "41190                                                   0           ...   \n",
       "53622                                                   0           ...   \n",
       "27454                                                   0           ...   \n",
       "79806                                                   0           ...   \n",
       "85182                                                6300           ...   \n",
       "12742                                                   0           ...   \n",
       "89054                                               15000           ...   \n",
       "71176                                                   0           ...   \n",
       "152880                                              16000           ...   \n",
       "\n",
       "        Raising Factor  Final Population Weights  Urban / Rural  \\\n",
       "100295      178.967545                362.402344              2   \n",
       "41190       131.732178                284.268311              2   \n",
       "53622        53.779464                325.387980              2   \n",
       "27454       488.968353               1732.855896              1   \n",
       "79806        36.068501                146.657425              1   \n",
       "85182       131.015625                541.276001              2   \n",
       "12742        30.066050                 98.526993              2   \n",
       "89054       136.266327                132.373932              2   \n",
       "71176        65.301224                116.541321              2   \n",
       "152880      107.117706                210.173294              2   \n",
       "\n",
       "        Per Capita Income  NPCINC  RPCINC  \\\n",
       "100295       51430.000000       4       5   \n",
       "41190        69310.000000       5       7   \n",
       "53622        47816.667969       3       4   \n",
       "27454       158235.140625       9       8   \n",
       "79806        54515.000000       4       6   \n",
       "85182        24075.500000       1       1   \n",
       "12742        92536.335938       7       8   \n",
       "89054       119092.000000       8       9   \n",
       "71176       109803.335938       8       9   \n",
       "152880      168262.500000       9      10   \n",
       "\n",
       "        Per Capita Income Decile (Province)  pPCINC  \\\n",
       "100295                                    5       5   \n",
       "41190                                     8       8   \n",
       "53622                                     3       3   \n",
       "27454                                     8       8   \n",
       "79806                                     5       5   \n",
       "85182                                     2       2   \n",
       "12742                                     7       7   \n",
       "89054                                     8       9   \n",
       "71176                                     8       8   \n",
       "152880                                   10      10   \n",
       "\n",
       "        Per Capita Income Decile (Region with Negros Island Region (NIR))  \\\n",
       "100295                                                  5                   \n",
       "41190                                                   7                   \n",
       "53622                                                   3                   \n",
       "27454                                                   8                   \n",
       "79806                                                   6                   \n",
       "85182                                                   1                   \n",
       "12742                                                   8                   \n",
       "89054                                                   9                   \n",
       "71176                                                   9                   \n",
       "152880                                                 10                   \n",
       "\n",
       "        Region (with NIR)  \n",
       "100295                 12  \n",
       "41190                   5  \n",
       "53622                   6  \n",
       "27454                   4  \n",
       "79806                   9  \n",
       "85182                  10  \n",
       "12742                   2  \n",
       "89054                  10  \n",
       "71176                   8  \n",
       "152880                 16  \n",
       "\n",
       "[10 rows x 91 columns]"
      ]
     },
     "execution_count": 133,
     "metadata": {},
     "output_type": "execute_result"
    }
   ],
   "source": [
    "import pandas as pd\n",
    "import numpy as np\n",
    "fies_df = pd.read_csv('../datasets/fies_2023_volume1_494887610821.csv')\n",
    "fies_df.sample(10)"
   ]
  },
  {
   "cell_type": "markdown",
   "metadata": {},
   "source": [
    "# 2. Identifying Data and Attributes\n"
   ]
  },
  {
   "cell_type": "markdown",
   "metadata": {},
   "source": [
    "## List all column types and data types\n"
   ]
  },
  {
   "cell_type": "code",
   "execution_count": 134,
   "metadata": {},
   "outputs": [
    {
     "data": {
      "text/plain": [
       "RDMD_ID                                                              int64\n",
       "Region                                                               int64\n",
       "Province                                                             int64\n",
       "Household ID                                                         int64\n",
       "RECODED PROVINCE                                                     int64\n",
       "                                                                     ...  \n",
       "RPCINC                                                               int64\n",
       "Per Capita Income Decile (Province)                                  int64\n",
       "pPCINC                                                               int64\n",
       "Per Capita Income Decile (Region with Negros Island Region (NIR))    int64\n",
       "Region (with NIR)                                                    int64\n",
       "Length: 91, dtype: object"
      ]
     },
     "execution_count": 134,
     "metadata": {},
     "output_type": "execute_result"
    }
   ],
   "source": [
    "# List all column types and data types\n",
    "fies_df.dtypes"
   ]
  },
  {
   "cell_type": "markdown",
   "metadata": {},
   "source": [
    "# 3. Determining the Type of Dataset\n"
   ]
  },
  {
   "cell_type": "markdown",
   "metadata": {},
   "source": [
    "## Check if columns are numerical, categorical, or mixed.\n"
   ]
  },
  {
   "cell_type": "code",
   "execution_count": 135,
   "metadata": {},
   "outputs": [
    {
     "name": "stdout",
     "output_type": "stream",
     "text": [
      "RDMD_ID : integer\n",
      "Region : integer\n",
      "Province : integer\n",
      "Household ID : integer\n",
      "RECODED PROVINCE : integer\n",
      "Family Size : floating\n",
      "Salaries/Wages from Regular Employment : integer\n",
      "Salaries/Wages from Seasonal Employment : integer\n",
      "Income from Salaries and Wages : integer\n",
      "Net Share of Crops, Fruits, etc. (Tot. Net Value of Share) : integer\n",
      "Cash Receipts, Support, etc. from Abroad : integer\n",
      "Cash Receipts, Support, etc. from Domestic Source : integer\n",
      "Rentals Received from Non-Agri Lands, etc. : integer\n",
      "Unnamed: 13 : integer\n",
      "Pension and Retirement Benefits : integer\n",
      "Dividends from Investment : integer\n",
      "Other Sources of Income NEC : integer\n",
      "Family Sustenance Activities : integer\n",
      "Total Received as Gifts : floating\n",
      "Crop Farming and Gardening : integer\n",
      "Livestock and Poultry Raising : integer\n",
      "Fishing : integer\n",
      "Forestry and Hunting : integer\n",
      "Wholesale and Retail : integer\n",
      "Manufacturing : integer\n",
      "Transportation, Storage Services : integer\n",
      "Entrep. Activities NEC : integer\n",
      "Entrep. Activities NEC.1 : integer\n",
      "Entrep. Activities NEC.2 : integer\n",
      "Hhld, Income from Entrepreneurial Activities, Total : integer\n",
      "Losses from EA : integer\n",
      "Cereal and Cereal Preparations (Total) : floating\n",
      "Meat and Meat Preparations : floating\n",
      "Fish and Marine Products (Total) : floating\n",
      "Dairy Products and Eggs (Total) : floating\n",
      "Oils and Fats (Total) : floating\n",
      "Fruits and Vegetables : floating\n",
      "Vegetables (Total) : floating\n",
      "Sugar, Jam and Honey (Total) : floating\n",
      "Food Not Elsewhere Classified (Total) : floating\n",
      "Fruit and vegetable juices : floating\n",
      "Coffee, Cocoa and Tea (Total) : floating\n",
      "Tea (total)  expenditure : floating\n",
      "Cocoa (total)  expenditure : floating\n",
      "Main Source of Water Supply (2nd visit only) : floating\n",
      "Softdrinks : floating\n",
      "Other Non Alcoholic Beverages : floating\n",
      "Alcoholic Beverages (Total) : floating\n",
      "Tobacco (Total) : floating\n",
      "Other Vegetables (Total) : floating\n",
      "Services_Primary_Goods : integer\n",
      "Alcohol Procduction Services : integer\n",
      "Total Food Consumed at Home (Total) : floating\n",
      "Food Regularly Consumed Outside The Home (Total) : floating\n",
      "Hhld, Food : floating\n",
      "Clothing, Footwear and Other Wear : integer\n",
      "Housing and water (Total) : integer\n",
      "Actual House Rent : integer\n",
      "Imputed House Rental Value : integer\n",
      "Imputed Housing Benefit Rental Value : integer\n",
      "House Rent/Rental Value : integer\n",
      "Furnishings, Household Equipment & Routine Household Mainte : integer\n",
      "Health (Total) : integer\n",
      "Transportation (Total) : integer\n",
      "Communication (Total) : integer\n",
      "Recreation and Culture (Total) : integer\n",
      "Education (Total) : integer\n",
      "Insurance : integer\n",
      "Miscellaneous Goods and Services (Total) : integer\n",
      "Durable Furniture : integer\n",
      "Special Family Occasion : integer\n",
      "Other Expenditure (inc. Value Consumed, Losses) : integer\n",
      "Other Disbursements : integer\n",
      "Accomodation Services : integer\n",
      "Total Non-Food Expenditure : floating\n",
      "Hhld, Income, Total : floating\n",
      "Hhld, Expenditures, Total : floating\n",
      "Total Household Disbursements : mixed\n",
      "Other Receipts : integer\n",
      "Total Receipts : floating\n",
      "Psu (Recode) : integer\n",
      "Raising Factor : floating\n",
      "Final Population Weights : floating\n",
      "Urban / Rural : integer\n",
      "Per Capita Income : floating\n",
      "NPCINC : integer\n",
      "RPCINC : integer\n",
      "Per Capita Income Decile (Province) : integer\n",
      "pPCINC : integer\n",
      "Per Capita Income Decile (Region with Negros Island Region (NIR)) : integer\n",
      "Region (with NIR) : integer\n"
     ]
    }
   ],
   "source": [
    "for column in fies_df.columns:\n",
    "    print(column, ':', pd.api.types.infer_dtype(fies_df[column]))"
   ]
  },
  {
   "cell_type": "markdown",
   "metadata": {},
   "source": [
    "## Making a Data Dictionary\n"
   ]
  },
  {
   "cell_type": "code",
   "execution_count": 136,
   "metadata": {},
   "outputs": [],
   "source": [
    "fies_column_descriptions = {\n",
    "    'RDMD_ID': 'Unique identifier for the record',\n",
    "    'Region': 'Region code',\n",
    "    'Province': 'Province code',\n",
    "    'Household ID': 'Unique household identifier',\n",
    "    'RECODED PROVINCE': 'Recoded province information',\n",
    "    'Family Size': 'Number of people in the household',\n",
    "    'Salaries/Wages from Regular Employment': 'Income from regular employment',\n",
    "    'Salaries/Wages from Seasonal Employment': 'Income from seasonal employment',\n",
    "    'Income from Salaries and Wages': 'Total income from salaries and wages',\n",
    "    'Net Share of Crops, Fruits, etc. (Tot. Net Value of Share)': 'Net value from crop and fruit share',\n",
    "    'Cash Receipts, Support, etc. from Abroad': 'Cash support received from abroad',\n",
    "    'Cash Receipts, Support, etc. from Domestic Source': 'Cash support received domestically',\n",
    "    'Rentals Received from Non-Agri Lands, etc.': 'Income from land rentals (non-agricultural)',\n",
    "    'Unnamed: 13': 'Unknown or unnamed column',\n",
    "    'Pension and Retirement Benefits': 'Income from pensions and retirement',\n",
    "    'Dividends from Investment': 'Income from dividends',\n",
    "    'Other Sources of Income NEC': 'Other sources of income not elsewhere classified',\n",
    "    'Family Sustenance Activities': 'Income from family sustenance activities',\n",
    "    'Total Received as Gifts': 'Total gifts received by the household',\n",
    "    'Crop Farming and Gardening': 'Income from crop farming and gardening',\n",
    "    'Livestock and Poultry Raising': 'Income from livestock and poultry raising',\n",
    "    'Fishing': 'Income from fishing activities',\n",
    "    'Forestry and Hunting': 'Income from forestry and hunting',\n",
    "    'Wholesale and Retail': 'Income from wholesale and retail business',\n",
    "    'Manufacturing': 'Income from manufacturing activities',\n",
    "    'Transportation, Storage Services': 'Income from transportation and storage services',\n",
    "    'Entrep. Activities NEC': 'Income from entrepreneurial activities (not elsewhere classified)',\n",
    "    'Entrep. Activities NEC.1': 'Income from entrepreneurial activities (additional category 1)',\n",
    "    'Entrep. Activities NEC.2': 'Income from entrepreneurial activities (additional category 2)',\n",
    "    'Hhld, Income from Entrepreneurial Activities, Total': 'Total household income from entrepreneurial activities',\n",
    "    'Losses from EA': 'Losses from entrepreneurial activities',\n",
    "    'Cereal and Cereal Preparations (Total)': 'Expenditure on cereals and cereal preparations',\n",
    "    'Meat and Meat Preparations': 'Expenditure on meat and meat preparations',\n",
    "    'Fish and Marine Products (Total)': 'Expenditure on fish and marine products',\n",
    "    'Dairy Products and Eggs (Total)': 'Expenditure on dairy products and eggs',\n",
    "    'Oils and Fats (Total)': 'Expenditure on oils and fats',\n",
    "    'Fruits and Vegetables': 'Expenditure on fruits and vegetables',\n",
    "    'Vegetables (Total)': 'Expenditure on vegetables',\n",
    "    'Sugar, Jam and Honey (Total)': 'Expenditure on sugar, jam, and honey',\n",
    "    'Food Not Elsewhere Classified (Total)': 'Expenditure on other food items',\n",
    "    'Fruit and vegetable juices': 'Expenditure on fruit and vegetable juices',\n",
    "    'Coffee, Cocoa and Tea (Total)': 'Expenditure on coffee, cocoa, and tea',\n",
    "    'Tea (total)  expenditure': 'Expenditure on tea',\n",
    "    'Cocoa (total)  expenditure': 'Expenditure on cocoa',\n",
    "    'Main Source of Water Supply (2nd visit only)': 'Main source of water supply (second visit)',\n",
    "    'Softdrinks': 'Expenditure on soft drinks',\n",
    "    'Other Non Alcoholic Beverages': 'Expenditure on other non-alcoholic beverages',\n",
    "    'Alcoholic Beverages (Total)': 'Expenditure on alcoholic beverages',\n",
    "    'Tobacco (Total)': 'Expenditure on tobacco products',\n",
    "    'Other Vegetables (Total)': 'Expenditure on other types of vegetables',\n",
    "    'Services_Primary_Goods': 'Expenditure on services and primary goods',\n",
    "    'Alcohol Procduction Services': 'Expenditure on alcohol production services',\n",
    "    'Total Food Consumed at Home (Total)': 'Total food consumed at home',\n",
    "    'Food Regularly Consumed Outside The Home (Total)': 'Food consumed outside the home',\n",
    "    'Hhld, Food': 'Household expenditure on food',\n",
    "    'Clothing, Footwear and Other Wear': 'Expenditure on clothing, footwear, and other wear',\n",
    "    'Housing and water (Total)': 'Expenditure on housing and water',\n",
    "    'Actual House Rent': 'Expenditure on actual house rent',\n",
    "    'Imputed House Rental Value': 'Imputed value of house rental',\n",
    "    'Imputed Housing Benefit Rental Value': 'Imputed value of housing benefit rental',\n",
    "    'House Rent/Rental Value': 'Expenditure on house rent/rental value',\n",
    "    'Furnishings, Household Equipment & Routine Household Mainte': 'Expenditure on furnishings and household equipment',\n",
    "    'Health (Total)': 'Expenditure on health services and products',\n",
    "    'Transportation (Total)': 'Expenditure on transportation',\n",
    "    'Communication (Total)': 'Expenditure on communication services',\n",
    "    'Recreation and Culture (Total)': 'Expenditure on recreation and culture',\n",
    "    'Education (Total)': 'Expenditure on education',\n",
    "    'Insurance': 'Expenditure on insurance',\n",
    "    'Miscellaneous Goods and Services (Total)': 'Expenditure on miscellaneous goods and services',\n",
    "    'Durable Furniture': 'Expenditure on durable furniture',\n",
    "    'Special Family Occasion': 'Expenditure on special family occasions',\n",
    "    'Other Expenditure (inc. Value Consumed, Losses)': 'Other expenditures including losses',\n",
    "    'Other Disbursements': 'Other household disbursements',\n",
    "    'Accomodation Services': 'Expenditure on accommodation services',\n",
    "    'Total Non-Food Expenditure': 'Total non-food expenditure',\n",
    "    'Hhld, Income, Total': 'Total household income',\n",
    "    'Hhld, Expenditures, Total': 'Total household expenditures',\n",
    "    'Total Household Disbursements': 'Total household disbursements',\n",
    "    'Other Receipts': 'Other household receipts',\n",
    "    'Total Receipts': 'Total receipts',\n",
    "    'Psu (Recode)': 'Primary Sampling Unit (recoded)',\n",
    "    'Raising Factor': 'Raising factor for survey results',\n",
    "    'Final Population Weights': 'Final weights for population data',\n",
    "    'Urban / Rural': 'Urban or rural classification',\n",
    "    'Per Capita Income': 'Household per capita income',\n",
    "    'NPCINC': 'National per capita income',\n",
    "    'RPCINC': 'Regional per capita income',\n",
    "    'Per Capita Income Decile (Province)': 'Per capita income decile in the province',\n",
    "    'pPCINC': 'Provincial per capita income decile',\n",
    "    'Per Capita Income Decile (Region with Negros Island Region (NIR))': 'Per capita income decile (region with NIR)',\n",
    "    'Region (with NIR)': 'Region code including NIR'\n",
    "}\n"
   ]
  },
  {
   "cell_type": "code",
   "execution_count": 137,
   "metadata": {},
   "outputs": [],
   "source": [
    "fies_derivations = {\n",
    "    'Total Receipts': 'Total Household Income + Other Receipts',\n",
    "    'Hhld, Income, Total': 'Net Share of Crops, Fruits, etc. + Cash Receipts, Support, etc. from Abroad + Cash Receipts, Support, etc. from Domestic Source + Unnamed + Pension and Retirement Benefits + Dividends from Investment + Other Sources of Income NEC + Family Sustenance Activities + Total Received as Gifts + Household, Income from Entrep Activities, Total + Imputed House Rental Value',\n",
    "    'Hhld, Income from Entrepreneurial Activities, Total': 'Crop Farming and Gardening + Livestock and Poultry Raising + Fishing + Forestry and Hunting + Wholesale and Retail + Manufacturing + Transportation, Storage Services + Entrep. Activities NEC + Entrep. Activities NEC 1 + Entrep. Activities NEC 2',\n",
    "    'Total Household Disbursements': 'Total Household Expenditure + Other Disbursements',\n",
    "    'Hhld, Expenditures, Total': 'Household Food + Total Non-Food Expenditure',\n",
    "    'Hhld, Food': 'Total Food Consumed at Home + Food Regularly Consumed Outside The Home',\n",
    "    'Total Food Consumed at Home (Total)': 'Cereal and Cereal Preparations + Meat and Meat Preparations + Fish and Marine Products + Dairy and Eggs + Oils and Fats + Fruits and Vegetables + Vegetables + Sugar, jam and Honey + Food Not Elsewhere Classified + Fruit and Vegetable Juices + Coffee, Cocoa and Tea + Tea + Cocoa + Main Source of Water Supply + Softdrinks + Other Non Alcoholic Beverages',\n",
    "    'Total Non-Food Expenditure': 'Alcoholic Beverages + Tobacco + Other Vegetables + Services_Primary_Goods + Alcoholic Production Services + Housing and water (Total) + Furnishings, Household Equipment & Routine Household Maintenance + Health + Transportation + Communication + Recreation and Culture + Education + Insurance + Miscellaneous Goods and Services + Durable Furniture + Special Family Occasion + Other Expenditure + Accommodation Services + Clothing, Footwear and Other Wear',\n",
    "}\n"
   ]
  },
  {
   "cell_type": "code",
   "execution_count": 138,
   "metadata": {},
   "outputs": [],
   "source": [
    "fies_volume1_data_dict = pd.DataFrame({\n",
    "    'Column Name': fies_df.columns,\n",
    "    'Data Type': fies_df.dtypes,\n",
    "    'Non-Null Count': fies_df.notnull().sum(),\n",
    "    'Unique Values': fies_df.nunique(),\n",
    "    'Description': [fies_column_descriptions.get(col, 'No desciption available') for col in fies_df.columns],\n",
    "    'Derivations from other columns': [fies_derivations.get(col, '') for col in fies_df.columns]\n",
    "})\n",
    "fies_volume1_data_dict.to_csv('../fies_volume1_data_dict.csv', index=False)"
   ]
  },
  {
   "cell_type": "markdown",
   "metadata": {},
   "source": [
    "# 4. Data Quality and Assessment\n"
   ]
  },
  {
   "cell_type": "markdown",
   "metadata": {},
   "source": [
    "## Check for missing values, duplicates, outliers, and wrong data.<b>\n"
   ]
  },
  {
   "cell_type": "markdown",
   "metadata": {},
   "source": [
    "Check for duplicates\n"
   ]
  },
  {
   "cell_type": "code",
   "execution_count": 139,
   "metadata": {},
   "outputs": [
    {
     "name": "stdout",
     "output_type": "stream",
     "text": [
      "Number of rows: 163268\n",
      "Number of rows after dropping duplicates: 163268\n"
     ]
    }
   ],
   "source": [
    "number_of_rows = fies_df.shape[0]\n",
    "\n",
    "print(f\"Number of rows: {number_of_rows}\")\n",
    "\n",
    "removed_duplicates = fies_df.copy()\n",
    "removed_duplicates.drop_duplicates(inplace=True)\n",
    "\n",
    "print(f\"Number of rows after dropping duplicates: {removed_duplicates.shape[0]}\")"
   ]
  },
  {
   "cell_type": "markdown",
   "metadata": {},
   "source": [
    "No duplicates are found.\n"
   ]
  },
  {
   "cell_type": "markdown",
   "metadata": {},
   "source": [
    "From the data dictionary, the Total Household Disbursements column is the only one with an object datatype, suggesting mixed values of numbers, strings, etc.\n"
   ]
  },
  {
   "cell_type": "code",
   "execution_count": 140,
   "metadata": {},
   "outputs": [],
   "source": [
    "for column in removed_duplicates.columns:\n",
    "    if removed_duplicates[column].isnull().any():\n",
    "        print(f\"Column {column} has missing values\")"
   ]
  },
  {
   "cell_type": "markdown",
   "metadata": {},
   "source": [
    "The code block above does not show any null values initially, therefore there is the possibility of data with only whitespace values. The code below will strip all whitespaces\n",
    "to know the true number of missing values.\n"
   ]
  },
  {
   "cell_type": "code",
   "execution_count": 141,
   "metadata": {},
   "outputs": [
    {
     "name": "stdout",
     "output_type": "stream",
     "text": [
      "Number of rows with whitespace: 7732\n"
     ]
    }
   ],
   "source": [
    "# Function to check if a value is whitespace or empty\n",
    "def has_whitespace(val):\n",
    "    return isinstance(val, str) and val.strip() == ''\n",
    "\n",
    "whitespace_rows = removed_duplicates.map(has_whitespace).any(axis=1)\n",
    "\n",
    "whitespace_count = whitespace_rows.sum()\n",
    "\n",
    "print(f\"Number of rows with whitespace: {whitespace_count}\")"
   ]
  },
  {
   "cell_type": "markdown",
   "metadata": {},
   "source": [
    "There are whitespaces. Whitespaces could mean that the value for that data is zero. Therefore, a check must be made to ensure that there are zeroes in the dataset as well to know that whitespaces and zeroes are equivalent.\n"
   ]
  },
  {
   "cell_type": "code",
   "execution_count": 142,
   "metadata": {},
   "outputs": [
    {
     "name": "stdout",
     "output_type": "stream",
     "text": [
      "144056\n"
     ]
    }
   ],
   "source": [
    "print(removed_duplicates['Total Household Disbursements'].value_counts().where(removed_duplicates['Total Household Disbursements'] == 0, 1).sum())"
   ]
  },
  {
   "cell_type": "markdown",
   "metadata": {},
   "source": [
    "Now we detect potential outliers using statistical methods.\n",
    "The main columns to look at are the Total Household Income and Total Household Expenditure columns..\n"
   ]
  },
  {
   "cell_type": "code",
   "execution_count": 143,
   "metadata": {},
   "outputs": [
    {
     "name": "stdout",
     "output_type": "stream",
     "text": [
      "Income Mean: 332147.2798196217\n",
      "Income Median: 241080.0\n",
      "Income Standard Deviation: 406065.14044660714\n"
     ]
    }
   ],
   "source": [
    "income_mean = removed_duplicates['Hhld, Income, Total'].mean()\n",
    "income_median = removed_duplicates['Hhld, Income, Total'].median()\n",
    "income_std = removed_duplicates['Hhld, Income, Total'].std()\n",
    "\n",
    "print(f\"Income Mean: {income_mean}\")\n",
    "print(f\"Income Median: {income_median}\")\n",
    "print(f\"Income Standard Deviation: {income_std}\")"
   ]
  },
  {
   "cell_type": "code",
   "execution_count": 144,
   "metadata": {},
   "outputs": [
    {
     "name": "stdout",
     "output_type": "stream",
     "text": [
      "Expenditure Mean: 243155.34994505966\n",
      "Expenditure Median: 191325.25\n",
      "Expenditure Standard Deviation: 195625.7027338354\n"
     ]
    }
   ],
   "source": [
    "expenditure_mean = removed_duplicates['Hhld, Expenditures, Total'].mean()\n",
    "expenditure_median = removed_duplicates['Hhld, Expenditures, Total'].median()\n",
    "expenditure_std = removed_duplicates['Hhld, Expenditures, Total'].std()\n",
    "\n",
    "print(f\"Expenditure Mean: {expenditure_mean}\")\n",
    "print(f\"Expenditure Median: {expenditure_median}\")\n",
    "print(f\"Expenditure Standard Deviation: {expenditure_std}\")"
   ]
  },
  {
   "cell_type": "markdown",
   "metadata": {},
   "source": [
    "From the results, the mean for the income and expenditure columns are quite large. To see more, a boxplot can be used to visualize the distribution\n"
   ]
  },
  {
   "cell_type": "code",
   "execution_count": 145,
   "metadata": {},
   "outputs": [
    {
     "data": {
      "text/plain": [
       "Text(0, 0.5, 'Value')"
      ]
     },
     "execution_count": 145,
     "metadata": {},
     "output_type": "execute_result"
    },
    {
     "data": {
      "image/png": "[encoded data removed]",
      "text/plain": [
       "<Figure size 640x480 with 1 Axes>"
      ]
     },
     "metadata": {},
     "output_type": "display_data"
    }
   ],
   "source": [
    "import matplotlib.pyplot as plt\n",
    "import seaborn as sns\n",
    "sns.boxplot(removed_duplicates['Hhld, Income, Total'])\n",
    "plt.title('Boxplot of Income')\n",
    "plt.xlabel('Income')\n",
    "plt.ylabel('Value')"
   ]
  },
  {
   "cell_type": "code",
   "execution_count": 146,
   "metadata": {},
   "outputs": [
    {
     "data": {
      "text/plain": [
       "Text(0, 0.5, 'Value')"
      ]
     },
     "execution_count": 146,
     "metadata": {},
     "output_type": "execute_result"
    },
    {
     "data": {
      "image/png": "[encoded data removed]",
      "text/plain": [
       "<Figure size 640x480 with 1 Axes>"
      ]
     },
     "metadata": {},
     "output_type": "display_data"
    }
   ],
   "source": [
    "sns.boxplot(removed_duplicates['Hhld, Expenditures, Total'])\n",
    "plt.title('Boxplot of Expenditures')\n",
    "plt.xlabel('Expenditures')\n",
    "plt.ylabel('Value')"
   ]
  },
  {
   "cell_type": "code",
   "execution_count": 147,
   "metadata": {},
   "outputs": [
    {
     "data": {
      "image/png": "[encoded data removed]",
      "text/plain": [
       "<Figure size 600x400 with 1 Axes>"
      ]
     },
     "metadata": {},
     "output_type": "display_data"
    }
   ],
   "source": [
    "fig, ax = plt.subplots(figsize=(6, 4))\n",
    "ax.scatter(removed_duplicates['Hhld, Income, Total'], removed_duplicates['Hhld, Expenditures, Total'])\n",
    "ax.set_xlabel('Income')\n",
    "ax.set_ylabel('Expenditure')\n",
    "plt.show()"
   ]
  },
  {
   "cell_type": "markdown",
   "metadata": {},
   "source": [
    "From the boxplots and scatter plots, there defenitely are high-value outliers for both Income and Expenditure, and from the column derivations, this also means that by addressing only these two columns, the rest of the outlier columns can be addressed.\n"
   ]
  },
  {
   "cell_type": "markdown",
   "metadata": {},
   "source": [
    "## Impute, discretize and data wrangling\n"
   ]
  },
  {
   "cell_type": "markdown",
   "metadata": {},
   "source": [
    "Since there are zeroes present, the Total Household Disbursements column must be addressed. Upon inspection, Total Household Disbursements can be imputed from the sum of Hhld, Expenditures, Total and Other Disbursements.\n"
   ]
  },
  {
   "cell_type": "code",
   "execution_count": 148,
   "metadata": {},
   "outputs": [],
   "source": [
    "removed_null = removed_duplicates.copy()\n",
    "removed_null.loc[whitespace_rows, 'Total Household Disbursements'] = removed_null.loc[whitespace_rows, \n",
    "                                                                            'Hhld, Expenditures, Total'] + removed_null.loc[whitespace_rows, 'Other Disbursements']"
   ]
  },
  {
   "cell_type": "markdown",
   "metadata": {},
   "source": [
    "Double-check for missing values\n"
   ]
  },
  {
   "cell_type": "code",
   "execution_count": 149,
   "metadata": {},
   "outputs": [
    {
     "name": "stdout",
     "output_type": "stream",
     "text": [
      "Number of rows with whitespace: 0\n"
     ]
    }
   ],
   "source": [
    "whitespace_rows = removed_null.map(has_whitespace).any(axis=1)\n",
    "whitespace_count = whitespace_rows.sum()\n",
    "print(f\"Number of rows with whitespace: {whitespace_count}\")"
   ]
  },
  {
   "cell_type": "markdown",
   "metadata": {},
   "source": [
    "We now address the outliers using the IQR method\n"
   ]
  },
  {
   "cell_type": "code",
   "execution_count": 150,
   "metadata": {},
   "outputs": [
    {
     "name": "stdout",
     "output_type": "stream",
     "text": [
      "Income Q1: 162539.0\n",
      "Income Q3: 389478.0\n",
      "Income IQR: 226939.0\n",
      "Expenditure Q1: 131751.75\n",
      "Expenditure Q3: 293141.125\n",
      "Expenditure IQR: 161389.375\n"
     ]
    }
   ],
   "source": [
    "income_Q1 = removed_null['Hhld, Income, Total'].quantile(0.25)\n",
    "income_Q3 = removed_null['Hhld, Income, Total'].quantile(0.75)\n",
    "income_IQR = income_Q3 - income_Q1\n",
    "print(f\"Income Q1: {income_Q1}\")\n",
    "print(f\"Income Q3: {income_Q3}\")\n",
    "print(f\"Income IQR: {income_IQR}\")\n",
    "\n",
    "expenditure_Q1 = removed_null['Hhld, Expenditures, Total'].quantile(0.25)\n",
    "expenditure_Q3 = removed_null['Hhld, Expenditures, Total'].quantile(0.75)\n",
    "expenditure_IQR = expenditure_Q3 - expenditure_Q1\n",
    "print(f\"Expenditure Q1: {expenditure_Q1}\")\n",
    "print(f\"Expenditure Q3: {expenditure_Q3}\")\n",
    "print(f\"Expenditure IQR: {expenditure_IQR}\")"
   ]
  },
  {
   "cell_type": "code",
   "execution_count": 151,
   "metadata": {},
   "outputs": [
    {
     "name": "stdout",
     "output_type": "stream",
     "text": [
      "Shape before removing outliers: (163268, 91)\n",
      "Shape after removing outliers for Income: (151704, 91)\n",
      "Shape after removing outliers for Expenditure: (149622, 91)\n"
     ]
    }
   ],
   "source": [
    "# Income\n",
    "removed_outliers = removed_null.copy()\n",
    "print('Shape before removing outliers:', removed_outliers.shape)\n",
    "lower_bound_income = income_Q1 - 1.5 * income_IQR\n",
    "upper_bound_income = income_Q3 + 1.5 * income_IQR\n",
    "upper_income = np.where(removed_outliers['Hhld, Income, Total'] >= upper_bound_income)[0]\n",
    "lower_income = np.where(removed_outliers['Hhld, Income, Total'] <= lower_bound_income)[0]\n",
    "\n",
    "removed_outliers.drop(index=upper_income, inplace=True)\n",
    "removed_outliers.drop(index=lower_income, inplace=True)\n",
    "print('Shape after removing outliers for Income:', removed_outliers.shape)\n",
    "\n",
    "# Expenditure\n",
    "lower_bound_expenditure = expenditure_Q1 - 1.5 * expenditure_IQR\n",
    "upper_bound_expenditure = expenditure_Q3 + 1.5 * expenditure_IQR\n",
    "removed_outliers.reset_index(drop=True, inplace=True)\n",
    "upper_expenditure = np.where(removed_outliers['Hhld, Expenditures, Total'] >= upper_bound_expenditure)[0]\n",
    "lower_expenditure = np.where(removed_outliers['Hhld, Expenditures, Total'] <= lower_bound_expenditure)[0]\n",
    "\n",
    "removed_outliers.drop(index=upper_expenditure, inplace=True)\n",
    "removed_outliers.drop(index=lower_expenditure, inplace=True)\n",
    "print('Shape after removing outliers for Expenditure:', removed_outliers.shape)"
   ]
  },
  {
   "cell_type": "markdown",
   "metadata": {},
   "source": [
    "Time to check using the same methods.\n"
   ]
  },
  {
   "cell_type": "code",
   "execution_count": 152,
   "metadata": {},
   "outputs": [
    {
     "name": "stdout",
     "output_type": "stream",
     "text": [
      "Income Mean: 262455.5624159549\n",
      "Income Median: 225647.25\n",
      "Income Standard Deviation: 142442.89244017968\n",
      "Expenditure Mean: 202702.7845026133\n",
      "Expenditure Median: 179935.75\n",
      "Expenditure Standard Deviation: 101436.79255052749\n"
     ]
    }
   ],
   "source": [
    "income_mean = removed_outliers['Hhld, Income, Total'].mean()\n",
    "income_median = removed_outliers['Hhld, Income, Total'].median()\n",
    "income_std = removed_outliers['Hhld, Income, Total'].std()\n",
    "\n",
    "print(f\"Income Mean: {income_mean}\")\n",
    "print(f\"Income Median: {income_median}\")\n",
    "print(f\"Income Standard Deviation: {income_std}\")\n",
    "\n",
    "expenditure_mean = removed_outliers['Hhld, Expenditures, Total'].mean()\n",
    "expenditure_median = removed_outliers['Hhld, Expenditures, Total'].median()\n",
    "expenditure_std = removed_outliers['Hhld, Expenditures, Total'].std()\n",
    "\n",
    "print(f\"Expenditure Mean: {expenditure_mean}\")\n",
    "print(f\"Expenditure Median: {expenditure_median}\")\n",
    "print(f\"Expenditure Standard Deviation: {expenditure_std}\")"
   ]
  },
  {
   "cell_type": "code",
   "execution_count": 153,
   "metadata": {},
   "outputs": [
    {
     "data": {
      "text/plain": [
       "Text(0, 0.5, 'Value')"
      ]
     },
     "execution_count": 153,
     "metadata": {},
     "output_type": "execute_result"
    },
    {
     "data": {
      "image/png": "[encoded data removed]",
      "text/plain": [
       "<Figure size 640x480 with 1 Axes>"
      ]
     },
     "metadata": {},
     "output_type": "display_data"
    }
   ],
   "source": [
    "sns.boxplot(removed_outliers['Hhld, Income, Total'])\n",
    "plt.title('Boxplot of Income')\n",
    "plt.xlabel('Income')\n",
    "plt.ylabel('Value')"
   ]
  },
  {
   "cell_type": "code",
   "execution_count": 154,
   "metadata": {},
   "outputs": [
    {
     "data": {
      "text/plain": [
       "Text(0, 0.5, 'Value')"
      ]
     },
     "execution_count": 154,
     "metadata": {},
     "output_type": "execute_result"
    },
    {
     "data": {
      "image/png": "[encoded data removed]",
      "text/plain": [
       "<Figure size 640x480 with 1 Axes>"
      ]
     },
     "metadata": {},
     "output_type": "display_data"
    }
   ],
   "source": [
    "sns.boxplot(removed_outliers['Hhld, Expenditures, Total'])\n",
    "plt.title('Boxplot of Expenditures')\n",
    "plt.xlabel('Expenditures')\n",
    "plt.ylabel('Value')"
   ]
  },
  {
   "cell_type": "code",
   "execution_count": 155,
   "metadata": {},
   "outputs": [
    {
     "data": {
      "image/png": "[encoded data removed]",
      "text/plain": [
       "<Figure size 600x400 with 1 Axes>"
      ]
     },
     "metadata": {},
     "output_type": "display_data"
    }
   ],
   "source": [
    "fig, ax = plt.subplots(figsize=(6, 4))\n",
    "ax.scatter(removed_outliers['Hhld, Income, Total'], removed_outliers['Hhld, Expenditures, Total'])\n",
    "ax.set_xlabel('Income')\n",
    "ax.set_ylabel('Expenditure')\n",
    "plt.show()"
   ]
  },
  {
   "cell_type": "markdown",
   "metadata": {},
   "source": [
    "The outliers are now removed.\n"
   ]
  },
  {
   "cell_type": "markdown",
   "metadata": {},
   "source": [
    "There is a column named Unnamed_13 in the dataset. We opted to total the unnamed column and other sources of income NEC because the unnamed column contributes to the total income of the household as some of the total income were inaccurate if the unnamed column wans't included\n"
   ]
  },
  {
   "cell_type": "code",
   "execution_count": 156,
   "metadata": {},
   "outputs": [
    {
     "name": "stdout",
     "output_type": "stream",
     "text": [
      "Number of columns before dropping: 91\n",
      "Number of columns after dropping: 90\n"
     ]
    }
   ],
   "source": [
    "imputted_column_13 = removed_outliers.copy()\n",
    "imputted_column_13['Other Sources of Income NEC'] = imputted_column_13['Other Sources of Income NEC'] + imputted_column_13['Unnamed: 13']\n",
    "print(\"Number of columns before dropping:\", imputted_column_13.shape[1])\n",
    "imputted_column_13.drop(columns=['Unnamed: 13'], inplace=True)\n",
    "print(\"Number of columns after dropping:\", imputted_column_13.shape[1])"
   ]
  },
  {
   "cell_type": "markdown",
   "metadata": {},
   "source": [
    "# 5. Quantitative Statistics\n"
   ]
  },
  {
   "cell_type": "markdown",
   "metadata": {},
   "source": [
    "## Generate statistics and provide EDA. Provide illustration\n"
   ]
  },
  {
   "cell_type": "markdown",
   "metadata": {},
   "source": [
    "# 6. Application of Proximity (Distance Analysis)\n"
   ]
  },
  {
   "cell_type": "markdown",
   "metadata": {},
   "source": [
    "## Check for correlation. Provide illustration.\n"
   ]
  },
  {
   "cell_type": "markdown",
   "metadata": {},
   "source": [
    "## Calculate a distance matrix (e.g., Euclidean distance) for numeric data as required. Provide illustration\n"
   ]
  },
  {
   "cell_type": "markdown",
   "metadata": {},
   "source": [
    "# 7. Data Mining: Association Rule Mining\n"
   ]
  },
  {
   "cell_type": "markdown",
   "metadata": {},
   "source": [
    "## If needed, transform the dataset (one-hot encoding) and apply the Apriori algorithm to extract association rules.\n"
   ]
  },
  {
   "cell_type": "code",
   "execution_count": 157,
   "metadata": {},
   "outputs": [
    {
     "data": {
      "text/html": [
       "<div>\n",
       "<style scoped>\n",
       "    .dataframe tbody tr th:only-of-type {\n",
       "        vertical-align: middle;\n",
       "    }\n",
       "\n",
       "    .dataframe tbody tr th {\n",
       "        vertical-align: top;\n",
       "    }\n",
       "\n",
       "    .dataframe thead th {\n",
       "        text-align: right;\n",
       "    }\n",
       "</style>\n",
       "<table border=\"1\" class=\"dataframe\">\n",
       "  <thead>\n",
       "    <tr style=\"text-align: right;\">\n",
       "      <th></th>\n",
       "      <th>NPCINC</th>\n",
       "      <th>min</th>\n",
       "      <th>max</th>\n",
       "    </tr>\n",
       "  </thead>\n",
       "  <tbody>\n",
       "    <tr>\n",
       "      <th>0</th>\n",
       "      <td>1</td>\n",
       "      <td>5240.000000</td>\n",
       "      <td>32117.500000</td>\n",
       "    </tr>\n",
       "    <tr>\n",
       "      <th>1</th>\n",
       "      <td>2</td>\n",
       "      <td>32117.500000</td>\n",
       "      <td>41275.199219</td>\n",
       "    </tr>\n",
       "    <tr>\n",
       "      <th>2</th>\n",
       "      <td>3</td>\n",
       "      <td>41276.000000</td>\n",
       "      <td>50114.800781</td>\n",
       "    </tr>\n",
       "    <tr>\n",
       "      <th>3</th>\n",
       "      <td>4</td>\n",
       "      <td>50116.250000</td>\n",
       "      <td>59848.332031</td>\n",
       "    </tr>\n",
       "    <tr>\n",
       "      <th>4</th>\n",
       "      <td>5</td>\n",
       "      <td>59848.750000</td>\n",
       "      <td>71350.000000</td>\n",
       "    </tr>\n",
       "    <tr>\n",
       "      <th>5</th>\n",
       "      <td>6</td>\n",
       "      <td>71350.000000</td>\n",
       "      <td>85297.500000</td>\n",
       "    </tr>\n",
       "    <tr>\n",
       "      <th>6</th>\n",
       "      <td>7</td>\n",
       "      <td>85299.000000</td>\n",
       "      <td>104617.500000</td>\n",
       "    </tr>\n",
       "    <tr>\n",
       "      <th>7</th>\n",
       "      <td>8</td>\n",
       "      <td>104620.000000</td>\n",
       "      <td>134370.000000</td>\n",
       "    </tr>\n",
       "    <tr>\n",
       "      <th>8</th>\n",
       "      <td>9</td>\n",
       "      <td>134372.500000</td>\n",
       "      <td>193324.000000</td>\n",
       "    </tr>\n",
       "    <tr>\n",
       "      <th>9</th>\n",
       "      <td>10</td>\n",
       "      <td>193333.328125</td>\n",
       "      <td>729340.000000</td>\n",
       "    </tr>\n",
       "  </tbody>\n",
       "</table>\n",
       "</div>"
      ],
      "text/plain": [
       "   NPCINC            min            max\n",
       "0       1    5240.000000   32117.500000\n",
       "1       2   32117.500000   41275.199219\n",
       "2       3   41276.000000   50114.800781\n",
       "3       4   50116.250000   59848.332031\n",
       "4       5   59848.750000   71350.000000\n",
       "5       6   71350.000000   85297.500000\n",
       "6       7   85299.000000  104617.500000\n",
       "7       8  104620.000000  134370.000000\n",
       "8       9  134372.500000  193324.000000\n",
       "9      10  193333.328125  729340.000000"
      ]
     },
     "execution_count": 157,
     "metadata": {},
     "output_type": "execute_result"
    }
   ],
   "source": [
    "income_column = \"Per Capita Income\"\n",
    "decile_column = \"NPCINC\"\n",
    "\n",
    "income_stats = imputted_column_13.groupby(decile_column)[income_column].agg(['min', 'max']).reset_index()\n",
    "\n",
    "income_stats"
   ]
  },
  {
   "cell_type": "markdown",
   "metadata": {},
   "source": [
    "## Per Capita Income, Total nonfood, total food, family size"
   ]
  },
  {
   "cell_type": "code",
   "execution_count": 158,
   "metadata": {},
   "outputs": [],
   "source": [
    "# import pandas as pd\n",
    "# from mlxtend.frequent_patterns import fpgrowth, association_rules\n",
    "\n",
    "\n",
    "# # low, medium, high for necessities\n",
    "# lmh_columns = [\n",
    "#     \"Total Non-Food Expenditure\", \"Hhld, Food\",\n",
    "# ]\n",
    "\n",
    "# categorical_columns = [\"Family Size\", \"NPCINC\"]\n",
    "\n",
    "# df_filtered = imputted_column_13[lmh_columns + categorical_columns].copy()\n",
    "\n",
    "# df_filtered\n"
   ]
  },
  {
   "cell_type": "code",
   "execution_count": 159,
   "metadata": {},
   "outputs": [],
   "source": [
    "\n",
    "\n",
    "# # Convert Low/Medium/High using percentiles\n",
    "# def categorize_lmh(value, quantiles):\n",
    "#     if value <= quantiles[0.33]:\n",
    "#         return \"Low\"\n",
    "#     elif value <= quantiles[0.66]:\n",
    "#         return \"Medium\"\n",
    "#     else:\n",
    "#         return \"High\"\n",
    "\n",
    "# for col in lmh_columns:\n",
    "#     quantiles = df_filtered[col].quantile([0.33, 0.66]).to_dict()\n",
    "#     df_filtered[col] = df_filtered[col].apply(lambda x: categorize_lmh(x, quantiles))\n",
    "\n",
    "# # Convert Family Size to Small/Medium/Large\n",
    "# def categorize_family_size(size):\n",
    "#     if size <= 3:\n",
    "#         return \"Small\"\n",
    "#     elif size <= 6:\n",
    "#         return \"Medium\"\n",
    "#     else:\n",
    "#         return \"Large\"\n",
    "\n",
    "# df_filtered[\"Family Size\"] = df_filtered[\"Family Size\"].apply(categorize_family_size)\n",
    "\n",
    "# def categorize_npcinc(decile):\n",
    "#     if decile <= 3:\n",
    "#         return \"Low\"\n",
    "#     elif decile <= 7:\n",
    "#         return \"Medium\"\n",
    "#     else:\n",
    "#         return \"High\"\n",
    "\n",
    "# df_filtered[\"NPCINC\"] = df_filtered[\"NPCINC\"].apply(categorize_npcinc)"
   ]
  },
  {
   "cell_type": "code",
   "execution_count": 160,
   "metadata": {},
   "outputs": [],
   "source": [
    "# # Step 6: One-Hot Encode Categorical Columns (LMH + Family Size + NPCINC)\n",
    "# df_encoded = pd.get_dummies(df_filtered, columns=lmh_columns + categorical_columns)\n",
    "\n",
    "# # Step 7: Apply FP-Growth\n",
    "# min_support = 0.07  # Adjust as needed\n",
    "# frequent_itemsets = fpgrowth(df_encoded, min_support=min_support, use_colnames=True)\n",
    "\n",
    "# # Step 8: Generate Association Rules\n",
    "# rules = association_rules(frequent_itemsets, metric=\"lift\", min_threshold=1)\n",
    "\n",
    "# # Step 9: Save results\n",
    "# #frequent_itemsets.to_csv(\"frequent_itemsets_filtered2.csv\", index=False)\n",
    "# #rules.to_csv(\"association_rules_filtered2.csv\", index=False)"
   ]
  },
  {
   "cell_type": "markdown",
   "metadata": {},
   "source": [
    "## Per capita income with food 1"
   ]
  },
  {
   "cell_type": "code",
   "execution_count": 161,
   "metadata": {},
   "outputs": [],
   "source": [
    "\n",
    "\n",
    "# # low, medium, high for necessities\n",
    "# lmh_columns_food1 = [\n",
    "#     \"Cereal and Cereal Preparations (Total)\", \"Meat and Meat Preparations\",\n",
    "#     \"Fish and Marine Products (Total)\", \"Dairy Products and Eggs (Total)\", \"Oils and Fats (Total)\", \"Fruits and Vegetables\", \"Vegetables (Total)\", \"Sugar, Jam and Honey (Total)\"\n",
    "# ]\n",
    "\n",
    "# categorical_columns = [\"Family Size\", \"NPCINC\"]\n",
    "\n",
    "# df_filtered = imputted_column_13[lmh_columns_food1 + categorical_columns].copy()\n",
    "\n",
    "# # Convert Low/Medium/High using percentiles\n",
    "# def categorize_lmh(value, quantiles):\n",
    "#     if value <= quantiles[0.33]:\n",
    "#         return \"Low\"\n",
    "#     elif value <= quantiles[0.66]:\n",
    "#         return \"Medium\"\n",
    "#     else:\n",
    "#         return \"High\"\n",
    "\n",
    "# for col in lmh_columns_food1:\n",
    "#     quantiles = df_filtered[col].quantile([0.33, 0.66]).to_dict()\n",
    "#     df_filtered[col] = df_filtered[col].apply(lambda x: categorize_lmh(x, quantiles))\n",
    "\n",
    "# # Convert Family Size to Small/Medium/Large\n",
    "# def categorize_family_size(size):\n",
    "#     if size <= 3:\n",
    "#         return \"Small\"\n",
    "#     elif size <= 6:\n",
    "#         return \"Medium\"\n",
    "#     else:\n",
    "#         return \"Large\"\n",
    "\n",
    "# df_filtered[\"Family Size\"] = df_filtered[\"Family Size\"].apply(categorize_family_size)\n",
    "\n",
    "# def categorize_npcinc(decile):\n",
    "#     if decile <= 3:\n",
    "#         return \"Low\"\n",
    "#     elif decile <= 7:\n",
    "#         return \"Medium\"\n",
    "#     else:\n",
    "#         return \"High\"\n",
    "\n",
    "# df_filtered[\"NPCINC\"] = df_filtered[\"NPCINC\"].apply(categorize_npcinc)\n",
    "\n",
    "# # Step 6: One-Hot Encode Categorical Columns (LMH + Family Size + NPCINC)\n",
    "# df_encoded = pd.get_dummies(df_filtered, columns=lmh_columns_food1 + categorical_columns)\n",
    "\n",
    "# # Step 7: Apply FP-Growth\n",
    "# min_support = 0.05  # Adjust as needed\n",
    "# frequent_itemsets = fpgrowth(df_encoded, min_support=min_support, use_colnames=True)\n",
    "\n",
    "# # Step 8: Generate Association Rules\n",
    "# rules = association_rules(frequent_itemsets, metric=\"lift\", min_threshold=1)\n",
    "\n",
    "# # Step 9: Save results\n",
    "# # frequent_itemsets.to_csv(\"frequent_itemsets_food1_lower_th.csv\", index=False)\n",
    "# # rules.to_csv(\"association_rules_food1_lower_th.csv\", index=False)"
   ]
  },
  {
   "cell_type": "markdown",
   "metadata": {},
   "source": [
    "## Per capita income with Food 2"
   ]
  },
  {
   "cell_type": "code",
   "execution_count": 162,
   "metadata": {},
   "outputs": [],
   "source": [
    "\n",
    "\n",
    "# # low, medium, high for necessities\n",
    "# lmh_columns_food1 = [\n",
    "#     \"Food Not Elsewhere Classified (Total)\", \"Fruit and vegetable juices\",\n",
    "#     \"Coffee, Cocoa and Tea (Total)\", \"Tea (total)  expenditure\", \"Cocoa (total)  expenditure\", \"Main Source of Water Supply (2nd visit only)\", \"Softdrinks\", \"Other Non Alcoholic Beverages\"\n",
    "# ]\n",
    "\n",
    "# categorical_columns = [\"Family Size\", \"NPCINC\"]\n",
    "\n",
    "# df_filtered = imputted_column_13[lmh_columns_food1 + categorical_columns].copy()\n",
    "\n",
    "# # Convert Low/Medium/High using percentiles\n",
    "# def categorize_lmh(value, quantiles):\n",
    "#     if value <= quantiles[0.33]:\n",
    "#         return \"Low\"\n",
    "#     elif value <= quantiles[0.66]:\n",
    "#         return \"Medium\"\n",
    "#     else:\n",
    "#         return \"High\"\n",
    "\n",
    "# for col in lmh_columns_food1:\n",
    "#     quantiles = df_filtered[col].quantile([0.33, 0.66]).to_dict()\n",
    "#     df_filtered[col] = df_filtered[col].apply(lambda x: categorize_lmh(x, quantiles))\n",
    "\n",
    "# # Convert Family Size to Small/Medium/Large\n",
    "# def categorize_family_size(size):\n",
    "#     if size <= 3:\n",
    "#         return \"Small\"\n",
    "#     elif size <= 6:\n",
    "#         return \"Medium\"\n",
    "#     else:\n",
    "#         return \"Large\"\n",
    "\n",
    "# df_filtered[\"Family Size\"] = df_filtered[\"Family Size\"].apply(categorize_family_size)\n",
    "\n",
    "# def categorize_npcinc(decile):\n",
    "#     if decile <= 3:\n",
    "#         return \"Low\"\n",
    "#     elif decile <= 7:\n",
    "#         return \"Medium\"\n",
    "#     else:\n",
    "#         return \"High\"\n",
    "\n",
    "# df_filtered[\"NPCINC\"] = df_filtered[\"NPCINC\"].apply(categorize_npcinc)\n",
    "\n",
    "# # Step 6: One-Hot Encode Categorical Columns (LMH + Family Size + NPCINC)\n",
    "# df_encoded = pd.get_dummies(df_filtered, columns=lmh_columns_food1 + categorical_columns)\n",
    "\n",
    "# # Step 7: Apply FP-Growth\n",
    "# min_support = 0.05  # Adjust as needed\n",
    "# frequent_itemsets = fpgrowth(df_encoded, min_support=min_support, use_colnames=True)\n",
    "\n",
    "# # Step 8: Generate Association Rules\n",
    "# rules = association_rules(frequent_itemsets, metric=\"lift\", min_threshold=1)\n",
    "\n",
    "# # Step 9: Save results\n",
    "# #frequent_itemsets.to_csv(\"frequent_itemsets_food2.csv\", index=False)\n",
    "# #rules.to_csv(\"association_rules_food2.csv\", index=False)"
   ]
  },
  {
   "cell_type": "markdown",
   "metadata": {},
   "source": [
    "## home vs outside per capita income"
   ]
  },
  {
   "cell_type": "code",
   "execution_count": 163,
   "metadata": {},
   "outputs": [],
   "source": [
    "\n",
    "\n",
    "\n",
    "# # low, medium, high for necessities\n",
    "# lmh_columns_home_vs_outside = [\n",
    "#     \"Total Food Consumed at Home (Total)\", \"Food Regularly Consumed Outside The Home (Total)\"\n",
    "# ]\n",
    "\n",
    "# categorical_columns = [\"Family Size\", \"NPCINC\"]\n",
    "\n",
    "# df_filtered = imputted_column_13[lmh_columns_home_vs_outside + categorical_columns].copy()\n",
    "\n",
    "# # Convert Low/Medium/High using percentiles\n",
    "# def categorize_lmh(value, quantiles):\n",
    "#     if value <= quantiles[0.33]:\n",
    "#         return \"Low\"\n",
    "#     elif value <= quantiles[0.66]:\n",
    "#         return \"Medium\"\n",
    "#     else:\n",
    "#         return \"High\"\n",
    "\n",
    "# for col in lmh_columns_home_vs_outside:\n",
    "#     quantiles = df_filtered[col].quantile([0.33, 0.66]).to_dict()\n",
    "#     df_filtered[col] = df_filtered[col].apply(lambda x: categorize_lmh(x, quantiles))\n",
    "\n",
    "# # Convert Family Size to Small/Medium/Large\n",
    "# def categorize_family_size(size):\n",
    "#     if size <= 3:\n",
    "#         return \"Small\"\n",
    "#     elif size <= 6:\n",
    "#         return \"Medium\"\n",
    "#     else:\n",
    "#         return \"Large\"\n",
    "\n",
    "# df_filtered[\"Family Size\"] = df_filtered[\"Family Size\"].apply(categorize_family_size)\n",
    "\n",
    "# def categorize_npcinc(decile):\n",
    "#     if decile <= 3:\n",
    "#         return \"Low\"\n",
    "#     elif decile <= 7:\n",
    "#         return \"Medium\"\n",
    "#     else:\n",
    "#         return \"High\"\n",
    "\n",
    "# df_filtered[\"NPCINC\"] = df_filtered[\"NPCINC\"].apply(categorize_npcinc)\n",
    "\n",
    "# # Step 6: One-Hot Encode Categorical Columns (LMH + Family Size + NPCINC)\n",
    "# df_encoded = pd.get_dummies(df_filtered, columns=lmh_columns_home_vs_outside + categorical_columns)\n",
    "\n",
    "# # Step 7: Apply FP-Growth\n",
    "# min_support = 0.05  # Adjust as needed\n",
    "# frequent_itemsets = fpgrowth(df_encoded, min_support=min_support, use_colnames=True)\n",
    "\n",
    "# # Step 8: Generate Association Rules\n",
    "# rules = association_rules(frequent_itemsets, metric=\"lift\", min_threshold=1)\n",
    "\n",
    "# # Step 9: Save results\n",
    "# #frequent_itemsets.to_csv(\"frequent_itemsets_food_total.csv\", index=False)\n",
    "# #rules.to_csv(\"association_rules_food_total.csv\", index=False)"
   ]
  },
  {
   "cell_type": "markdown",
   "metadata": {},
   "source": [
    "## Sources of Income vs Total Expenditures"
   ]
  },
  {
   "cell_type": "code",
   "execution_count": 164,
   "metadata": {},
   "outputs": [],
   "source": [
    "# import pandas as pd\n",
    "# from mlxtend.frequent_patterns import fpgrowth, association_rules\n",
    "\n",
    "# # binary columns for miscellaneous expenses\n",
    "# binary_columns = [\n",
    "#     \"Salaries/Wages from Regular Employment\", \"Salaries/Wages from Seasonal Employment\", \n",
    "#     \"Net Share of Crops, Fruits, etc. (Tot. Net Value of Share)\", \"Cash Receipts, Support, etc. from Abroad\", \"Cash Receipts, Support, etc. from Domestic Source\",\n",
    "#     \"Rentals Received from Non-Agri Lands, etc.\", \"Pension and Retirement Benefits\", \n",
    "#     \"Dividends from Investment\", \"Other Sources of Income NEC\", \n",
    "#     \"Family Sustenance Activities\", \"Total Received as Gifts\", \"Hhld, Income from Entrepreneurial Activities, Total\",\n",
    "#     \"Imputed House Rental Value\", \"Other Receipts\"\n",
    "# ]\n",
    "\n",
    "# # low, medium, high for necessities\n",
    "# lmh_columns = [\n",
    "#     \"Total Household Disbursements\"\n",
    "# ]\n",
    "\n",
    "# df_filtered = imputted_column_13[binary_columns + lmh_columns].copy()\n",
    "\n",
    "# df_filtered\n",
    "\n",
    "# df_filtered[binary_columns] = df_filtered[binary_columns].applymap(lambda x: 1 if x > 0 else 0)\n",
    "\n",
    "# # Convert Low/Medium/High using percentiles\n",
    "# def categorize_lmh(value, quantiles):\n",
    "#     if value <= quantiles[0.33]:\n",
    "#         return \"Low\"\n",
    "#     elif value <= quantiles[0.66]:\n",
    "#         return \"Medium\"\n",
    "#     else:\n",
    "#         return \"High\"\n",
    "\n",
    "# for col in lmh_columns:\n",
    "#     df_filtered[col] = pd.to_numeric(df_filtered[col], errors='coerce')\n",
    "    \n",
    "#     # Drop NaNs before computing quantiles\n",
    "#     quantiles = df_filtered[col].dropna().quantile([0.33, 0.66]).to_dict()\n",
    "    \n",
    "#     # Apply categorization\n",
    "#     df_filtered[col] = df_filtered[col].apply(lambda x: categorize_lmh(x, quantiles) if pd.notna(x) else \"Unknown\")\n",
    "\n",
    "\n",
    "# # Step 6: One-Hot Encode Categorical Columns (LMH + Family Size + NPCINC)\n",
    "# df_encoded = pd.get_dummies(df_filtered, columns=lmh_columns)\n",
    "\n",
    "# # Step 7: Apply FP-Growth\n",
    "# min_support = 0.05  # Adjust as needed\n",
    "# frequent_itemsets = fpgrowth(df_encoded, min_support=min_support, use_colnames=True)\n",
    "\n",
    "# # Step 8: Generate Association Rules\n",
    "# rules = association_rules(frequent_itemsets, metric=\"lift\", min_threshold=1)\n",
    "\n",
    "# # Step 9: Save results\n",
    "# frequent_itemsets.to_csv(\"frequent_itemsets_sources.csv\", index=False)\n",
    "# rules.to_csv(\"association_rules_sources.csv\", index=False)"
   ]
  },
  {
   "cell_type": "markdown",
   "metadata": {},
   "source": [
    "## All the expenditures"
   ]
  },
  {
   "cell_type": "code",
   "execution_count": 165,
   "metadata": {},
   "outputs": [],
   "source": [
    "# import pandas as pd\n",
    "# from mlxtend.frequent_patterns import fpgrowth, association_rules\n",
    "\n",
    "# # binary columns for miscellaneous expenses\n",
    "# binary_columns = [\n",
    "#     \"Alcoholic Beverages (Total)\", \"Tobacco (Total)\", \n",
    "#     \"Other Vegetables (Total)\", \"Services_Primary_Goods\", \"Alcohol Procduction Services\",\n",
    "#     \"Clothing, Footwear and Other Wear\", \"Recreation and Culture (Total)\", \n",
    "#     \"Insurance\", \"Miscellaneous Goods and Services (Total)\", \n",
    "#     \"Durable Furniture\", \"Special Family Occasion\", \"Other Expenditure (inc. Value Consumed, Losses)\",\n",
    "#     \"Accomodation Services\", \"Furnishings, Household Equipment & Routine Household Mainte\"\n",
    "# ]\n",
    "\n",
    "# # low, medium, high for necessities\n",
    "# lmh_columns = [\n",
    "#     \"Housing and water (Total)\", \"House Rent/Rental Value\",\n",
    "#     \"Health (Total)\", \"Transportation (Total)\", \"Communication (Total)\", \"Education (Total)\"\n",
    "# ]\n",
    "\n",
    "# categorical_columns = [\"Family Size\", \"NPCINC\"]\n",
    "\n",
    "# df_filtered = imputted_column_13[binary_columns + lmh_columns + categorical_columns].copy()\n",
    "\n",
    "# df_filtered\n",
    "\n",
    "# df_filtered[binary_columns] = df_filtered[binary_columns].applymap(lambda x: 1 if x > 0 else 0)\n",
    "\n",
    "# # Convert Low/Medium/High using percentiles\n",
    "# def categorize_lmh(value, quantiles):\n",
    "#     if value <= quantiles[0.33]:\n",
    "#         return \"Low\"\n",
    "#     elif value <= quantiles[0.66]:\n",
    "#         return \"Medium\"\n",
    "#     else:\n",
    "#         return \"High\"\n",
    "\n",
    "# for col in lmh_columns:\n",
    "#     quantiles = df_filtered[col].quantile([0.33, 0.66]).to_dict()\n",
    "#     df_filtered[col] = df_filtered[col].apply(lambda x: categorize_lmh(x, quantiles))\n",
    "\n",
    "# # Convert Family Size to Small/Medium/Large\n",
    "# def categorize_family_size(size):\n",
    "#     if size <= 3:\n",
    "#         return \"Small\"\n",
    "#     elif size <= 6:\n",
    "#         return \"Medium\"\n",
    "#     else:\n",
    "#         return \"Large\"\n",
    "\n",
    "# df_filtered[\"Family Size\"] = df_filtered[\"Family Size\"].apply(categorize_family_size)\n",
    "\n",
    "# def categorize_npcinc(decile):\n",
    "#     if decile <= 3:\n",
    "#         return \"Low\"\n",
    "#     elif decile <= 7:\n",
    "#         return \"Medium\"\n",
    "#     else:\n",
    "#         return \"High\"\n",
    "\n",
    "# df_filtered[\"NPCINC\"] = df_filtered[\"NPCINC\"].apply(categorize_npcinc)\n",
    "\n",
    "# # Step 6: One-Hot Encode Categorical Columns (LMH + Family Size + NPCINC)\n",
    "# df_encoded = pd.get_dummies(df_filtered, columns=lmh_columns + categorical_columns)\n",
    "\n",
    "# # Step 7: Apply FP-Growth\n",
    "# min_support = 0.05  # Adjust as needed\n",
    "# frequent_itemsets = fpgrowth(df_encoded, min_support=min_support, use_colnames=True)\n",
    "\n",
    "# # Step 8: Generate Association Rules\n",
    "# rules = association_rules(frequent_itemsets, metric=\"lift\", min_threshold=1)\n",
    "\n",
    "# # Step 9: Save results\n",
    "# frequent_itemsets.to_csv(\"frequent_itemsets_nonfood.csv\", index=False)\n",
    "# rules.to_csv(\"association_rules_nonfood.csv\", index=False)"
   ]
  },
  {
   "cell_type": "markdown",
   "metadata": {},
   "source": [
    "## Necessities and Non necessities"
   ]
  },
  {
   "cell_type": "code",
   "execution_count": null,
   "metadata": {},
   "outputs": [
    {
     "name": "stdout",
     "output_type": "stream",
     "text": [
      "✅ Process complete! Frequent itemsets and association rules saved.\n"
     ]
    }
   ],
   "source": [
    "# import pandas as pd\n",
    "# from mlxtend.frequent_patterns import fpgrowth, association_rules\n",
    "\n",
    "# Define column groups\n",
    "# nonnecessities_columns = [\n",
    "#     \"Alcoholic Beverages (Total)\", \"Tobacco (Total)\", \n",
    "#     \"Other Vegetables (Total)\", \"Services_Primary_Goods\", \"Alcohol Procduction Services\",\n",
    "#     \"Clothing, Footwear and Other Wear\", \"Recreation and Culture (Total)\", \n",
    "#     \"Insurance\", \"Miscellaneous Goods and Services (Total)\", \n",
    "#     \"Durable Furniture\", \"Special Family Occasion\", \"Other Expenditure (inc. Value Consumed, Losses)\",\n",
    "#     \"Accomodation Services\", \"Furnishings, Household Equipment & Routine Household Mainte\"\n",
    "# ]\n",
    "\n",
    "# necessities_columns = [\n",
    "#     \"Housing and water (Total)\", \"House Rent/Rental Value\",\n",
    "#     \"Health (Total)\", \"Transportation (Total)\", \"Communication (Total)\", \"Education (Total)\"\n",
    "# ]\n",
    "\n",
    "# categorical_columns = [\"NPCINC\"]\n",
    "\n",
    "# # 1️⃣ Load relevant columns\n",
    "# df_filtered = imputted_column_13[nonnecessities_columns + necessities_columns + categorical_columns].copy()\n",
    "\n",
    "# # 2️⃣ Convert Non-Necessities and Necessities into Total Spending\n",
    "# df_filtered[\"Non-Necessities Total\"] = df_filtered[nonnecessities_columns].sum(axis=1)\n",
    "# df_filtered[\"Necessities Total\"] = df_filtered[necessities_columns].sum(axis=1)\n",
    "\n",
    "# # 3️⃣ Drop original columns (only if they exist to avoid errors)\n",
    "# existing_columns = set(df_filtered.columns)\n",
    "# columns_to_drop = [col for col in (nonnecessities_columns + necessities_columns) if col in existing_columns]\n",
    "# df_filtered.drop(columns=columns_to_drop, inplace=True)\n",
    "\n",
    "# # 4️⃣ Categorize Non-Necessities and Necessities into Low/Medium/High\n",
    "# def categorize_lmh(value, quantiles):\n",
    "#     if value <= quantiles[0.33]:\n",
    "#         return \"Low\"\n",
    "#     elif value <= quantiles[0.66]:\n",
    "#         return \"Medium\"\n",
    "#     else:\n",
    "#         return \"High\"\n",
    "\n",
    "# for col in [\"Non-Necessities Total\", \"Necessities Total\"]:\n",
    "#     quantiles = df_filtered[col].quantile([0.33, 0.66]).to_dict()\n",
    "#     df_filtered[col] = df_filtered[col].apply(lambda x: categorize_lmh(x, quantiles))\n",
    "\n",
    "# # 5️⃣ Categorize NPCINC into Low/Medium/High\n",
    "# def categorize_npcinc(decile):\n",
    "#     if decile <= 3:\n",
    "#         return \"Low\"\n",
    "#     elif decile <= 7:\n",
    "#         return \"Medium\"\n",
    "#     else:\n",
    "#         return \"High\"\n",
    "\n",
    "# df_filtered[\"NPCINC\"] = df_filtered[\"NPCINC\"].apply(categorize_npcinc)\n",
    "\n",
    "# # 6️⃣ One-Hot Encode Categorical Columns\n",
    "# df_encoded = pd.get_dummies(df_filtered, columns=[\"Non-Necessities Total\", \"Necessities Total\", \"NPCINC\"])\n",
    "\n",
    "# # 7️⃣ Apply FP-Growth\n",
    "# min_support = 0.02  # Adjust as needed\n",
    "# frequent_itemsets = fpgrowth(df_encoded, min_support=min_support, use_colnames=True)\n",
    "\n",
    "# # 8️⃣ Generate Association Rules\n",
    "# rules = association_rules(frequent_itemsets, metric=\"lift\", min_threshold=1)\n",
    "\n",
    "# # 9️⃣ Save Results\n",
    "# frequent_itemsets.to_csv(\"frequent_itemsets_necessities.csv\", index=False)\n",
    "# rules.to_csv(\"association_rules_necessities.csv\", index=False)\n",
    "\n",
    "# print(\"✅ Process complete! Frequent itemsets and association rules saved.\")\n"
   ]
  },
  {
   "cell_type": "markdown",
   "metadata": {},
   "source": [
    "## Expenditure (necessities) categories vs Per Capita income (national)"
   ]
  },
  {
   "cell_type": "code",
   "execution_count": 169,
   "metadata": {},
   "outputs": [],
   "source": [
    "import pandas as pd\n",
    "from mlxtend.frequent_patterns import fpgrowth, association_rules\n",
    "\n",
    "\n",
    "# low, medium, high for necessities\n",
    "lmh_columns = [\n",
    "    \"Housing and water (Total)\", \"House Rent/Rental Value\",\n",
    "    \"Health (Total)\", \"Transportation (Total)\", \"Communication (Total)\", \"Education (Total)\"\n",
    "]\n",
    "\n",
    "categorical_columns = [\"NPCINC\"]\n",
    "\n",
    "df_filtered = imputted_column_13[lmh_columns + categorical_columns].copy()\n",
    "\n",
    "# Convert Low/Medium/High using percentiles\n",
    "def categorize_lmh(value, quantiles):\n",
    "    if value <= quantiles[0.33]:\n",
    "        return \"Low Spending\"\n",
    "    elif value <= quantiles[0.66]:\n",
    "        return \"Medium Spending\"\n",
    "    else:\n",
    "        return \"High Spending\"\n",
    "\n",
    "for col in lmh_columns:\n",
    "    quantiles = df_filtered[col].quantile([0.33, 0.66]).to_dict()\n",
    "    df_filtered[col] = df_filtered[col].apply(lambda x: categorize_lmh(x, quantiles))\n",
    "\n",
    "def categorize_npcinc(decile):\n",
    "    if decile <= 3:\n",
    "        return \"Low\"\n",
    "    elif decile <= 7:\n",
    "        return \"Medium\"\n",
    "    else:\n",
    "        return \"High\"\n",
    "\n",
    "df_filtered[\"NPCINC\"] = df_filtered[\"NPCINC\"].apply(categorize_npcinc)\n",
    "\n",
    "# Step 6: One-Hot Encode Categorical Columns (LMH + Family Size + NPCINC)\n",
    "df_encoded = pd.get_dummies(df_filtered, columns=lmh_columns + categorical_columns)\n",
    "\n",
    "# Step 7: Apply FP-Growth\n",
    "min_support = 0.05  # Adjust as needed\n",
    "frequent_itemsets = fpgrowth(df_encoded, min_support=min_support, use_colnames=True)\n",
    "\n",
    "# Step 8: Generate Association Rules\n",
    "rules = association_rules(frequent_itemsets, metric=\"lift\", min_threshold=1)\n",
    "\n",
    "# Step 9: Save results\n",
    "frequent_itemsets.to_csv(\"frequent_itemsets_necessities_categories.csv\", index=False)\n",
    "rules.to_csv(\"association_rules_necessities_categories.csv\", index=False)"
   ]
  },
  {
   "cell_type": "code",
   "execution_count": null,
   "metadata": {},
   "outputs": [],
   "source": []
  }
 ],
 "metadata": {
  "kernelspec": {
   "display_name": "Python 3",
   "language": "python",
   "name": "python3"
  },
  "language_info": {
   "codemirror_mode": {
    "name": "ipython",
    "version": 3
   },
   "file_extension": ".py",
   "mimetype": "text/x-python",
   "name": "python",
   "nbconvert_exporter": "python",
   "pygments_lexer": "ipython3",
   "version": "3.12.0"
  }
 },
 "nbformat": 4,
 "nbformat_minor": 2
}
